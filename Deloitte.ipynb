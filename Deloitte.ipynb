{
  "cells": [
    {
      "cell_type": "markdown",
      "metadata": {
        "id": "fECLMsZtZm8O"
      },
      "source": [
        "## Import Packages and Data"
      ]
    },
    {
      "cell_type": "code",
      "execution_count": 1,
      "metadata": {
        "id": "E7IaCISjZStM",
        "colab": {
          "base_uri": "https://localhost:8080/"
        },
        "outputId": "cf233a8c-3058-4407-de38-8711f350d8d8"
      },
      "outputs": [
        {
          "output_type": "stream",
          "name": "stderr",
          "text": [
            "/usr/local/lib/python3.7/dist-packages/statsmodels/tools/_testing.py:19: FutureWarning: pandas.util.testing is deprecated. Use the functions in the public API at pandas.testing instead.\n",
            "  import pandas.util.testing as tm\n"
          ]
        }
      ],
      "source": [
        "import pandas as pd\n",
        "import numpy as np\n",
        "import matplotlib.pyplot as plt\n",
        "from sklearn.linear_model import LogisticRegression\n",
        "from sklearn.model_selection import train_test_split,cross_val_score\n",
        "from sklearn.feature_selection import f_classif\n",
        "from sklearn.preprocessing import LabelEncoder, StandardScaler, MinMaxScaler\n",
        "from sklearn import metrics\n",
        "from sklearn.metrics import f1_score\n",
        "from sklearn.metrics import log_loss\n",
        "from scipy import stats\n",
        "import statsmodels.api as sm\n",
        "import math\n",
        "import seaborn as sns\n",
        "from statsmodels.stats.outliers_influence import variance_inflation_factor\n",
        "import sys\n",
        "import pandas.core.algorithms as algos\n",
        "pd.pandas.set_option('display.max_columns',None)"
      ]
    },
    {
      "cell_type": "code",
      "execution_count": 2,
      "metadata": {
        "id": "42KYrAHFZvR6"
      },
      "outputs": [],
      "source": [
        "train=pd.read_csv('/content/drive/MyDrive/Deloitte/train.csv')"
      ]
    },
    {
      "cell_type": "code",
      "execution_count": 3,
      "metadata": {
        "colab": {
          "base_uri": "https://localhost:8080/",
          "height": 408
        },
        "id": "QDMyYSRkZ4xj",
        "outputId": "4f28f5cf-bbb9-4de2-8ef6-f5d68c997a4d"
      },
      "outputs": [
        {
          "output_type": "execute_result",
          "data": {
            "text/html": [
              "\n",
              "  <div id=\"df-b55517b6-13e0-4970-9127-4274edae2791\">\n",
              "    <div class=\"colab-df-container\">\n",
              "      <div>\n",
              "<style scoped>\n",
              "    .dataframe tbody tr th:only-of-type {\n",
              "        vertical-align: middle;\n",
              "    }\n",
              "\n",
              "    .dataframe tbody tr th {\n",
              "        vertical-align: top;\n",
              "    }\n",
              "\n",
              "    .dataframe thead th {\n",
              "        text-align: right;\n",
              "    }\n",
              "</style>\n",
              "<table border=\"1\" class=\"dataframe\">\n",
              "  <thead>\n",
              "    <tr style=\"text-align: right;\">\n",
              "      <th></th>\n",
              "      <th>ID</th>\n",
              "      <th>Loan Amount</th>\n",
              "      <th>Funded Amount</th>\n",
              "      <th>Funded Amount Investor</th>\n",
              "      <th>Term</th>\n",
              "      <th>Batch Enrolled</th>\n",
              "      <th>Interest Rate</th>\n",
              "      <th>Grade</th>\n",
              "      <th>Sub Grade</th>\n",
              "      <th>Employment Duration</th>\n",
              "      <th>Home Ownership</th>\n",
              "      <th>Verification Status</th>\n",
              "      <th>Payment Plan</th>\n",
              "      <th>Loan Title</th>\n",
              "      <th>Debit to Income</th>\n",
              "      <th>Delinquency - two years</th>\n",
              "      <th>Inquires - six months</th>\n",
              "      <th>Open Account</th>\n",
              "      <th>Public Record</th>\n",
              "      <th>Revolving Balance</th>\n",
              "      <th>Revolving Utilities</th>\n",
              "      <th>Total Accounts</th>\n",
              "      <th>Initial List Status</th>\n",
              "      <th>Total Received Interest</th>\n",
              "      <th>Total Received Late Fee</th>\n",
              "      <th>Recoveries</th>\n",
              "      <th>Collection Recovery Fee</th>\n",
              "      <th>Collection 12 months Medical</th>\n",
              "      <th>Application Type</th>\n",
              "      <th>Last week Pay</th>\n",
              "      <th>Accounts Delinquent</th>\n",
              "      <th>Total Collection Amount</th>\n",
              "      <th>Total Current Balance</th>\n",
              "      <th>Total Revolving Credit Limit</th>\n",
              "      <th>Loan Status</th>\n",
              "    </tr>\n",
              "  </thead>\n",
              "  <tbody>\n",
              "    <tr>\n",
              "      <th>0</th>\n",
              "      <td>65087372</td>\n",
              "      <td>10000</td>\n",
              "      <td>32236</td>\n",
              "      <td>12329.36286</td>\n",
              "      <td>59</td>\n",
              "      <td>BAT2522922</td>\n",
              "      <td>11.135007</td>\n",
              "      <td>B</td>\n",
              "      <td>C4</td>\n",
              "      <td>MORTGAGE</td>\n",
              "      <td>176346.62670</td>\n",
              "      <td>Not Verified</td>\n",
              "      <td>n</td>\n",
              "      <td>Debt Consolidation</td>\n",
              "      <td>16.284758</td>\n",
              "      <td>1</td>\n",
              "      <td>0</td>\n",
              "      <td>13</td>\n",
              "      <td>0</td>\n",
              "      <td>24246</td>\n",
              "      <td>74.932551</td>\n",
              "      <td>7</td>\n",
              "      <td>w</td>\n",
              "      <td>2929.646315</td>\n",
              "      <td>0.102055</td>\n",
              "      <td>2.498291</td>\n",
              "      <td>0.793724</td>\n",
              "      <td>0</td>\n",
              "      <td>INDIVIDUAL</td>\n",
              "      <td>49</td>\n",
              "      <td>0</td>\n",
              "      <td>31</td>\n",
              "      <td>311301</td>\n",
              "      <td>6619</td>\n",
              "      <td>0</td>\n",
              "    </tr>\n",
              "    <tr>\n",
              "      <th>1</th>\n",
              "      <td>1450153</td>\n",
              "      <td>3609</td>\n",
              "      <td>11940</td>\n",
              "      <td>12191.99692</td>\n",
              "      <td>59</td>\n",
              "      <td>BAT1586599</td>\n",
              "      <td>12.237563</td>\n",
              "      <td>C</td>\n",
              "      <td>D3</td>\n",
              "      <td>RENT</td>\n",
              "      <td>39833.92100</td>\n",
              "      <td>Source Verified</td>\n",
              "      <td>n</td>\n",
              "      <td>Debt consolidation</td>\n",
              "      <td>15.412409</td>\n",
              "      <td>0</td>\n",
              "      <td>0</td>\n",
              "      <td>12</td>\n",
              "      <td>0</td>\n",
              "      <td>812</td>\n",
              "      <td>78.297186</td>\n",
              "      <td>13</td>\n",
              "      <td>f</td>\n",
              "      <td>772.769385</td>\n",
              "      <td>0.036181</td>\n",
              "      <td>2.377215</td>\n",
              "      <td>0.974821</td>\n",
              "      <td>0</td>\n",
              "      <td>INDIVIDUAL</td>\n",
              "      <td>109</td>\n",
              "      <td>0</td>\n",
              "      <td>53</td>\n",
              "      <td>182610</td>\n",
              "      <td>20885</td>\n",
              "      <td>0</td>\n",
              "    </tr>\n",
              "    <tr>\n",
              "      <th>2</th>\n",
              "      <td>1969101</td>\n",
              "      <td>28276</td>\n",
              "      <td>9311</td>\n",
              "      <td>21603.22455</td>\n",
              "      <td>59</td>\n",
              "      <td>BAT2136391</td>\n",
              "      <td>12.545884</td>\n",
              "      <td>F</td>\n",
              "      <td>D4</td>\n",
              "      <td>MORTGAGE</td>\n",
              "      <td>91506.69105</td>\n",
              "      <td>Source Verified</td>\n",
              "      <td>n</td>\n",
              "      <td>Debt Consolidation</td>\n",
              "      <td>28.137619</td>\n",
              "      <td>0</td>\n",
              "      <td>0</td>\n",
              "      <td>14</td>\n",
              "      <td>0</td>\n",
              "      <td>1843</td>\n",
              "      <td>2.073040</td>\n",
              "      <td>20</td>\n",
              "      <td>w</td>\n",
              "      <td>863.324396</td>\n",
              "      <td>18.778660</td>\n",
              "      <td>4.316277</td>\n",
              "      <td>1.020075</td>\n",
              "      <td>0</td>\n",
              "      <td>INDIVIDUAL</td>\n",
              "      <td>66</td>\n",
              "      <td>0</td>\n",
              "      <td>34</td>\n",
              "      <td>89801</td>\n",
              "      <td>26155</td>\n",
              "      <td>0</td>\n",
              "    </tr>\n",
              "    <tr>\n",
              "      <th>3</th>\n",
              "      <td>6651430</td>\n",
              "      <td>11170</td>\n",
              "      <td>6954</td>\n",
              "      <td>17877.15585</td>\n",
              "      <td>59</td>\n",
              "      <td>BAT2428731</td>\n",
              "      <td>16.731201</td>\n",
              "      <td>C</td>\n",
              "      <td>C3</td>\n",
              "      <td>MORTGAGE</td>\n",
              "      <td>108286.57590</td>\n",
              "      <td>Source Verified</td>\n",
              "      <td>n</td>\n",
              "      <td>Debt consolidation</td>\n",
              "      <td>18.043730</td>\n",
              "      <td>1</td>\n",
              "      <td>0</td>\n",
              "      <td>7</td>\n",
              "      <td>0</td>\n",
              "      <td>13819</td>\n",
              "      <td>67.467951</td>\n",
              "      <td>12</td>\n",
              "      <td>w</td>\n",
              "      <td>288.173196</td>\n",
              "      <td>0.044131</td>\n",
              "      <td>0.107020</td>\n",
              "      <td>0.749971</td>\n",
              "      <td>0</td>\n",
              "      <td>INDIVIDUAL</td>\n",
              "      <td>39</td>\n",
              "      <td>0</td>\n",
              "      <td>40</td>\n",
              "      <td>9189</td>\n",
              "      <td>60214</td>\n",
              "      <td>0</td>\n",
              "    </tr>\n",
              "    <tr>\n",
              "      <th>4</th>\n",
              "      <td>14354669</td>\n",
              "      <td>16890</td>\n",
              "      <td>13226</td>\n",
              "      <td>13539.92667</td>\n",
              "      <td>59</td>\n",
              "      <td>BAT5341619</td>\n",
              "      <td>15.008300</td>\n",
              "      <td>C</td>\n",
              "      <td>D4</td>\n",
              "      <td>MORTGAGE</td>\n",
              "      <td>44234.82545</td>\n",
              "      <td>Source Verified</td>\n",
              "      <td>n</td>\n",
              "      <td>Credit card refinancing</td>\n",
              "      <td>17.209886</td>\n",
              "      <td>1</td>\n",
              "      <td>3</td>\n",
              "      <td>13</td>\n",
              "      <td>1</td>\n",
              "      <td>1544</td>\n",
              "      <td>85.250761</td>\n",
              "      <td>22</td>\n",
              "      <td>w</td>\n",
              "      <td>129.239553</td>\n",
              "      <td>19.306646</td>\n",
              "      <td>1294.818751</td>\n",
              "      <td>0.368953</td>\n",
              "      <td>0</td>\n",
              "      <td>INDIVIDUAL</td>\n",
              "      <td>18</td>\n",
              "      <td>0</td>\n",
              "      <td>430</td>\n",
              "      <td>126029</td>\n",
              "      <td>22579</td>\n",
              "      <td>0</td>\n",
              "    </tr>\n",
              "  </tbody>\n",
              "</table>\n",
              "</div>\n",
              "      <button class=\"colab-df-convert\" onclick=\"convertToInteractive('df-b55517b6-13e0-4970-9127-4274edae2791')\"\n",
              "              title=\"Convert this dataframe to an interactive table.\"\n",
              "              style=\"display:none;\">\n",
              "        \n",
              "  <svg xmlns=\"http://www.w3.org/2000/svg\" height=\"24px\"viewBox=\"0 0 24 24\"\n",
              "       width=\"24px\">\n",
              "    <path d=\"M0 0h24v24H0V0z\" fill=\"none\"/>\n",
              "    <path d=\"M18.56 5.44l.94 2.06.94-2.06 2.06-.94-2.06-.94-.94-2.06-.94 2.06-2.06.94zm-11 1L8.5 8.5l.94-2.06 2.06-.94-2.06-.94L8.5 2.5l-.94 2.06-2.06.94zm10 10l.94 2.06.94-2.06 2.06-.94-2.06-.94-.94-2.06-.94 2.06-2.06.94z\"/><path d=\"M17.41 7.96l-1.37-1.37c-.4-.4-.92-.59-1.43-.59-.52 0-1.04.2-1.43.59L10.3 9.45l-7.72 7.72c-.78.78-.78 2.05 0 2.83L4 21.41c.39.39.9.59 1.41.59.51 0 1.02-.2 1.41-.59l7.78-7.78 2.81-2.81c.8-.78.8-2.07 0-2.86zM5.41 20L4 18.59l7.72-7.72 1.47 1.35L5.41 20z\"/>\n",
              "  </svg>\n",
              "      </button>\n",
              "      \n",
              "  <style>\n",
              "    .colab-df-container {\n",
              "      display:flex;\n",
              "      flex-wrap:wrap;\n",
              "      gap: 12px;\n",
              "    }\n",
              "\n",
              "    .colab-df-convert {\n",
              "      background-color: #E8F0FE;\n",
              "      border: none;\n",
              "      border-radius: 50%;\n",
              "      cursor: pointer;\n",
              "      display: none;\n",
              "      fill: #1967D2;\n",
              "      height: 32px;\n",
              "      padding: 0 0 0 0;\n",
              "      width: 32px;\n",
              "    }\n",
              "\n",
              "    .colab-df-convert:hover {\n",
              "      background-color: #E2EBFA;\n",
              "      box-shadow: 0px 1px 2px rgba(60, 64, 67, 0.3), 0px 1px 3px 1px rgba(60, 64, 67, 0.15);\n",
              "      fill: #174EA6;\n",
              "    }\n",
              "\n",
              "    [theme=dark] .colab-df-convert {\n",
              "      background-color: #3B4455;\n",
              "      fill: #D2E3FC;\n",
              "    }\n",
              "\n",
              "    [theme=dark] .colab-df-convert:hover {\n",
              "      background-color: #434B5C;\n",
              "      box-shadow: 0px 1px 3px 1px rgba(0, 0, 0, 0.15);\n",
              "      filter: drop-shadow(0px 1px 2px rgba(0, 0, 0, 0.3));\n",
              "      fill: #FFFFFF;\n",
              "    }\n",
              "  </style>\n",
              "\n",
              "      <script>\n",
              "        const buttonEl =\n",
              "          document.querySelector('#df-b55517b6-13e0-4970-9127-4274edae2791 button.colab-df-convert');\n",
              "        buttonEl.style.display =\n",
              "          google.colab.kernel.accessAllowed ? 'block' : 'none';\n",
              "\n",
              "        async function convertToInteractive(key) {\n",
              "          const element = document.querySelector('#df-b55517b6-13e0-4970-9127-4274edae2791');\n",
              "          const dataTable =\n",
              "            await google.colab.kernel.invokeFunction('convertToInteractive',\n",
              "                                                     [key], {});\n",
              "          if (!dataTable) return;\n",
              "\n",
              "          const docLinkHtml = 'Like what you see? Visit the ' +\n",
              "            '<a target=\"_blank\" href=https://colab.research.google.com/notebooks/data_table.ipynb>data table notebook</a>'\n",
              "            + ' to learn more about interactive tables.';\n",
              "          element.innerHTML = '';\n",
              "          dataTable['output_type'] = 'display_data';\n",
              "          await google.colab.output.renderOutput(dataTable, element);\n",
              "          const docLink = document.createElement('div');\n",
              "          docLink.innerHTML = docLinkHtml;\n",
              "          element.appendChild(docLink);\n",
              "        }\n",
              "      </script>\n",
              "    </div>\n",
              "  </div>\n",
              "  "
            ],
            "text/plain": [
              "         ID  Loan Amount  Funded Amount  Funded Amount Investor  Term  \\\n",
              "0  65087372        10000          32236             12329.36286    59   \n",
              "1   1450153         3609          11940             12191.99692    59   \n",
              "2   1969101        28276           9311             21603.22455    59   \n",
              "3   6651430        11170           6954             17877.15585    59   \n",
              "4  14354669        16890          13226             13539.92667    59   \n",
              "\n",
              "  Batch Enrolled  Interest Rate Grade Sub Grade Employment Duration  \\\n",
              "0     BAT2522922      11.135007     B        C4            MORTGAGE   \n",
              "1     BAT1586599      12.237563     C        D3                RENT   \n",
              "2     BAT2136391      12.545884     F        D4            MORTGAGE   \n",
              "3     BAT2428731      16.731201     C        C3            MORTGAGE   \n",
              "4     BAT5341619      15.008300     C        D4            MORTGAGE   \n",
              "\n",
              "   Home Ownership Verification Status Payment Plan               Loan Title  \\\n",
              "0    176346.62670        Not Verified            n       Debt Consolidation   \n",
              "1     39833.92100     Source Verified            n       Debt consolidation   \n",
              "2     91506.69105     Source Verified            n       Debt Consolidation   \n",
              "3    108286.57590     Source Verified            n       Debt consolidation   \n",
              "4     44234.82545     Source Verified            n  Credit card refinancing   \n",
              "\n",
              "   Debit to Income  Delinquency - two years  Inquires - six months  \\\n",
              "0        16.284758                        1                      0   \n",
              "1        15.412409                        0                      0   \n",
              "2        28.137619                        0                      0   \n",
              "3        18.043730                        1                      0   \n",
              "4        17.209886                        1                      3   \n",
              "\n",
              "   Open Account  Public Record  Revolving Balance  Revolving Utilities  \\\n",
              "0            13              0              24246            74.932551   \n",
              "1            12              0                812            78.297186   \n",
              "2            14              0               1843             2.073040   \n",
              "3             7              0              13819            67.467951   \n",
              "4            13              1               1544            85.250761   \n",
              "\n",
              "   Total Accounts Initial List Status  Total Received Interest  \\\n",
              "0               7                   w              2929.646315   \n",
              "1              13                   f               772.769385   \n",
              "2              20                   w               863.324396   \n",
              "3              12                   w               288.173196   \n",
              "4              22                   w               129.239553   \n",
              "\n",
              "   Total Received Late Fee   Recoveries  Collection Recovery Fee  \\\n",
              "0                 0.102055     2.498291                 0.793724   \n",
              "1                 0.036181     2.377215                 0.974821   \n",
              "2                18.778660     4.316277                 1.020075   \n",
              "3                 0.044131     0.107020                 0.749971   \n",
              "4                19.306646  1294.818751                 0.368953   \n",
              "\n",
              "   Collection 12 months Medical Application Type  Last week Pay  \\\n",
              "0                             0       INDIVIDUAL             49   \n",
              "1                             0       INDIVIDUAL            109   \n",
              "2                             0       INDIVIDUAL             66   \n",
              "3                             0       INDIVIDUAL             39   \n",
              "4                             0       INDIVIDUAL             18   \n",
              "\n",
              "   Accounts Delinquent  Total Collection Amount  Total Current Balance  \\\n",
              "0                    0                       31                 311301   \n",
              "1                    0                       53                 182610   \n",
              "2                    0                       34                  89801   \n",
              "3                    0                       40                   9189   \n",
              "4                    0                      430                 126029   \n",
              "\n",
              "   Total Revolving Credit Limit  Loan Status  \n",
              "0                          6619            0  \n",
              "1                         20885            0  \n",
              "2                         26155            0  \n",
              "3                         60214            0  \n",
              "4                         22579            0  "
            ]
          },
          "metadata": {},
          "execution_count": 3
        }
      ],
      "source": [
        "train.head()"
      ]
    },
    {
      "cell_type": "code",
      "execution_count": 4,
      "metadata": {
        "colab": {
          "base_uri": "https://localhost:8080/"
        },
        "id": "38jxm9wnaE7Z",
        "outputId": "4e113d99-63aa-43a4-e7ba-8f733faa147b"
      },
      "outputs": [
        {
          "output_type": "stream",
          "name": "stdout",
          "text": [
            "<class 'pandas.core.frame.DataFrame'>\n",
            "RangeIndex: 67463 entries, 0 to 67462\n",
            "Data columns (total 35 columns):\n",
            " #   Column                        Non-Null Count  Dtype  \n",
            "---  ------                        --------------  -----  \n",
            " 0   ID                            67463 non-null  int64  \n",
            " 1   Loan Amount                   67463 non-null  int64  \n",
            " 2   Funded Amount                 67463 non-null  int64  \n",
            " 3   Funded Amount Investor        67463 non-null  float64\n",
            " 4   Term                          67463 non-null  int64  \n",
            " 5   Batch Enrolled                67463 non-null  object \n",
            " 6   Interest Rate                 67463 non-null  float64\n",
            " 7   Grade                         67463 non-null  object \n",
            " 8   Sub Grade                     67463 non-null  object \n",
            " 9   Employment Duration           67463 non-null  object \n",
            " 10  Home Ownership                67463 non-null  float64\n",
            " 11  Verification Status           67463 non-null  object \n",
            " 12  Payment Plan                  67463 non-null  object \n",
            " 13  Loan Title                    67463 non-null  object \n",
            " 14  Debit to Income               67463 non-null  float64\n",
            " 15  Delinquency - two years       67463 non-null  int64  \n",
            " 16  Inquires - six months         67463 non-null  int64  \n",
            " 17  Open Account                  67463 non-null  int64  \n",
            " 18  Public Record                 67463 non-null  int64  \n",
            " 19  Revolving Balance             67463 non-null  int64  \n",
            " 20  Revolving Utilities           67463 non-null  float64\n",
            " 21  Total Accounts                67463 non-null  int64  \n",
            " 22  Initial List Status           67463 non-null  object \n",
            " 23  Total Received Interest       67463 non-null  float64\n",
            " 24  Total Received Late Fee       67463 non-null  float64\n",
            " 25  Recoveries                    67463 non-null  float64\n",
            " 26  Collection Recovery Fee       67463 non-null  float64\n",
            " 27  Collection 12 months Medical  67463 non-null  int64  \n",
            " 28  Application Type              67463 non-null  object \n",
            " 29  Last week Pay                 67463 non-null  int64  \n",
            " 30  Accounts Delinquent           67463 non-null  int64  \n",
            " 31  Total Collection Amount       67463 non-null  int64  \n",
            " 32  Total Current Balance         67463 non-null  int64  \n",
            " 33  Total Revolving Credit Limit  67463 non-null  int64  \n",
            " 34  Loan Status                   67463 non-null  int64  \n",
            "dtypes: float64(9), int64(17), object(9)\n",
            "memory usage: 18.0+ MB\n"
          ]
        }
      ],
      "source": [
        "train.info()"
      ]
    },
    {
      "cell_type": "code",
      "execution_count": 5,
      "metadata": {
        "id": "2jLS84p1aO9H"
      },
      "outputs": [],
      "source": [
        "test=pd.read_csv('/content/drive/MyDrive/Deloitte/test.csv')"
      ]
    },
    {
      "cell_type": "code",
      "execution_count": 6,
      "metadata": {
        "colab": {
          "base_uri": "https://localhost:8080/"
        },
        "id": "K79qHB21aWcp",
        "outputId": "06785bb5-28b7-4577-ceb6-806c2515237f"
      },
      "outputs": [
        {
          "output_type": "stream",
          "name": "stdout",
          "text": [
            "<class 'pandas.core.frame.DataFrame'>\n",
            "RangeIndex: 28913 entries, 0 to 28912\n",
            "Data columns (total 35 columns):\n",
            " #   Column                        Non-Null Count  Dtype  \n",
            "---  ------                        --------------  -----  \n",
            " 0   ID                            28913 non-null  int64  \n",
            " 1   Loan Amount                   28913 non-null  int64  \n",
            " 2   Funded Amount                 28913 non-null  int64  \n",
            " 3   Funded Amount Investor        28913 non-null  float64\n",
            " 4   Term                          28913 non-null  int64  \n",
            " 5   Batch Enrolled                28913 non-null  object \n",
            " 6   Interest Rate                 28913 non-null  float64\n",
            " 7   Grade                         28913 non-null  object \n",
            " 8   Sub Grade                     28913 non-null  object \n",
            " 9   Employment Duration           28913 non-null  object \n",
            " 10  Home Ownership                28913 non-null  float64\n",
            " 11  Verification Status           28913 non-null  object \n",
            " 12  Payment Plan                  28913 non-null  object \n",
            " 13  Loan Title                    28913 non-null  object \n",
            " 14  Debit to Income               28913 non-null  float64\n",
            " 15  Delinquency - two years       28913 non-null  int64  \n",
            " 16  Inquires - six months         28913 non-null  int64  \n",
            " 17  Open Account                  28913 non-null  int64  \n",
            " 18  Public Record                 28913 non-null  int64  \n",
            " 19  Revolving Balance             28913 non-null  int64  \n",
            " 20  Revolving Utilities           28913 non-null  float64\n",
            " 21  Total Accounts                28913 non-null  int64  \n",
            " 22  Initial List Status           28913 non-null  object \n",
            " 23  Total Received Interest       28913 non-null  float64\n",
            " 24  Total Received Late Fee       28913 non-null  float64\n",
            " 25  Recoveries                    28913 non-null  float64\n",
            " 26  Collection Recovery Fee       28913 non-null  float64\n",
            " 27  Collection 12 months Medical  28913 non-null  int64  \n",
            " 28  Application Type              28913 non-null  object \n",
            " 29  Last week Pay                 28913 non-null  int64  \n",
            " 30  Accounts Delinquent           28913 non-null  int64  \n",
            " 31  Total Collection Amount       28913 non-null  int64  \n",
            " 32  Total Current Balance         28913 non-null  int64  \n",
            " 33  Total Revolving Credit Limit  28913 non-null  int64  \n",
            " 34  Loan Status                   0 non-null      float64\n",
            "dtypes: float64(10), int64(16), object(9)\n",
            "memory usage: 7.7+ MB\n"
          ]
        }
      ],
      "source": [
        "test.info()"
      ]
    },
    {
      "cell_type": "code",
      "execution_count": 7,
      "metadata": {
        "colab": {
          "base_uri": "https://localhost:8080/"
        },
        "id": "xuKywKtvad6F",
        "outputId": "9569ce5d-932a-43e9-b15a-e1199c4f9188"
      },
      "outputs": [
        {
          "output_type": "execute_result",
          "data": {
            "text/plain": [
              "0    61222\n",
              "1     6241\n",
              "Name: Loan Status, dtype: int64"
            ]
          },
          "metadata": {},
          "execution_count": 7
        }
      ],
      "source": [
        "train['Loan Status'].value_counts()"
      ]
    },
    {
      "cell_type": "markdown",
      "metadata": {
        "id": "DelhZwQx-aRs"
      },
      "source": [
        "### Combine train and Test"
      ]
    },
    {
      "cell_type": "code",
      "execution_count": 8,
      "metadata": {
        "id": "st7DA8tBalCT"
      },
      "outputs": [],
      "source": [
        "df=pd.concat([train,test],axis='rows')"
      ]
    },
    {
      "cell_type": "code",
      "execution_count": 9,
      "metadata": {
        "colab": {
          "base_uri": "https://localhost:8080/",
          "height": 263
        },
        "id": "aqZS4yK_s0tP",
        "outputId": "be4e9064-cb48-4064-caa6-017768b9a6c4"
      },
      "outputs": [
        {
          "output_type": "execute_result",
          "data": {
            "text/html": [
              "\n",
              "  <div id=\"df-5c860675-7113-455a-a8a0-5ed153acf6fc\">\n",
              "    <div class=\"colab-df-container\">\n",
              "      <div>\n",
              "<style scoped>\n",
              "    .dataframe tbody tr th:only-of-type {\n",
              "        vertical-align: middle;\n",
              "    }\n",
              "\n",
              "    .dataframe tbody tr th {\n",
              "        vertical-align: top;\n",
              "    }\n",
              "\n",
              "    .dataframe thead th {\n",
              "        text-align: right;\n",
              "    }\n",
              "</style>\n",
              "<table border=\"1\" class=\"dataframe\">\n",
              "  <thead>\n",
              "    <tr style=\"text-align: right;\">\n",
              "      <th></th>\n",
              "      <th>ID</th>\n",
              "      <th>Loan Amount</th>\n",
              "      <th>Funded Amount</th>\n",
              "      <th>Funded Amount Investor</th>\n",
              "      <th>Term</th>\n",
              "      <th>Batch Enrolled</th>\n",
              "      <th>Interest Rate</th>\n",
              "      <th>Grade</th>\n",
              "      <th>Sub Grade</th>\n",
              "      <th>Employment Duration</th>\n",
              "      <th>Home Ownership</th>\n",
              "      <th>Verification Status</th>\n",
              "      <th>Payment Plan</th>\n",
              "      <th>Loan Title</th>\n",
              "      <th>Debit to Income</th>\n",
              "      <th>Delinquency - two years</th>\n",
              "      <th>Inquires - six months</th>\n",
              "      <th>Open Account</th>\n",
              "      <th>Public Record</th>\n",
              "      <th>Revolving Balance</th>\n",
              "      <th>Revolving Utilities</th>\n",
              "      <th>Total Accounts</th>\n",
              "      <th>Initial List Status</th>\n",
              "      <th>Total Received Interest</th>\n",
              "      <th>Total Received Late Fee</th>\n",
              "      <th>Recoveries</th>\n",
              "      <th>Collection Recovery Fee</th>\n",
              "      <th>Collection 12 months Medical</th>\n",
              "      <th>Application Type</th>\n",
              "      <th>Last week Pay</th>\n",
              "      <th>Accounts Delinquent</th>\n",
              "      <th>Total Collection Amount</th>\n",
              "      <th>Total Current Balance</th>\n",
              "      <th>Total Revolving Credit Limit</th>\n",
              "      <th>Loan Status</th>\n",
              "    </tr>\n",
              "  </thead>\n",
              "  <tbody>\n",
              "    <tr>\n",
              "      <th>0</th>\n",
              "      <td>65087372</td>\n",
              "      <td>10000</td>\n",
              "      <td>32236</td>\n",
              "      <td>12329.36286</td>\n",
              "      <td>59</td>\n",
              "      <td>BAT2522922</td>\n",
              "      <td>11.135007</td>\n",
              "      <td>B</td>\n",
              "      <td>C4</td>\n",
              "      <td>MORTGAGE</td>\n",
              "      <td>176346.6267</td>\n",
              "      <td>Not Verified</td>\n",
              "      <td>n</td>\n",
              "      <td>Debt Consolidation</td>\n",
              "      <td>16.284758</td>\n",
              "      <td>1</td>\n",
              "      <td>0</td>\n",
              "      <td>13</td>\n",
              "      <td>0</td>\n",
              "      <td>24246</td>\n",
              "      <td>74.932551</td>\n",
              "      <td>7</td>\n",
              "      <td>w</td>\n",
              "      <td>2929.646315</td>\n",
              "      <td>0.102055</td>\n",
              "      <td>2.498291</td>\n",
              "      <td>0.793724</td>\n",
              "      <td>0</td>\n",
              "      <td>INDIVIDUAL</td>\n",
              "      <td>49</td>\n",
              "      <td>0</td>\n",
              "      <td>31</td>\n",
              "      <td>311301</td>\n",
              "      <td>6619</td>\n",
              "      <td>0.0</td>\n",
              "    </tr>\n",
              "    <tr>\n",
              "      <th>1</th>\n",
              "      <td>1450153</td>\n",
              "      <td>3609</td>\n",
              "      <td>11940</td>\n",
              "      <td>12191.99692</td>\n",
              "      <td>59</td>\n",
              "      <td>BAT1586599</td>\n",
              "      <td>12.237563</td>\n",
              "      <td>C</td>\n",
              "      <td>D3</td>\n",
              "      <td>RENT</td>\n",
              "      <td>39833.9210</td>\n",
              "      <td>Source Verified</td>\n",
              "      <td>n</td>\n",
              "      <td>Debt consolidation</td>\n",
              "      <td>15.412409</td>\n",
              "      <td>0</td>\n",
              "      <td>0</td>\n",
              "      <td>12</td>\n",
              "      <td>0</td>\n",
              "      <td>812</td>\n",
              "      <td>78.297186</td>\n",
              "      <td>13</td>\n",
              "      <td>f</td>\n",
              "      <td>772.769385</td>\n",
              "      <td>0.036181</td>\n",
              "      <td>2.377215</td>\n",
              "      <td>0.974821</td>\n",
              "      <td>0</td>\n",
              "      <td>INDIVIDUAL</td>\n",
              "      <td>109</td>\n",
              "      <td>0</td>\n",
              "      <td>53</td>\n",
              "      <td>182610</td>\n",
              "      <td>20885</td>\n",
              "      <td>0.0</td>\n",
              "    </tr>\n",
              "  </tbody>\n",
              "</table>\n",
              "</div>\n",
              "      <button class=\"colab-df-convert\" onclick=\"convertToInteractive('df-5c860675-7113-455a-a8a0-5ed153acf6fc')\"\n",
              "              title=\"Convert this dataframe to an interactive table.\"\n",
              "              style=\"display:none;\">\n",
              "        \n",
              "  <svg xmlns=\"http://www.w3.org/2000/svg\" height=\"24px\"viewBox=\"0 0 24 24\"\n",
              "       width=\"24px\">\n",
              "    <path d=\"M0 0h24v24H0V0z\" fill=\"none\"/>\n",
              "    <path d=\"M18.56 5.44l.94 2.06.94-2.06 2.06-.94-2.06-.94-.94-2.06-.94 2.06-2.06.94zm-11 1L8.5 8.5l.94-2.06 2.06-.94-2.06-.94L8.5 2.5l-.94 2.06-2.06.94zm10 10l.94 2.06.94-2.06 2.06-.94-2.06-.94-.94-2.06-.94 2.06-2.06.94z\"/><path d=\"M17.41 7.96l-1.37-1.37c-.4-.4-.92-.59-1.43-.59-.52 0-1.04.2-1.43.59L10.3 9.45l-7.72 7.72c-.78.78-.78 2.05 0 2.83L4 21.41c.39.39.9.59 1.41.59.51 0 1.02-.2 1.41-.59l7.78-7.78 2.81-2.81c.8-.78.8-2.07 0-2.86zM5.41 20L4 18.59l7.72-7.72 1.47 1.35L5.41 20z\"/>\n",
              "  </svg>\n",
              "      </button>\n",
              "      \n",
              "  <style>\n",
              "    .colab-df-container {\n",
              "      display:flex;\n",
              "      flex-wrap:wrap;\n",
              "      gap: 12px;\n",
              "    }\n",
              "\n",
              "    .colab-df-convert {\n",
              "      background-color: #E8F0FE;\n",
              "      border: none;\n",
              "      border-radius: 50%;\n",
              "      cursor: pointer;\n",
              "      display: none;\n",
              "      fill: #1967D2;\n",
              "      height: 32px;\n",
              "      padding: 0 0 0 0;\n",
              "      width: 32px;\n",
              "    }\n",
              "\n",
              "    .colab-df-convert:hover {\n",
              "      background-color: #E2EBFA;\n",
              "      box-shadow: 0px 1px 2px rgba(60, 64, 67, 0.3), 0px 1px 3px 1px rgba(60, 64, 67, 0.15);\n",
              "      fill: #174EA6;\n",
              "    }\n",
              "\n",
              "    [theme=dark] .colab-df-convert {\n",
              "      background-color: #3B4455;\n",
              "      fill: #D2E3FC;\n",
              "    }\n",
              "\n",
              "    [theme=dark] .colab-df-convert:hover {\n",
              "      background-color: #434B5C;\n",
              "      box-shadow: 0px 1px 3px 1px rgba(0, 0, 0, 0.15);\n",
              "      filter: drop-shadow(0px 1px 2px rgba(0, 0, 0, 0.3));\n",
              "      fill: #FFFFFF;\n",
              "    }\n",
              "  </style>\n",
              "\n",
              "      <script>\n",
              "        const buttonEl =\n",
              "          document.querySelector('#df-5c860675-7113-455a-a8a0-5ed153acf6fc button.colab-df-convert');\n",
              "        buttonEl.style.display =\n",
              "          google.colab.kernel.accessAllowed ? 'block' : 'none';\n",
              "\n",
              "        async function convertToInteractive(key) {\n",
              "          const element = document.querySelector('#df-5c860675-7113-455a-a8a0-5ed153acf6fc');\n",
              "          const dataTable =\n",
              "            await google.colab.kernel.invokeFunction('convertToInteractive',\n",
              "                                                     [key], {});\n",
              "          if (!dataTable) return;\n",
              "\n",
              "          const docLinkHtml = 'Like what you see? Visit the ' +\n",
              "            '<a target=\"_blank\" href=https://colab.research.google.com/notebooks/data_table.ipynb>data table notebook</a>'\n",
              "            + ' to learn more about interactive tables.';\n",
              "          element.innerHTML = '';\n",
              "          dataTable['output_type'] = 'display_data';\n",
              "          await google.colab.output.renderOutput(dataTable, element);\n",
              "          const docLink = document.createElement('div');\n",
              "          docLink.innerHTML = docLinkHtml;\n",
              "          element.appendChild(docLink);\n",
              "        }\n",
              "      </script>\n",
              "    </div>\n",
              "  </div>\n",
              "  "
            ],
            "text/plain": [
              "         ID  Loan Amount  Funded Amount  Funded Amount Investor  Term  \\\n",
              "0  65087372        10000          32236             12329.36286    59   \n",
              "1   1450153         3609          11940             12191.99692    59   \n",
              "\n",
              "  Batch Enrolled  Interest Rate Grade Sub Grade Employment Duration  \\\n",
              "0     BAT2522922      11.135007     B        C4            MORTGAGE   \n",
              "1     BAT1586599      12.237563     C        D3                RENT   \n",
              "\n",
              "   Home Ownership Verification Status Payment Plan          Loan Title  \\\n",
              "0     176346.6267        Not Verified            n  Debt Consolidation   \n",
              "1      39833.9210     Source Verified            n  Debt consolidation   \n",
              "\n",
              "   Debit to Income  Delinquency - two years  Inquires - six months  \\\n",
              "0        16.284758                        1                      0   \n",
              "1        15.412409                        0                      0   \n",
              "\n",
              "   Open Account  Public Record  Revolving Balance  Revolving Utilities  \\\n",
              "0            13              0              24246            74.932551   \n",
              "1            12              0                812            78.297186   \n",
              "\n",
              "   Total Accounts Initial List Status  Total Received Interest  \\\n",
              "0               7                   w              2929.646315   \n",
              "1              13                   f               772.769385   \n",
              "\n",
              "   Total Received Late Fee  Recoveries  Collection Recovery Fee  \\\n",
              "0                 0.102055    2.498291                 0.793724   \n",
              "1                 0.036181    2.377215                 0.974821   \n",
              "\n",
              "   Collection 12 months Medical Application Type  Last week Pay  \\\n",
              "0                             0       INDIVIDUAL             49   \n",
              "1                             0       INDIVIDUAL            109   \n",
              "\n",
              "   Accounts Delinquent  Total Collection Amount  Total Current Balance  \\\n",
              "0                    0                       31                 311301   \n",
              "1                    0                       53                 182610   \n",
              "\n",
              "   Total Revolving Credit Limit  Loan Status  \n",
              "0                          6619          0.0  \n",
              "1                         20885          0.0  "
            ]
          },
          "metadata": {},
          "execution_count": 9
        }
      ],
      "source": [
        "df.head(2)"
      ]
    },
    {
      "cell_type": "code",
      "execution_count": 10,
      "metadata": {
        "colab": {
          "base_uri": "https://localhost:8080/"
        },
        "id": "vcP8CUBZs2t6",
        "outputId": "e4191fee-8131-490c-b2ae-f016121f466a"
      },
      "outputs": [
        {
          "output_type": "stream",
          "name": "stdout",
          "text": [
            "<class 'pandas.core.frame.DataFrame'>\n",
            "Int64Index: 96376 entries, 0 to 28912\n",
            "Data columns (total 35 columns):\n",
            " #   Column                        Non-Null Count  Dtype  \n",
            "---  ------                        --------------  -----  \n",
            " 0   ID                            96376 non-null  int64  \n",
            " 1   Loan Amount                   96376 non-null  int64  \n",
            " 2   Funded Amount                 96376 non-null  int64  \n",
            " 3   Funded Amount Investor        96376 non-null  float64\n",
            " 4   Term                          96376 non-null  int64  \n",
            " 5   Batch Enrolled                96376 non-null  object \n",
            " 6   Interest Rate                 96376 non-null  float64\n",
            " 7   Grade                         96376 non-null  object \n",
            " 8   Sub Grade                     96376 non-null  object \n",
            " 9   Employment Duration           96376 non-null  object \n",
            " 10  Home Ownership                96376 non-null  float64\n",
            " 11  Verification Status           96376 non-null  object \n",
            " 12  Payment Plan                  96376 non-null  object \n",
            " 13  Loan Title                    96376 non-null  object \n",
            " 14  Debit to Income               96376 non-null  float64\n",
            " 15  Delinquency - two years       96376 non-null  int64  \n",
            " 16  Inquires - six months         96376 non-null  int64  \n",
            " 17  Open Account                  96376 non-null  int64  \n",
            " 18  Public Record                 96376 non-null  int64  \n",
            " 19  Revolving Balance             96376 non-null  int64  \n",
            " 20  Revolving Utilities           96376 non-null  float64\n",
            " 21  Total Accounts                96376 non-null  int64  \n",
            " 22  Initial List Status           96376 non-null  object \n",
            " 23  Total Received Interest       96376 non-null  float64\n",
            " 24  Total Received Late Fee       96376 non-null  float64\n",
            " 25  Recoveries                    96376 non-null  float64\n",
            " 26  Collection Recovery Fee       96376 non-null  float64\n",
            " 27  Collection 12 months Medical  96376 non-null  int64  \n",
            " 28  Application Type              96376 non-null  object \n",
            " 29  Last week Pay                 96376 non-null  int64  \n",
            " 30  Accounts Delinquent           96376 non-null  int64  \n",
            " 31  Total Collection Amount       96376 non-null  int64  \n",
            " 32  Total Current Balance         96376 non-null  int64  \n",
            " 33  Total Revolving Credit Limit  96376 non-null  int64  \n",
            " 34  Loan Status                   67463 non-null  float64\n",
            "dtypes: float64(10), int64(16), object(9)\n",
            "memory usage: 26.5+ MB\n"
          ]
        }
      ],
      "source": [
        "df.info()"
      ]
    },
    {
      "cell_type": "code",
      "execution_count": 10,
      "metadata": {
        "id": "8mlV1UwHDCKY"
      },
      "outputs": [],
      "source": [
        ""
      ]
    },
    {
      "cell_type": "markdown",
      "metadata": {
        "id": "MTxDJPAj-fcO"
      },
      "source": [
        "### Visualize continous feature"
      ]
    },
    {
      "cell_type": "code",
      "execution_count": 11,
      "metadata": {
        "colab": {
          "base_uri": "https://localhost:8080/"
        },
        "id": "ZRFh8NVEatCL",
        "outputId": "f2493fdd-c95e-4788-ade0-dcc2f1c2dcc0"
      },
      "outputs": [
        {
          "output_type": "execute_result",
          "data": {
            "text/plain": [
              "['ID',\n",
              " 'Loan Amount',\n",
              " 'Funded Amount',\n",
              " 'Funded Amount Investor',\n",
              " 'Term',\n",
              " 'Interest Rate',\n",
              " 'Home Ownership',\n",
              " 'Debit to Income',\n",
              " 'Delinquency - two years',\n",
              " 'Inquires - six months',\n",
              " 'Open Account',\n",
              " 'Public Record',\n",
              " 'Revolving Balance',\n",
              " 'Revolving Utilities',\n",
              " 'Total Accounts',\n",
              " 'Total Received Interest',\n",
              " 'Total Received Late Fee',\n",
              " 'Recoveries',\n",
              " 'Collection Recovery Fee',\n",
              " 'Collection 12 months Medical',\n",
              " 'Last week Pay',\n",
              " 'Accounts Delinquent',\n",
              " 'Total Collection Amount',\n",
              " 'Total Current Balance',\n",
              " 'Total Revolving Credit Limit',\n",
              " 'Loan Status']"
            ]
          },
          "metadata": {},
          "execution_count": 11
        }
      ],
      "source": [
        "cont_feature=[feature for feature in df.columns if df[feature].dtype!='O']\n",
        "cont_feature"
      ]
    },
    {
      "cell_type": "code",
      "execution_count": 12,
      "metadata": {
        "colab": {
          "base_uri": "https://localhost:8080/"
        },
        "id": "iFwM9Mv_cI0T",
        "outputId": "db4ed34f-7af8-4c94-b7cc-727e82f86ec3"
      },
      "outputs": [
        {
          "output_type": "execute_result",
          "data": {
            "text/plain": [
              "ID                              96376\n",
              "Loan Amount                     29737\n",
              "Funded Amount                   26793\n",
              "Funded Amount Investor          89848\n",
              "Term                                4\n",
              "Interest Rate                   89117\n",
              "Home Ownership                  89998\n",
              "Debit to Income                 91895\n",
              "Delinquency - two years            10\n",
              "Inquires - six months               6\n",
              "Open Account                       36\n",
              "Public Record                       5\n",
              "Revolving Balance               24628\n",
              "Revolving Utilities             89948\n",
              "Total Accounts                     70\n",
              "Total Received Interest         96014\n",
              "Total Received Late Fee         88877\n",
              "Recoveries                      88961\n",
              "Collection Recovery Fee         88861\n",
              "Collection 12 months Medical        2\n",
              "Last week Pay                     162\n",
              "Accounts Delinquent                 2\n",
              "Total Collection Amount          2757\n",
              "Total Current Balance           83321\n",
              "Total Revolving Credit Limit    44236\n",
              "Loan Status                         2\n",
              "dtype: int64"
            ]
          },
          "metadata": {},
          "execution_count": 12
        }
      ],
      "source": [
        "df[cont_feature].nunique()"
      ]
    },
    {
      "cell_type": "markdown",
      "metadata": {
        "id": "gOsNN45S-kY1"
      },
      "source": [
        "### Check the nature of decsrete feature"
      ]
    },
    {
      "cell_type": "code",
      "execution_count": 13,
      "metadata": {
        "id": "9Ibx68xAdOyp"
      },
      "outputs": [],
      "source": [
        "descrete=[feature for feature in df.columns if df[feature].dtype!='O' and df[feature].nunique()<=3000 and feature not in ['Loan Status']]\n",
        "descrete\n",
        "\n",
        "## All descrete features make sense that it should be in that order\n",
        "decsrete=['Delinquency - two years','Collection 12 months Medical']"
      ]
    },
    {
      "cell_type": "code",
      "execution_count": 14,
      "metadata": {
        "id": "S3SVW7s3EjqJ"
      },
      "outputs": [],
      "source": [
        "# for feature in descrete:\n",
        "#   df[feature]=df[feature].astype(str)"
      ]
    },
    {
      "cell_type": "code",
      "execution_count": 15,
      "metadata": {
        "colab": {
          "base_uri": "https://localhost:8080/",
          "height": 1000
        },
        "id": "J6QKqHq9awzi",
        "outputId": "3a439e1f-db4a-4170-9598-9e3e469cf9ff"
      },
      "outputs": [
        {
          "output_type": "display_data",
          "data": {
            "image/png": "[encoded data removed]",
            "text/plain": [
              "<Figure size 432x288 with 1 Axes>"
            ]
          },
          "metadata": {
            "needs_background": "light"
          }
        },
        {
          "output_type": "display_data",
          "data": {
            "image/png": "[encoded data removed]",
            "text/plain": [
              "<Figure size 432x288 with 1 Axes>"
            ]
          },
          "metadata": {
            "needs_background": "light"
          }
        },
        {
          "output_type": "display_data",
          "data": {
            "image/png": "[encoded data removed]",
            "text/plain": [
              "<Figure size 432x288 with 1 Axes>"
            ]
          },
          "metadata": {
            "needs_background": "light"
          }
        },
        {
          "output_type": "display_data",
          "data": {
            "image/png": "[encoded data removed]",
            "text/plain": [
              "<Figure size 432x288 with 1 Axes>"
            ]
          },
          "metadata": {
            "needs_background": "light"
          }
        },
        {
          "output_type": "display_data",
          "data": {
            "image/png": "[encoded data removed]",
            "text/plain": [
              "<Figure size 432x288 with 1 Axes>"
            ]
          },
          "metadata": {
            "needs_background": "light"
          }
        },
        {
          "output_type": "display_data",
          "data": {
            "image/png": "[encoded data removed]",
            "text/plain": [
              "<Figure size 432x288 with 1 Axes>"
            ]
          },
          "metadata": {
            "needs_background": "light"
          }
        },
        {
          "output_type": "display_data",
          "data": {
            "image/png": "[encoded data removed]",
            "text/plain": [
              "<Figure size 432x288 with 1 Axes>"
            ]
          },
          "metadata": {
            "needs_background": "light"
          }
        },
        {
          "output_type": "display_data",
          "data": {
            "image/png": "[encoded data removed]",
            "text/plain": [
              "<Figure size 432x288 with 1 Axes>"
            ]
          },
          "metadata": {
            "needs_background": "light"
          }
        },
        {
          "output_type": "display_data",
          "data": {
            "image/png": "[encoded data removed]",
            "text/plain": [
              "<Figure size 432x288 with 1 Axes>"
            ]
          },
          "metadata": {
            "needs_background": "light"
          }
        },
        {
          "output_type": "display_data",
          "data": {
            "image/png": "[encoded data removed]",
            "text/plain": [
              "<Figure size 432x288 with 1 Axes>"
            ]
          },
          "metadata": {
            "needs_background": "light"
          }
        },
        {
          "output_type": "display_data",
          "data": {
            "image/png": "[encoded data removed]",
            "text/plain": [
              "<Figure size 432x288 with 1 Axes>"
            ]
          },
          "metadata": {
            "needs_background": "light"
          }
        },
        {
          "output_type": "display_data",
          "data": {
            "image/png": "[encoded data removed]",
            "text/plain": [
              "<Figure size 432x288 with 1 Axes>"
            ]
          },
          "metadata": {
            "needs_background": "light"
          }
        },
        {
          "output_type": "display_data",
          "data": {
            "image/png": "[encoded data removed]",
            "text/plain": [
              "<Figure size 432x288 with 1 Axes>"
            ]
          },
          "metadata": {
            "needs_background": "light"
          }
        },
        {
          "output_type": "display_data",
          "data": {
            "image/png": "[encoded data removed]",
            "text/plain": [
              "<Figure size 432x288 with 1 Axes>"
            ]
          },
          "metadata": {
            "needs_background": "light"
          }
        },
        {
          "output_type": "display_data",
          "data": {
            "image/png": "[encoded data removed]",
            "text/plain": [
              "<Figure size 432x288 with 1 Axes>"
            ]
          },
          "metadata": {
            "needs_background": "light"
          }
        },
        {
          "output_type": "display_data",
          "data": {
            "image/png": "[encoded data removed]",
            "text/plain": [
              "<Figure size 432x288 with 1 Axes>"
            ]
          },
          "metadata": {
            "needs_background": "light"
          }
        },
        {
          "output_type": "display_data",
          "data": {
            "image/png": "[encoded data removed]",
            "text/plain": [
              "<Figure size 432x288 with 1 Axes>"
            ]
          },
          "metadata": {
            "needs_background": "light"
          }
        },
        {
          "output_type": "display_data",
          "data": {
            "image/png": "[encoded data removed]",
            "text/plain": [
              "<Figure size 432x288 with 1 Axes>"
            ]
          },
          "metadata": {
            "needs_background": "light"
          }
        },
        {
          "output_type": "display_data",
          "data": {
            "image/png": "[encoded data removed]",
            "text/plain": [
              "<Figure size 432x288 with 1 Axes>"
            ]
          },
          "metadata": {
            "needs_background": "light"
          }
        },
        {
          "output_type": "display_data",
          "data": {
            "image/png": "[encoded data removed]",
            "text/plain": [
              "<Figure size 432x288 with 1 Axes>"
            ]
          },
          "metadata": {
            "needs_background": "light"
          }
        },
        {
          "output_type": "display_data",
          "data": {
            "image/png": "[encoded data removed]",
            "text/plain": [
              "<Figure size 432x288 with 1 Axes>"
            ]
          },
          "metadata": {
            "needs_background": "light"
          }
        },
        {
          "output_type": "display_data",
          "data": {
            "image/png": "[encoded data removed]",
            "text/plain": [
              "<Figure size 432x288 with 1 Axes>"
            ]
          },
          "metadata": {
            "needs_background": "light"
          }
        },
        {
          "output_type": "display_data",
          "data": {
            "image/png": "[encoded data removed]",
            "text/plain": [
              "<Figure size 432x288 with 1 Axes>"
            ]
          },
          "metadata": {
            "needs_background": "light"
          }
        },
        {
          "output_type": "display_data",
          "data": {
            "image/png": "[encoded data removed]",
            "text/plain": [
              "<Figure size 432x288 with 1 Axes>"
            ]
          },
          "metadata": {
            "needs_background": "light"
          }
        },
        {
          "output_type": "display_data",
          "data": {
            "image/png": "[encoded data removed]",
            "text/plain": [
              "<Figure size 432x288 with 1 Axes>"
            ]
          },
          "metadata": {
            "needs_background": "light"
          }
        },
        {
          "output_type": "display_data",
          "data": {
            "image/png": "[encoded data removed]",
            "text/plain": [
              "<Figure size 432x288 with 1 Axes>"
            ]
          },
          "metadata": {
            "needs_background": "light"
          }
        }
      ],
      "source": [
        "for feature in cont_feature:\n",
        "  data1=df.copy()\n",
        "  data1[feature].hist(bins=25)\n",
        "  plt.xlabel(feature)\n",
        "  plt.ylabel(\"Count\")\n",
        "  plt.title(feature)\n",
        "  plt.show()"
      ]
    },
    {
      "cell_type": "code",
      "execution_count": 16,
      "metadata": {
        "colab": {
          "base_uri": "https://localhost:8080/"
        },
        "id": "FfXg1JT5BknD",
        "outputId": "d28eee6e-8bb2-4401-a72e-7613c6e75488"
      },
      "outputs": [
        {
          "output_type": "execute_result",
          "data": {
            "text/plain": [
              "ID                              96376\n",
              "Loan Amount                     29737\n",
              "Funded Amount                   26793\n",
              "Funded Amount Investor          89848\n",
              "Term                                4\n",
              "Interest Rate                   89117\n",
              "Home Ownership                  89998\n",
              "Debit to Income                 91895\n",
              "Delinquency - two years            10\n",
              "Inquires - six months               6\n",
              "Open Account                       36\n",
              "Public Record                       5\n",
              "Revolving Balance               24628\n",
              "Revolving Utilities             89948\n",
              "Total Accounts                     70\n",
              "Total Received Interest         96014\n",
              "Total Received Late Fee         88877\n",
              "Recoveries                      88961\n",
              "Collection Recovery Fee         88861\n",
              "Collection 12 months Medical        2\n",
              "Last week Pay                     162\n",
              "Accounts Delinquent                 2\n",
              "Total Collection Amount          2757\n",
              "Total Current Balance           83321\n",
              "Total Revolving Credit Limit    44236\n",
              "Loan Status                         2\n",
              "dtype: int64"
            ]
          },
          "metadata": {},
          "execution_count": 16
        }
      ],
      "source": [
        "df[cont_feature].nunique()"
      ]
    },
    {
      "cell_type": "code",
      "execution_count": 17,
      "metadata": {
        "colab": {
          "base_uri": "https://localhost:8080/",
          "height": 1000
        },
        "id": "-vcf8uvjeB_d",
        "outputId": "8c0a3f30-0801-41a8-bf21-fbd2d0c655a7"
      },
      "outputs": [
        {
          "output_type": "display_data",
          "data": {
            "image/png": "[encoded data removed]",
            "text/plain": [
              "<Figure size 432x288 with 1 Axes>"
            ]
          },
          "metadata": {
            "needs_background": "light"
          }
        },
        {
          "output_type": "display_data",
          "data": {
            "image/png": "[encoded data removed]",
            "text/plain": [
              "<Figure size 432x288 with 1 Axes>"
            ]
          },
          "metadata": {
            "needs_background": "light"
          }
        },
        {
          "output_type": "display_data",
          "data": {
            "image/png": "[encoded data removed]",
            "text/plain": [
              "<Figure size 432x288 with 1 Axes>"
            ]
          },
          "metadata": {
            "needs_background": "light"
          }
        },
        {
          "output_type": "display_data",
          "data": {
            "image/png": "[encoded data removed]",
            "text/plain": [
              "<Figure size 432x288 with 1 Axes>"
            ]
          },
          "metadata": {
            "needs_background": "light"
          }
        },
        {
          "output_type": "display_data",
          "data": {
            "image/png": "[encoded data removed]",
            "text/plain": [
              "<Figure size 432x288 with 1 Axes>"
            ]
          },
          "metadata": {
            "needs_background": "light"
          }
        },
        {
          "output_type": "display_data",
          "data": {
            "image/png": "[encoded data removed]",
            "text/plain": [
              "<Figure size 432x288 with 1 Axes>"
            ]
          },
          "metadata": {
            "needs_background": "light"
          }
        },
        {
          "output_type": "display_data",
          "data": {
            "image/png": "[encoded data removed]",
            "text/plain": [
              "<Figure size 432x288 with 1 Axes>"
            ]
          },
          "metadata": {
            "needs_background": "light"
          }
        },
        {
          "output_type": "display_data",
          "data": {
            "image/png": "[encoded data removed]",
            "text/plain": [
              "<Figure size 432x288 with 1 Axes>"
            ]
          },
          "metadata": {
            "needs_background": "light"
          }
        },
        {
          "output_type": "display_data",
          "data": {
            "image/png": "[encoded data removed]",
            "text/plain": [
              "<Figure size 432x288 with 1 Axes>"
            ]
          },
          "metadata": {
            "needs_background": "light"
          }
        },
        {
          "output_type": "display_data",
          "data": {
            "image/png": "[encoded data removed]",
            "text/plain": [
              "<Figure size 432x288 with 1 Axes>"
            ]
          },
          "metadata": {
            "needs_background": "light"
          }
        }
      ],
      "source": [
        "for feature in descrete:\n",
        "  data1=df.copy()\n",
        "  data1[feature].hist(bins=25)\n",
        "  plt.xlabel(feature)\n",
        "  plt.ylabel(\"Count\")\n",
        "  plt.title(feature)\n",
        "  plt.show()"
      ]
    },
    {
      "cell_type": "markdown",
      "metadata": {
        "id": "dPfaFWyS-q5t"
      },
      "source": [
        "### Visualize categorical features"
      ]
    },
    {
      "cell_type": "code",
      "execution_count": 19,
      "metadata": {
        "colab": {
          "base_uri": "https://localhost:8080/"
        },
        "id": "51uuKlQUa8B-",
        "outputId": "20e264df-eafe-459a-d130-d24616fa70d1"
      },
      "outputs": [
        {
          "output_type": "execute_result",
          "data": {
            "text/plain": [
              "['Batch Enrolled',\n",
              " 'Grade',\n",
              " 'Sub Grade',\n",
              " 'Employment Duration',\n",
              " 'Verification Status',\n",
              " 'Payment Plan',\n",
              " 'Loan Title',\n",
              " 'Initial List Status',\n",
              " 'Application Type']"
            ]
          },
          "metadata": {},
          "execution_count": 19
        }
      ],
      "source": [
        "cat_features=[feature for feature in df.columns if df[feature].dtype=='O' and feature not in ['ID']]\n",
        "cat_features"
      ]
    },
    {
      "cell_type": "code",
      "execution_count": 20,
      "metadata": {
        "colab": {
          "base_uri": "https://localhost:8080/"
        },
        "id": "SZmsN3FlcCGA",
        "outputId": "309d65e4-21fb-4f83-80bf-6611ca1777c3"
      },
      "outputs": [
        {
          "output_type": "execute_result",
          "data": {
            "text/plain": [
              "Batch Enrolled          41\n",
              "Grade                    7\n",
              "Sub Grade               35\n",
              "Employment Duration      3\n",
              "Verification Status      3\n",
              "Payment Plan             1\n",
              "Loan Title             109\n",
              "Initial List Status      2\n",
              "Application Type         2\n",
              "dtype: int64"
            ]
          },
          "metadata": {},
          "execution_count": 20
        }
      ],
      "source": [
        "df[cat_features].nunique()"
      ]
    },
    {
      "cell_type": "code",
      "execution_count": 21,
      "metadata": {
        "colab": {
          "base_uri": "https://localhost:8080/"
        },
        "id": "szq9umq1K-8S",
        "outputId": "28c3e314-a353-4ea0-df35-9e7326c37673"
      },
      "outputs": [
        {
          "output_type": "execute_result",
          "data": {
            "text/plain": [
              "array([0, 1])"
            ]
          },
          "metadata": {},
          "execution_count": 21
        }
      ],
      "source": [
        "df['Accounts Delinquent'].unique()"
      ]
    },
    {
      "cell_type": "code",
      "execution_count": 22,
      "metadata": {
        "id": "wTBqCJQNLQye"
      },
      "outputs": [],
      "source": [
        "# df1=df[df['Accounts Delinquent']==\"Accounts Delinquent1\"]\n",
        "# df1#['Loan Status'].sum()/df1.shape[0]"
      ]
    },
    {
      "cell_type": "code",
      "execution_count": 23,
      "metadata": {
        "colab": {
          "base_uri": "https://localhost:8080/",
          "height": 1000
        },
        "id": "xshb9iSuKD5x",
        "outputId": "e73ca889-cf8d-4289-e2df-a7cdcd082ebf"
      },
      "outputs": [
        {
          "output_type": "display_data",
          "data": {
            "image/png": "[encoded data removed]",
            "text/plain": [
              "<Figure size 1440x576 with 1 Axes>"
            ]
          },
          "metadata": {
            "needs_background": "light"
          }
        },
        {
          "output_type": "display_data",
          "data": {
            "image/png": "[encoded data removed]",
            "text/plain": [
              "<Figure size 1440x576 with 1 Axes>"
            ]
          },
          "metadata": {
            "needs_background": "light"
          }
        },
        {
          "output_type": "display_data",
          "data": {
            "image/png": "[encoded data removed]",
            "text/plain": [
              "<Figure size 1440x576 with 1 Axes>"
            ]
          },
          "metadata": {
            "needs_background": "light"
          }
        },
        {
          "output_type": "display_data",
          "data": {
            "image/png": "[encoded data removed]",
            "text/plain": [
              "<Figure size 1440x576 with 1 Axes>"
            ]
          },
          "metadata": {
            "needs_background": "light"
          }
        },
        {
          "output_type": "display_data",
          "data": {
            "image/png": "[encoded data removed]",
            "text/plain": [
              "<Figure size 1440x576 with 1 Axes>"
            ]
          },
          "metadata": {
            "needs_background": "light"
          }
        },
        {
          "output_type": "display_data",
          "data": {
            "image/png": "[encoded data removed]",
            "text/plain": [
              "<Figure size 1440x576 with 1 Axes>"
            ]
          },
          "metadata": {
            "needs_background": "light"
          }
        },
        {
          "output_type": "display_data",
          "data": {
            "image/png": "[encoded data removed]",
            "text/plain": [
              "<Figure size 1440x576 with 1 Axes>"
            ]
          },
          "metadata": {
            "needs_background": "light"
          }
        },
        {
          "output_type": "display_data",
          "data": {
            "image/png": "[encoded data removed]",
            "text/plain": [
              "<Figure size 1440x576 with 1 Axes>"
            ]
          },
          "metadata": {
            "needs_background": "light"
          }
        },
        {
          "output_type": "display_data",
          "data": {
            "image/png": "[encoded data removed]",
            "text/plain": [
              "<Figure size 1440x576 with 1 Axes>"
            ]
          },
          "metadata": {
            "needs_background": "light"
          }
        }
      ],
      "source": [
        "for feature in cat_features:\n",
        "  data_2=pd.crosstab(df[feature],df['Loan Status'])\n",
        "  data_2.div(data_2.sum(1).astype(float),axis=0).plot(kind='bar',stacked=True,figsize=(20,8))\n",
        "  plt.show()"
      ]
    },
    {
      "cell_type": "code",
      "execution_count": 24,
      "metadata": {
        "id": "CH-9rufHvGT8"
      },
      "outputs": [],
      "source": [
        "df['Sub Grade']=df['Grade']+df['Sub Grade']\n",
        "df['ID_new']=df['ID']"
      ]
    },
    {
      "cell_type": "code",
      "execution_count": 25,
      "metadata": {
        "id": "pb-CvjtmhRrw"
      },
      "outputs": [],
      "source": [
        "df.drop(columns=[\"Payment Plan\",\"Accounts Delinquent\",\"Grade\"],inplace=True)"
      ]
    },
    {
      "cell_type": "code",
      "execution_count": 26,
      "metadata": {
        "id": "R287GVkrht6P"
      },
      "outputs": [],
      "source": [
        "ID=df[['ID']]"
      ]
    },
    {
      "cell_type": "code",
      "execution_count": 27,
      "metadata": {
        "id": "sxkztwS6iUEW"
      },
      "outputs": [],
      "source": [
        "df.drop(columns=[\"ID\"],inplace=True)"
      ]
    },
    {
      "cell_type": "code",
      "execution_count": 28,
      "metadata": {
        "id": "tRxYqBF4jeuy"
      },
      "outputs": [],
      "source": [
        "df['Batch_Num']=df['Batch Enrolled'].str[3:]"
      ]
    },
    {
      "cell_type": "code",
      "execution_count": 29,
      "metadata": {
        "id": "cRx2TuEDjgS8"
      },
      "outputs": [],
      "source": [
        "df['Batch_Num']=df['Batch_Num'].astype(int)\n",
        "# df.head()"
      ]
    },
    {
      "cell_type": "code",
      "execution_count": 30,
      "metadata": {
        "colab": {
          "base_uri": "https://localhost:8080/"
        },
        "id": "2G0I3HJIjge7",
        "outputId": "4bab69bd-b787-48fe-9c5a-cff9074466d4"
      },
      "outputs": [
        {
          "output_type": "execute_result",
          "data": {
            "text/plain": [
              "array(['Debt Consolidation', 'Debt consolidation',\n",
              "       'Credit card refinancing', 'Home improvement',\n",
              "       'Credit Consolidation', 'Green loan', 'Other',\n",
              "       'Moving and relocation', 'Credit Cards', 'Medical expenses',\n",
              "       'DEBT CONSOLIDATION', 'Home Improvement', 'Refinance',\n",
              "       'credit card consolidation', 'Lending Club',\n",
              "       'Debt Consolidation Loan', 'Major purchase', 'Vacation',\n",
              "       'Business', 'Credit card payoff', 'Credit Card Consolidation',\n",
              "       'credit card', 'Credit Card Refi', 'Personal Loan', 'CC Refi',\n",
              "       'consolidate', 'Medical', 'Loan 1', 'Consolidation',\n",
              "       'Card Consolidation', 'Car financing', 'debt', 'home improvement',\n",
              "       'debt consolidation', 'Home buying', 'Freedom', 'Consolidate',\n",
              "       'Consolidated', 'get out of debt', 'consolidation loan',\n",
              "       'Dept consolidation', 'Personal loan', 'Personal', 'Debt', 'cards',\n",
              "       'Cards', 'Bathroom', 'refi', 'Credit Card Loan',\n",
              "       'Credit Card Debt', 'House', 'Debt Consolidation 2013',\n",
              "       'debt loan', 'CC Refinance', 'Consolidation Loan', 'Home',\n",
              "       'CC consolidation', 'Credit Card', 'Credit Card Refinance',\n",
              "       'Credit Loan', 'payoff', 'Bill Consolidation',\n",
              "       'credit card refinance', 'Credit Card consolidation',\n",
              "       'Credit Card Paydown', 'Credit card pay off', 'vacation',\n",
              "       'Credit card refinance', 'Get Debt Free', 'MYLOAN',\n",
              "       'credit pay off', 'Payoff', 'consolidation', 'My Loan', 'Loan',\n",
              "       'Bill Payoff', 'CC-Refinance', 'Debt Reduction', 'Medical loan',\n",
              "       'Wedding Loan', 'Credit', 'CONSOLIDATE', 'personal',\n",
              "       'pay off bills', 'CC Consolidation', 'Refinance Loan',\n",
              "       'Credit Card Payoff', 'Debt Payoff', 'Car Loan', 'Pay Off',\n",
              "       'Debt Loan', 'CONSOLIDATION', 'Pool', 'Credit payoff',\n",
              "       'Credit Card Refinance Loan', 'CC Loan', 'Debt Free',\n",
              "       'debt consolidation loan', 'conso', 'Home Improvement Loan',\n",
              "       'Loan Consolidation', 'Debt payoff', 'Lending loan', 'relief',\n",
              "       'CC', 'loan1', 'Getting Ahead', 'Home loan', 'bills'], dtype=object)"
            ]
          },
          "metadata": {},
          "execution_count": 30
        }
      ],
      "source": [
        "A=df['Loan Title'].unique()\n",
        "A"
      ]
    },
    {
      "cell_type": "code",
      "execution_count": 31,
      "metadata": {
        "id": "6PIxtwKDjg1P"
      },
      "outputs": [],
      "source": [
        "def loan(x):\n",
        "  if \"ff\" in x:\n",
        "    return 'pay_off'\n",
        "  elif 'solid' in x:\n",
        "    return 'conso'\n",
        "  elif 'efi' in x:\n",
        "    return 'refinance'\n",
        "  elif 'CON' in x:\n",
        "    return 'consol'\n",
        "  else:\n",
        "    return x\n"
      ]
    },
    {
      "cell_type": "code",
      "execution_count": 32,
      "metadata": {
        "id": "2dv3NTfEjiW0"
      },
      "outputs": [],
      "source": [
        "# df['Loan Title']=df['Loan Title'].apply(loan)"
      ]
    },
    {
      "cell_type": "code",
      "execution_count": 33,
      "metadata": {
        "colab": {
          "base_uri": "https://localhost:8080/"
        },
        "id": "LFIY7gisE7wE",
        "outputId": "1176b002-b878-4cda-b5b5-d45dffc2aa4c"
      },
      "outputs": [
        {
          "output_type": "execute_result",
          "data": {
            "text/plain": [
              "array(['Debt Consolidation', 'Debt consolidation',\n",
              "       'Credit card refinancing', 'Home improvement',\n",
              "       'Credit Consolidation', 'Green loan', 'Other',\n",
              "       'Moving and relocation', 'Credit Cards', 'Medical expenses',\n",
              "       'DEBT CONSOLIDATION', 'Home Improvement', 'Refinance',\n",
              "       'credit card consolidation', 'Lending Club',\n",
              "       'Debt Consolidation Loan', 'Major purchase', 'Vacation',\n",
              "       'Business', 'Credit card payoff', 'Credit Card Consolidation',\n",
              "       'credit card', 'Credit Card Refi', 'Personal Loan', 'CC Refi',\n",
              "       'consolidate', 'Medical', 'Loan 1', 'Consolidation',\n",
              "       'Card Consolidation', 'Car financing', 'debt', 'home improvement',\n",
              "       'debt consolidation', 'Home buying', 'Freedom', 'Consolidate',\n",
              "       'Consolidated', 'get out of debt', 'consolidation loan',\n",
              "       'Dept consolidation', 'Personal loan', 'Personal', 'Debt', 'cards',\n",
              "       'Cards', 'Bathroom', 'refi', 'Credit Card Loan',\n",
              "       'Credit Card Debt', 'House', 'Debt Consolidation 2013',\n",
              "       'debt loan', 'CC Refinance', 'Consolidation Loan', 'Home',\n",
              "       'CC consolidation', 'Credit Card', 'Credit Card Refinance',\n",
              "       'Credit Loan', 'payoff', 'Bill Consolidation',\n",
              "       'credit card refinance', 'Credit Card consolidation',\n",
              "       'Credit Card Paydown', 'Credit card pay off', 'vacation',\n",
              "       'Credit card refinance', 'Get Debt Free', 'MYLOAN',\n",
              "       'credit pay off', 'Payoff', 'consolidation', 'My Loan', 'Loan',\n",
              "       'Bill Payoff', 'CC-Refinance', 'Debt Reduction', 'Medical loan',\n",
              "       'Wedding Loan', 'Credit', 'CONSOLIDATE', 'personal',\n",
              "       'pay off bills', 'CC Consolidation', 'Refinance Loan',\n",
              "       'Credit Card Payoff', 'Debt Payoff', 'Car Loan', 'Pay Off',\n",
              "       'Debt Loan', 'CONSOLIDATION', 'Pool', 'Credit payoff',\n",
              "       'Credit Card Refinance Loan', 'CC Loan', 'Debt Free',\n",
              "       'debt consolidation loan', 'conso', 'Home Improvement Loan',\n",
              "       'Loan Consolidation', 'Debt payoff', 'Lending loan', 'relief',\n",
              "       'CC', 'loan1', 'Getting Ahead', 'Home loan', 'bills'], dtype=object)"
            ]
          },
          "metadata": {},
          "execution_count": 33
        }
      ],
      "source": [
        "df['Loan Title'].unique()"
      ]
    },
    {
      "cell_type": "code",
      "execution_count": 34,
      "metadata": {
        "id": "liXXRpxsE-DN"
      },
      "outputs": [],
      "source": [
        "def loan1(x):\n",
        "  if \"erso\" in x:\n",
        "    return 'personal'\n",
        "  elif 'ome' in x:\n",
        "    return 'home'\n",
        "  elif 'ebt'in x:\n",
        "    return 'debt'\n",
        "  else:\n",
        "    return x"
      ]
    },
    {
      "cell_type": "code",
      "execution_count": 35,
      "metadata": {
        "id": "C1G53kfFE-Tj"
      },
      "outputs": [],
      "source": [
        "# df['Loan Title']=df['Loan Title'].apply(loan1)"
      ]
    },
    {
      "cell_type": "code",
      "execution_count": 36,
      "metadata": {
        "colab": {
          "base_uri": "https://localhost:8080/"
        },
        "id": "nmieu1vhE_Lw",
        "outputId": "933a28dc-3914-4872-ab72-d66c9627de21"
      },
      "outputs": [
        {
          "output_type": "execute_result",
          "data": {
            "text/plain": [
              "array(['Debt Consolidation', 'Debt consolidation',\n",
              "       'Credit card refinancing', 'Home improvement',\n",
              "       'Credit Consolidation', 'Green loan', 'Other',\n",
              "       'Moving and relocation', 'Credit Cards', 'Medical expenses',\n",
              "       'DEBT CONSOLIDATION', 'Home Improvement', 'Refinance',\n",
              "       'credit card consolidation', 'Lending Club',\n",
              "       'Debt Consolidation Loan', 'Major purchase', 'Vacation',\n",
              "       'Business', 'Credit card payoff', 'Credit Card Consolidation',\n",
              "       'credit card', 'Credit Card Refi', 'Personal Loan', 'CC Refi',\n",
              "       'consolidate', 'Medical', 'Loan 1', 'Consolidation',\n",
              "       'Card Consolidation', 'Car financing', 'debt', 'home improvement',\n",
              "       'debt consolidation', 'Home buying', 'Freedom', 'Consolidate',\n",
              "       'Consolidated', 'get out of debt', 'consolidation loan',\n",
              "       'Dept consolidation', 'Personal loan', 'Personal', 'Debt', 'cards',\n",
              "       'Cards', 'Bathroom', 'refi', 'Credit Card Loan',\n",
              "       'Credit Card Debt', 'House', 'Debt Consolidation 2013',\n",
              "       'debt loan', 'CC Refinance', 'Consolidation Loan', 'Home',\n",
              "       'CC consolidation', 'Credit Card', 'Credit Card Refinance',\n",
              "       'Credit Loan', 'payoff', 'Bill Consolidation',\n",
              "       'credit card refinance', 'Credit Card consolidation',\n",
              "       'Credit Card Paydown', 'Credit card pay off', 'vacation',\n",
              "       'Credit card refinance', 'Get Debt Free', 'MYLOAN',\n",
              "       'credit pay off', 'Payoff', 'consolidation', 'My Loan', 'Loan',\n",
              "       'Bill Payoff', 'CC-Refinance', 'Debt Reduction', 'Medical loan',\n",
              "       'Wedding Loan', 'Credit', 'CONSOLIDATE', 'personal',\n",
              "       'pay off bills', 'CC Consolidation', 'Refinance Loan',\n",
              "       'Credit Card Payoff', 'Debt Payoff', 'Car Loan', 'Pay Off',\n",
              "       'Debt Loan', 'CONSOLIDATION', 'Pool', 'Credit payoff',\n",
              "       'Credit Card Refinance Loan', 'CC Loan', 'Debt Free',\n",
              "       'debt consolidation loan', 'conso', 'Home Improvement Loan',\n",
              "       'Loan Consolidation', 'Debt payoff', 'Lending loan', 'relief',\n",
              "       'CC', 'loan1', 'Getting Ahead', 'Home loan', 'bills'], dtype=object)"
            ]
          },
          "metadata": {},
          "execution_count": 36
        }
      ],
      "source": [
        "df['Loan Title'].unique()"
      ]
    },
    {
      "cell_type": "code",
      "execution_count": 36,
      "metadata": {
        "id": "Vne3HQ99GbIU"
      },
      "outputs": [],
      "source": [
        ""
      ]
    },
    {
      "cell_type": "markdown",
      "metadata": {
        "id": "rvJn7s2vjjRs"
      },
      "source": [
        "## Feature Engineering"
      ]
    },
    {
      "cell_type": "code",
      "execution_count": 37,
      "metadata": {
        "colab": {
          "base_uri": "https://localhost:8080/"
        },
        "id": "fqnAfZnQjn4f",
        "outputId": "58202778-3f74-4aca-a8a1-7e846b54775f"
      },
      "outputs": [
        {
          "output_type": "execute_result",
          "data": {
            "text/plain": [
              "['Batch Enrolled',\n",
              " 'Sub Grade',\n",
              " 'Employment Duration',\n",
              " 'Verification Status',\n",
              " 'Loan Title',\n",
              " 'Initial List Status',\n",
              " 'Application Type']"
            ]
          },
          "metadata": {},
          "execution_count": 37
        }
      ],
      "source": [
        "cat_features=[feature for feature in df.columns if df[feature].dtype=='O' and feature not in ['ID']]\n",
        "cat_features"
      ]
    },
    {
      "cell_type": "code",
      "execution_count": 38,
      "metadata": {
        "colab": {
          "base_uri": "https://localhost:8080/"
        },
        "id": "ArB_j_ZBqDsT",
        "outputId": "a6789f16-4ad4-41f3-f447-b174ad04790a"
      },
      "outputs": [
        {
          "output_type": "execute_result",
          "data": {
            "text/plain": [
              "Source Verified    46662\n",
              "Verified           26059\n",
              "Not Verified       23655\n",
              "Name: Verification Status, dtype: int64"
            ]
          },
          "metadata": {},
          "execution_count": 38
        }
      ],
      "source": [
        "df['Verification Status'].value_counts()"
      ]
    },
    {
      "cell_type": "code",
      "execution_count": 39,
      "metadata": {
        "id": "uszQN-QYqabu"
      },
      "outputs": [],
      "source": [
        "clean={'Verification Status':{'Source Verified':1,'Verified':1,'Not Verified':0}}"
      ]
    },
    {
      "cell_type": "code",
      "execution_count": 40,
      "metadata": {
        "id": "Iy0hulm6q8pO"
      },
      "outputs": [],
      "source": [
        "df=df.replace(clean)"
      ]
    },
    {
      "cell_type": "code",
      "execution_count": 41,
      "metadata": {
        "colab": {
          "base_uri": "https://localhost:8080/"
        },
        "id": "p_VbGXerxIF4",
        "outputId": "9783fc2a-2dbf-4c64-ce0e-c4c124d0d38f"
      },
      "outputs": [
        {
          "output_type": "execute_result",
          "data": {
            "text/plain": [
              "['Batch Enrolled',\n",
              " 'Sub Grade',\n",
              " 'Employment Duration',\n",
              " 'Loan Title',\n",
              " 'Initial List Status',\n",
              " 'Application Type']"
            ]
          },
          "metadata": {},
          "execution_count": 41
        }
      ],
      "source": [
        "cat_features=[feature for feature in df.columns if df[feature].dtype=='O' and feature not in ['ID']]\n",
        "cat_features"
      ]
    },
    {
      "cell_type": "code",
      "execution_count": 42,
      "metadata": {
        "id": "f-W9yA6yFlwe"
      },
      "outputs": [],
      "source": [
        "for feature in cat_features:\n",
        "  df[feature]=feature+df[feature]\n"
      ]
    },
    {
      "cell_type": "markdown",
      "metadata": {
        "id": "Xz04mctmb4Yd"
      },
      "source": [
        "### Rare Categories"
      ]
    },
    {
      "cell_type": "code",
      "execution_count": 43,
      "metadata": {
        "colab": {
          "base_uri": "https://localhost:8080/"
        },
        "id": "RmVfkHVTb-q_",
        "outputId": "561957ce-bb47-4284-aff0-d0f43ed64410"
      },
      "outputs": [
        {
          "output_type": "execute_result",
          "data": {
            "text/plain": [
              "Batch Enrolled          41\n",
              "Sub Grade              245\n",
              "Employment Duration      3\n",
              "Loan Title             109\n",
              "Initial List Status      2\n",
              "Application Type         2\n",
              "dtype: int64"
            ]
          },
          "metadata": {},
          "execution_count": 43
        }
      ],
      "source": [
        "df[cat_features].nunique()"
      ]
    },
    {
      "cell_type": "code",
      "execution_count": 44,
      "metadata": {
        "id": "SeAYo1B7dckV"
      },
      "outputs": [],
      "source": [
        "# for feature in cat_features:\n",
        "#   series=pd.value_counts(df[feature])\n",
        "#   mask = (series/series.sum() * 100).lt(0.025)\n",
        "#   df[feature] = np.where(df[feature].isin(series[mask].index),feature+'Rare_Var',df[feature])"
      ]
    },
    {
      "cell_type": "code",
      "execution_count": 45,
      "metadata": {
        "colab": {
          "base_uri": "https://localhost:8080/"
        },
        "id": "2nKXO8JDc0HM",
        "outputId": "e4bbb14b-854a-4c87-934f-6a18b99dc5d1"
      },
      "outputs": [
        {
          "output_type": "execute_result",
          "data": {
            "text/plain": [
              "Batch Enrolled          41\n",
              "Sub Grade              245\n",
              "Employment Duration      3\n",
              "Loan Title             109\n",
              "Initial List Status      2\n",
              "Application Type         2\n",
              "dtype: int64"
            ]
          },
          "metadata": {},
          "execution_count": 45
        }
      ],
      "source": [
        "df[cat_features].nunique()"
      ]
    },
    {
      "cell_type": "code",
      "execution_count": 46,
      "metadata": {
        "id": "f0HeRRfBwYC8"
      },
      "outputs": [],
      "source": [
        "# df.drop(columns=['ID_new'],inplace=True)"
      ]
    },
    {
      "cell_type": "markdown",
      "metadata": {
        "id": "BiaFTkHOdRFk"
      },
      "source": [
        "### Distinguising categorical features with more and less categories✈"
      ]
    },
    {
      "cell_type": "code",
      "execution_count": 47,
      "metadata": {
        "colab": {
          "base_uri": "https://localhost:8080/"
        },
        "id": "bcih12qOcm3T",
        "outputId": "8e146cf7-fe90-4707-aae7-6131d040897c"
      },
      "outputs": [
        {
          "output_type": "execute_result",
          "data": {
            "text/plain": [
              "['Employment Duration', 'Initial List Status', 'Application Type']"
            ]
          },
          "metadata": {},
          "execution_count": 47
        }
      ],
      "source": [
        "low_features=[feature for feature in df.columns if df[feature].dtype=='O' and df[feature].nunique()<=10]\n",
        "low_features"
      ]
    },
    {
      "cell_type": "code",
      "execution_count": 48,
      "metadata": {
        "id": "baieNtI_cW6P"
      },
      "outputs": [],
      "source": [
        "high_features=[feature for feature in df.columns if df[feature].dtype=='O' and df[feature].nunique()>10]\n",
        "high_features=['Batch Enrolled', 'Sub Grade']"
      ]
    },
    {
      "cell_type": "markdown",
      "metadata": {
        "id": "a_gdk92Hkn1B"
      },
      "source": [
        "### Target guided mean encoding technique"
      ]
    },
    {
      "cell_type": "code",
      "execution_count": 49,
      "metadata": {
        "id": "UC5f08Z3keWu"
      },
      "outputs": [],
      "source": [
        "for feature in high_features:\n",
        "  cat_labels=df.groupby([feature])['Loan Status'].mean().sort_values().index\n",
        "  cat_lables2={k:i for i,k in enumerate(cat_labels,0)}\n",
        "  df[feature]=df[feature].map(cat_lables2)"
      ]
    },
    {
      "cell_type": "markdown",
      "metadata": {
        "id": "_0qucGiSlNaJ"
      },
      "source": [
        "### Count based label encoding"
      ]
    },
    {
      "cell_type": "code",
      "source": [
        "low_features=['Employment Duration','Application Type']"
      ],
      "metadata": {
        "id": "FneUola14RQH"
      },
      "execution_count": 50,
      "outputs": []
    },
    {
      "cell_type": "code",
      "execution_count": 51,
      "metadata": {
        "id": "0ZnkFJAJlItP"
      },
      "outputs": [],
      "source": [
        "for feature in low_features:\n",
        "  dic=df[feature].value_counts().to_dict()\n",
        "  list1=np.arange(len(dic.values()),0,-1)\n",
        "  dic2=dict(zip(list(dic.keys()),list1))\n",
        "  df[feature]=df[feature].replace(dic2)"
      ]
    },
    {
      "cell_type": "markdown",
      "metadata": {
        "id": "adMMSI20lXSB"
      },
      "source": [
        "### Normal Label Encoding"
      ]
    },
    {
      "cell_type": "code",
      "execution_count": 52,
      "metadata": {
        "id": "1pzADvEtlRqe"
      },
      "outputs": [],
      "source": [
        "categorical_features=['Loan Title']"
      ]
    },
    {
      "cell_type": "code",
      "execution_count": 53,
      "metadata": {
        "id": "Mn4dW3NplZyX"
      },
      "outputs": [],
      "source": [
        "labelencoder=LabelEncoder()\n",
        "for var in categorical_features:\n",
        "  df[var]=labelencoder.fit_transform(df[var])"
      ]
    },
    {
      "cell_type": "code",
      "source": [
        "categorical_features=[feature for feature in df.columns if df[feature].dtype=='O' and feature not in ['ID']]\n"
      ],
      "metadata": {
        "id": "X_v_nOV23aov"
      },
      "execution_count": 54,
      "outputs": []
    },
    {
      "cell_type": "markdown",
      "metadata": {
        "id": "sm5fS2qFlSoG"
      },
      "source": [
        "### One Hot"
      ]
    },
    {
      "cell_type": "code",
      "execution_count": 55,
      "metadata": {
        "id": "Vhvw0Sthlf1P"
      },
      "outputs": [],
      "source": [
        "def category_onehot_multcols(multcolumns):\n",
        "    df_final=df\n",
        "    i=0\n",
        "    for fields in multcolumns:\n",
        "        \n",
        "        print(fields)\n",
        "        df1=pd.get_dummies(df[fields],drop_first=True)\n",
        "        \n",
        "        df.drop([fields],axis=1,inplace=True)\n",
        "        if i==0:\n",
        "            df_final=df1.copy()\n",
        "        else:\n",
        "            \n",
        "            df_final=pd.concat([df_final,df1],axis=1)\n",
        "        i=i+1\n",
        "       \n",
        "        \n",
        "    df_final=pd.concat([df,df_final],axis=1)\n",
        "        \n",
        "    return df_final"
      ]
    },
    {
      "cell_type": "code",
      "execution_count": 56,
      "metadata": {
        "id": "BwogKeZrrlNW"
      },
      "outputs": [],
      "source": [
        "# for i in categorical_features:\n",
        "#   print(df[i].value_counts())"
      ]
    },
    {
      "cell_type": "code",
      "execution_count": 57,
      "metadata": {
        "colab": {
          "base_uri": "https://localhost:8080/"
        },
        "id": "xSr4vGVJluSy",
        "outputId": "b90ce14e-a622-4338-b882-7a3bcd9b629c"
      },
      "outputs": [
        {
          "output_type": "stream",
          "name": "stdout",
          "text": [
            "Initial List Status\n"
          ]
        }
      ],
      "source": [
        "df=category_onehot_multcols(categorical_features)"
      ]
    },
    {
      "cell_type": "code",
      "execution_count": 58,
      "metadata": {
        "colab": {
          "base_uri": "https://localhost:8080/",
          "height": 322
        },
        "id": "MJfKWn_ImUc9",
        "outputId": "b7068f6b-2ed1-495e-8ee5-c25e4cc09af6"
      },
      "outputs": [
        {
          "output_type": "execute_result",
          "data": {
            "text/html": [
              "\n",
              "  <div id=\"df-10ac1009-8869-4da0-8b60-3aa6735f3dfa\">\n",
              "    <div class=\"colab-df-container\">\n",
              "      <div>\n",
              "<style scoped>\n",
              "    .dataframe tbody tr th:only-of-type {\n",
              "        vertical-align: middle;\n",
              "    }\n",
              "\n",
              "    .dataframe tbody tr th {\n",
              "        vertical-align: top;\n",
              "    }\n",
              "\n",
              "    .dataframe thead th {\n",
              "        text-align: right;\n",
              "    }\n",
              "</style>\n",
              "<table border=\"1\" class=\"dataframe\">\n",
              "  <thead>\n",
              "    <tr style=\"text-align: right;\">\n",
              "      <th></th>\n",
              "      <th>Loan Amount</th>\n",
              "      <th>Funded Amount</th>\n",
              "      <th>Funded Amount Investor</th>\n",
              "      <th>Term</th>\n",
              "      <th>Batch Enrolled</th>\n",
              "      <th>Interest Rate</th>\n",
              "      <th>Sub Grade</th>\n",
              "      <th>Employment Duration</th>\n",
              "      <th>Home Ownership</th>\n",
              "      <th>Verification Status</th>\n",
              "      <th>Loan Title</th>\n",
              "      <th>Debit to Income</th>\n",
              "      <th>Delinquency - two years</th>\n",
              "      <th>Inquires - six months</th>\n",
              "      <th>Open Account</th>\n",
              "      <th>Public Record</th>\n",
              "      <th>Revolving Balance</th>\n",
              "      <th>Revolving Utilities</th>\n",
              "      <th>Total Accounts</th>\n",
              "      <th>Total Received Interest</th>\n",
              "      <th>Total Received Late Fee</th>\n",
              "      <th>Recoveries</th>\n",
              "      <th>Collection Recovery Fee</th>\n",
              "      <th>Collection 12 months Medical</th>\n",
              "      <th>Application Type</th>\n",
              "      <th>Last week Pay</th>\n",
              "      <th>Total Collection Amount</th>\n",
              "      <th>Total Current Balance</th>\n",
              "      <th>Total Revolving Credit Limit</th>\n",
              "      <th>Loan Status</th>\n",
              "      <th>ID_new</th>\n",
              "      <th>Batch_Num</th>\n",
              "      <th>Initial List Statusw</th>\n",
              "    </tr>\n",
              "  </thead>\n",
              "  <tbody>\n",
              "    <tr>\n",
              "      <th>0</th>\n",
              "      <td>10000</td>\n",
              "      <td>32236</td>\n",
              "      <td>12329.36286</td>\n",
              "      <td>59</td>\n",
              "      <td>27</td>\n",
              "      <td>11.135007</td>\n",
              "      <td>36</td>\n",
              "      <td>3</td>\n",
              "      <td>176346.62670</td>\n",
              "      <td>0</td>\n",
              "      <td>42</td>\n",
              "      <td>16.284758</td>\n",
              "      <td>1</td>\n",
              "      <td>0</td>\n",
              "      <td>13</td>\n",
              "      <td>0</td>\n",
              "      <td>24246</td>\n",
              "      <td>74.932551</td>\n",
              "      <td>7</td>\n",
              "      <td>2929.646315</td>\n",
              "      <td>0.102055</td>\n",
              "      <td>2.498291</td>\n",
              "      <td>0.793724</td>\n",
              "      <td>0</td>\n",
              "      <td>2</td>\n",
              "      <td>49</td>\n",
              "      <td>31</td>\n",
              "      <td>311301</td>\n",
              "      <td>6619</td>\n",
              "      <td>0.0</td>\n",
              "      <td>65087372</td>\n",
              "      <td>2522922</td>\n",
              "      <td>1</td>\n",
              "    </tr>\n",
              "    <tr>\n",
              "      <th>1</th>\n",
              "      <td>3609</td>\n",
              "      <td>11940</td>\n",
              "      <td>12191.99692</td>\n",
              "      <td>59</td>\n",
              "      <td>38</td>\n",
              "      <td>12.237563</td>\n",
              "      <td>104</td>\n",
              "      <td>2</td>\n",
              "      <td>39833.92100</td>\n",
              "      <td>1</td>\n",
              "      <td>49</td>\n",
              "      <td>15.412409</td>\n",
              "      <td>0</td>\n",
              "      <td>0</td>\n",
              "      <td>12</td>\n",
              "      <td>0</td>\n",
              "      <td>812</td>\n",
              "      <td>78.297186</td>\n",
              "      <td>13</td>\n",
              "      <td>772.769385</td>\n",
              "      <td>0.036181</td>\n",
              "      <td>2.377215</td>\n",
              "      <td>0.974821</td>\n",
              "      <td>0</td>\n",
              "      <td>2</td>\n",
              "      <td>109</td>\n",
              "      <td>53</td>\n",
              "      <td>182610</td>\n",
              "      <td>20885</td>\n",
              "      <td>0.0</td>\n",
              "      <td>1450153</td>\n",
              "      <td>1586599</td>\n",
              "      <td>0</td>\n",
              "    </tr>\n",
              "    <tr>\n",
              "      <th>2</th>\n",
              "      <td>28276</td>\n",
              "      <td>9311</td>\n",
              "      <td>21603.22455</td>\n",
              "      <td>59</td>\n",
              "      <td>17</td>\n",
              "      <td>12.545884</td>\n",
              "      <td>198</td>\n",
              "      <td>3</td>\n",
              "      <td>91506.69105</td>\n",
              "      <td>1</td>\n",
              "      <td>42</td>\n",
              "      <td>28.137619</td>\n",
              "      <td>0</td>\n",
              "      <td>0</td>\n",
              "      <td>14</td>\n",
              "      <td>0</td>\n",
              "      <td>1843</td>\n",
              "      <td>2.073040</td>\n",
              "      <td>20</td>\n",
              "      <td>863.324396</td>\n",
              "      <td>18.778660</td>\n",
              "      <td>4.316277</td>\n",
              "      <td>1.020075</td>\n",
              "      <td>0</td>\n",
              "      <td>2</td>\n",
              "      <td>66</td>\n",
              "      <td>34</td>\n",
              "      <td>89801</td>\n",
              "      <td>26155</td>\n",
              "      <td>0.0</td>\n",
              "      <td>1969101</td>\n",
              "      <td>2136391</td>\n",
              "      <td>1</td>\n",
              "    </tr>\n",
              "    <tr>\n",
              "      <th>3</th>\n",
              "      <td>11170</td>\n",
              "      <td>6954</td>\n",
              "      <td>17877.15585</td>\n",
              "      <td>59</td>\n",
              "      <td>18</td>\n",
              "      <td>16.731201</td>\n",
              "      <td>152</td>\n",
              "      <td>3</td>\n",
              "      <td>108286.57590</td>\n",
              "      <td>1</td>\n",
              "      <td>49</td>\n",
              "      <td>18.043730</td>\n",
              "      <td>1</td>\n",
              "      <td>0</td>\n",
              "      <td>7</td>\n",
              "      <td>0</td>\n",
              "      <td>13819</td>\n",
              "      <td>67.467951</td>\n",
              "      <td>12</td>\n",
              "      <td>288.173196</td>\n",
              "      <td>0.044131</td>\n",
              "      <td>0.107020</td>\n",
              "      <td>0.749971</td>\n",
              "      <td>0</td>\n",
              "      <td>2</td>\n",
              "      <td>39</td>\n",
              "      <td>40</td>\n",
              "      <td>9189</td>\n",
              "      <td>60214</td>\n",
              "      <td>0.0</td>\n",
              "      <td>6651430</td>\n",
              "      <td>2428731</td>\n",
              "      <td>1</td>\n",
              "    </tr>\n",
              "    <tr>\n",
              "      <th>4</th>\n",
              "      <td>16890</td>\n",
              "      <td>13226</td>\n",
              "      <td>13539.92667</td>\n",
              "      <td>59</td>\n",
              "      <td>12</td>\n",
              "      <td>15.008300</td>\n",
              "      <td>184</td>\n",
              "      <td>3</td>\n",
              "      <td>44234.82545</td>\n",
              "      <td>1</td>\n",
              "      <td>38</td>\n",
              "      <td>17.209886</td>\n",
              "      <td>1</td>\n",
              "      <td>3</td>\n",
              "      <td>13</td>\n",
              "      <td>1</td>\n",
              "      <td>1544</td>\n",
              "      <td>85.250761</td>\n",
              "      <td>22</td>\n",
              "      <td>129.239553</td>\n",
              "      <td>19.306646</td>\n",
              "      <td>1294.818751</td>\n",
              "      <td>0.368953</td>\n",
              "      <td>0</td>\n",
              "      <td>2</td>\n",
              "      <td>18</td>\n",
              "      <td>430</td>\n",
              "      <td>126029</td>\n",
              "      <td>22579</td>\n",
              "      <td>0.0</td>\n",
              "      <td>14354669</td>\n",
              "      <td>5341619</td>\n",
              "      <td>1</td>\n",
              "    </tr>\n",
              "  </tbody>\n",
              "</table>\n",
              "</div>\n",
              "      <button class=\"colab-df-convert\" onclick=\"convertToInteractive('df-10ac1009-8869-4da0-8b60-3aa6735f3dfa')\"\n",
              "              title=\"Convert this dataframe to an interactive table.\"\n",
              "              style=\"display:none;\">\n",
              "        \n",
              "  <svg xmlns=\"http://www.w3.org/2000/svg\" height=\"24px\"viewBox=\"0 0 24 24\"\n",
              "       width=\"24px\">\n",
              "    <path d=\"M0 0h24v24H0V0z\" fill=\"none\"/>\n",
              "    <path d=\"M18.56 5.44l.94 2.06.94-2.06 2.06-.94-2.06-.94-.94-2.06-.94 2.06-2.06.94zm-11 1L8.5 8.5l.94-2.06 2.06-.94-2.06-.94L8.5 2.5l-.94 2.06-2.06.94zm10 10l.94 2.06.94-2.06 2.06-.94-2.06-.94-.94-2.06-.94 2.06-2.06.94z\"/><path d=\"M17.41 7.96l-1.37-1.37c-.4-.4-.92-.59-1.43-.59-.52 0-1.04.2-1.43.59L10.3 9.45l-7.72 7.72c-.78.78-.78 2.05 0 2.83L4 21.41c.39.39.9.59 1.41.59.51 0 1.02-.2 1.41-.59l7.78-7.78 2.81-2.81c.8-.78.8-2.07 0-2.86zM5.41 20L4 18.59l7.72-7.72 1.47 1.35L5.41 20z\"/>\n",
              "  </svg>\n",
              "      </button>\n",
              "      \n",
              "  <style>\n",
              "    .colab-df-container {\n",
              "      display:flex;\n",
              "      flex-wrap:wrap;\n",
              "      gap: 12px;\n",
              "    }\n",
              "\n",
              "    .colab-df-convert {\n",
              "      background-color: #E8F0FE;\n",
              "      border: none;\n",
              "      border-radius: 50%;\n",
              "      cursor: pointer;\n",
              "      display: none;\n",
              "      fill: #1967D2;\n",
              "      height: 32px;\n",
              "      padding: 0 0 0 0;\n",
              "      width: 32px;\n",
              "    }\n",
              "\n",
              "    .colab-df-convert:hover {\n",
              "      background-color: #E2EBFA;\n",
              "      box-shadow: 0px 1px 2px rgba(60, 64, 67, 0.3), 0px 1px 3px 1px rgba(60, 64, 67, 0.15);\n",
              "      fill: #174EA6;\n",
              "    }\n",
              "\n",
              "    [theme=dark] .colab-df-convert {\n",
              "      background-color: #3B4455;\n",
              "      fill: #D2E3FC;\n",
              "    }\n",
              "\n",
              "    [theme=dark] .colab-df-convert:hover {\n",
              "      background-color: #434B5C;\n",
              "      box-shadow: 0px 1px 3px 1px rgba(0, 0, 0, 0.15);\n",
              "      filter: drop-shadow(0px 1px 2px rgba(0, 0, 0, 0.3));\n",
              "      fill: #FFFFFF;\n",
              "    }\n",
              "  </style>\n",
              "\n",
              "      <script>\n",
              "        const buttonEl =\n",
              "          document.querySelector('#df-10ac1009-8869-4da0-8b60-3aa6735f3dfa button.colab-df-convert');\n",
              "        buttonEl.style.display =\n",
              "          google.colab.kernel.accessAllowed ? 'block' : 'none';\n",
              "\n",
              "        async function convertToInteractive(key) {\n",
              "          const element = document.querySelector('#df-10ac1009-8869-4da0-8b60-3aa6735f3dfa');\n",
              "          const dataTable =\n",
              "            await google.colab.kernel.invokeFunction('convertToInteractive',\n",
              "                                                     [key], {});\n",
              "          if (!dataTable) return;\n",
              "\n",
              "          const docLinkHtml = 'Like what you see? Visit the ' +\n",
              "            '<a target=\"_blank\" href=https://colab.research.google.com/notebooks/data_table.ipynb>data table notebook</a>'\n",
              "            + ' to learn more about interactive tables.';\n",
              "          element.innerHTML = '';\n",
              "          dataTable['output_type'] = 'display_data';\n",
              "          await google.colab.output.renderOutput(dataTable, element);\n",
              "          const docLink = document.createElement('div');\n",
              "          docLink.innerHTML = docLinkHtml;\n",
              "          element.appendChild(docLink);\n",
              "        }\n",
              "      </script>\n",
              "    </div>\n",
              "  </div>\n",
              "  "
            ],
            "text/plain": [
              "   Loan Amount  Funded Amount  Funded Amount Investor  Term  Batch Enrolled  \\\n",
              "0        10000          32236             12329.36286    59              27   \n",
              "1         3609          11940             12191.99692    59              38   \n",
              "2        28276           9311             21603.22455    59              17   \n",
              "3        11170           6954             17877.15585    59              18   \n",
              "4        16890          13226             13539.92667    59              12   \n",
              "\n",
              "   Interest Rate  Sub Grade  Employment Duration  Home Ownership  \\\n",
              "0      11.135007         36                    3    176346.62670   \n",
              "1      12.237563        104                    2     39833.92100   \n",
              "2      12.545884        198                    3     91506.69105   \n",
              "3      16.731201        152                    3    108286.57590   \n",
              "4      15.008300        184                    3     44234.82545   \n",
              "\n",
              "   Verification Status  Loan Title  Debit to Income  Delinquency - two years  \\\n",
              "0                    0          42        16.284758                        1   \n",
              "1                    1          49        15.412409                        0   \n",
              "2                    1          42        28.137619                        0   \n",
              "3                    1          49        18.043730                        1   \n",
              "4                    1          38        17.209886                        1   \n",
              "\n",
              "   Inquires - six months  Open Account  Public Record  Revolving Balance  \\\n",
              "0                      0            13              0              24246   \n",
              "1                      0            12              0                812   \n",
              "2                      0            14              0               1843   \n",
              "3                      0             7              0              13819   \n",
              "4                      3            13              1               1544   \n",
              "\n",
              "   Revolving Utilities  Total Accounts  Total Received Interest  \\\n",
              "0            74.932551               7              2929.646315   \n",
              "1            78.297186              13               772.769385   \n",
              "2             2.073040              20               863.324396   \n",
              "3            67.467951              12               288.173196   \n",
              "4            85.250761              22               129.239553   \n",
              "\n",
              "   Total Received Late Fee   Recoveries  Collection Recovery Fee  \\\n",
              "0                 0.102055     2.498291                 0.793724   \n",
              "1                 0.036181     2.377215                 0.974821   \n",
              "2                18.778660     4.316277                 1.020075   \n",
              "3                 0.044131     0.107020                 0.749971   \n",
              "4                19.306646  1294.818751                 0.368953   \n",
              "\n",
              "   Collection 12 months Medical  Application Type  Last week Pay  \\\n",
              "0                             0                 2             49   \n",
              "1                             0                 2            109   \n",
              "2                             0                 2             66   \n",
              "3                             0                 2             39   \n",
              "4                             0                 2             18   \n",
              "\n",
              "   Total Collection Amount  Total Current Balance  \\\n",
              "0                       31                 311301   \n",
              "1                       53                 182610   \n",
              "2                       34                  89801   \n",
              "3                       40                   9189   \n",
              "4                      430                 126029   \n",
              "\n",
              "   Total Revolving Credit Limit  Loan Status    ID_new  Batch_Num  \\\n",
              "0                          6619          0.0  65087372    2522922   \n",
              "1                         20885          0.0   1450153    1586599   \n",
              "2                         26155          0.0   1969101    2136391   \n",
              "3                         60214          0.0   6651430    2428731   \n",
              "4                         22579          0.0  14354669    5341619   \n",
              "\n",
              "   Initial List Statusw  \n",
              "0                     1  \n",
              "1                     0  \n",
              "2                     1  \n",
              "3                     1  \n",
              "4                     1  "
            ]
          },
          "metadata": {},
          "execution_count": 58
        }
      ],
      "source": [
        "df.head()"
      ]
    },
    {
      "cell_type": "code",
      "execution_count": 59,
      "metadata": {
        "id": "wuK2hX5ZdrXL"
      },
      "outputs": [],
      "source": [
        "fea=['Loan Amount','Funded Amount Investor','Funded Amount','Home Ownership','Revolving Balance',\n",
        "     'Total Current Balance','Total Revolving Credit Limit','Batch_Num','ID_new']"
      ]
    },
    {
      "cell_type": "code",
      "execution_count": 60,
      "metadata": {
        "id": "bNF3nRuZeq0o"
      },
      "outputs": [],
      "source": [
        "for feature in fea:\n",
        "  df[feature]=np.log1p(df[feature])"
      ]
    },
    {
      "cell_type": "code",
      "execution_count": 61,
      "metadata": {
        "id": "bchlPQiqe4bG"
      },
      "outputs": [],
      "source": [
        "# for feature in fea:\n",
        "#   data1=df.copy()\n",
        "#   data1[feature].hist(bins=25)\n",
        "#   plt.xlabel(feature)\n",
        "#   plt.ylabel(\"Count\")\n",
        "#   plt.title(feature)\n",
        "#   plt.show()"
      ]
    },
    {
      "cell_type": "markdown",
      "metadata": {
        "id": "scb0IdcDmMK1"
      },
      "source": [
        "# Scaling"
      ]
    },
    {
      "cell_type": "code",
      "execution_count": 62,
      "metadata": {
        "colab": {
          "base_uri": "https://localhost:8080/"
        },
        "id": "AOvOdhE5lz2m",
        "outputId": "227b61a6-b932-4d6b-ed6c-e9eab90e9cd4"
      },
      "outputs": [
        {
          "output_type": "execute_result",
          "data": {
            "text/plain": [
              "['Loan Amount',\n",
              " 'Funded Amount',\n",
              " 'Funded Amount Investor',\n",
              " 'Term',\n",
              " 'Batch Enrolled',\n",
              " 'Interest Rate',\n",
              " 'Sub Grade',\n",
              " 'Home Ownership',\n",
              " 'Verification Status',\n",
              " 'Debit to Income',\n",
              " 'Delinquency - two years',\n",
              " 'Inquires - six months',\n",
              " 'Open Account',\n",
              " 'Public Record',\n",
              " 'Revolving Balance',\n",
              " 'Revolving Utilities',\n",
              " 'Total Accounts',\n",
              " 'Total Received Interest',\n",
              " 'Total Received Late Fee',\n",
              " 'Recoveries',\n",
              " 'Collection Recovery Fee',\n",
              " 'Collection 12 months Medical',\n",
              " 'Last week Pay',\n",
              " 'Total Collection Amount',\n",
              " 'Total Current Balance',\n",
              " 'Total Revolving Credit Limit',\n",
              " 'ID_new',\n",
              " 'Batch_Num',\n",
              " 'Initial List Statusw']"
            ]
          },
          "metadata": {},
          "execution_count": 62
        }
      ],
      "source": [
        "scale_features=[feature for feature in df.columns if feature not in ['Employment Duration','Loan Title','Application Type','Loan Status']]\n",
        "scale_features=scale_features#[:17]\n",
        "scale_features"
      ]
    },
    {
      "cell_type": "code",
      "execution_count": 63,
      "metadata": {
        "id": "zSe1tD4fmnzc"
      },
      "outputs": [],
      "source": [
        "scaler=StandardScaler()\n",
        "df[scale_features]=scaler.fit_transform(df[scale_features])"
      ]
    },
    {
      "cell_type": "markdown",
      "metadata": {
        "id": "s87iq9lKz8iH"
      },
      "source": [
        "# Data Selection for Training, Validation, & Testing"
      ]
    },
    {
      "cell_type": "code",
      "execution_count": 64,
      "metadata": {
        "id": "TFdpxJVqm4N8"
      },
      "outputs": [],
      "source": [
        "pred_features=['Loan Status']"
      ]
    },
    {
      "cell_type": "code",
      "execution_count": 65,
      "metadata": {
        "id": "IbqmWf4hm8BS"
      },
      "outputs": [],
      "source": [
        "df_train=df.iloc[:train.shape[0],:]\n",
        "df_test=df.iloc[train.shape[0]:,:]"
      ]
    },
    {
      "cell_type": "code",
      "execution_count": 66,
      "metadata": {
        "id": "P3ORLBvPm_id",
        "colab": {
          "base_uri": "https://localhost:8080/",
          "height": 227
        },
        "outputId": "b0fdf385-2201-4f99-b440-3281e7d6ea87"
      },
      "outputs": [
        {
          "output_type": "execute_result",
          "data": {
            "text/html": [
              "\n",
              "  <div id=\"df-03989464-b952-4430-9378-8a2c7f9858a2\">\n",
              "    <div class=\"colab-df-container\">\n",
              "      <div>\n",
              "<style scoped>\n",
              "    .dataframe tbody tr th:only-of-type {\n",
              "        vertical-align: middle;\n",
              "    }\n",
              "\n",
              "    .dataframe tbody tr th {\n",
              "        vertical-align: top;\n",
              "    }\n",
              "\n",
              "    .dataframe thead th {\n",
              "        text-align: right;\n",
              "    }\n",
              "</style>\n",
              "<table border=\"1\" class=\"dataframe\">\n",
              "  <thead>\n",
              "    <tr style=\"text-align: right;\">\n",
              "      <th></th>\n",
              "      <th>Loan Amount</th>\n",
              "      <th>Funded Amount</th>\n",
              "      <th>Funded Amount Investor</th>\n",
              "      <th>Term</th>\n",
              "      <th>Batch Enrolled</th>\n",
              "      <th>Interest Rate</th>\n",
              "      <th>Sub Grade</th>\n",
              "      <th>Employment Duration</th>\n",
              "      <th>Home Ownership</th>\n",
              "      <th>Verification Status</th>\n",
              "      <th>Loan Title</th>\n",
              "      <th>Debit to Income</th>\n",
              "      <th>Delinquency - two years</th>\n",
              "      <th>Inquires - six months</th>\n",
              "      <th>Open Account</th>\n",
              "      <th>Public Record</th>\n",
              "      <th>Revolving Balance</th>\n",
              "      <th>Revolving Utilities</th>\n",
              "      <th>Total Accounts</th>\n",
              "      <th>Total Received Interest</th>\n",
              "      <th>Total Received Late Fee</th>\n",
              "      <th>Recoveries</th>\n",
              "      <th>Collection Recovery Fee</th>\n",
              "      <th>Collection 12 months Medical</th>\n",
              "      <th>Application Type</th>\n",
              "      <th>Last week Pay</th>\n",
              "      <th>Total Collection Amount</th>\n",
              "      <th>Total Current Balance</th>\n",
              "      <th>Total Revolving Credit Limit</th>\n",
              "      <th>Loan Status</th>\n",
              "      <th>ID_new</th>\n",
              "      <th>Batch_Num</th>\n",
              "      <th>Initial List Statusw</th>\n",
              "    </tr>\n",
              "  </thead>\n",
              "  <tbody>\n",
              "    <tr>\n",
              "      <th>0</th>\n",
              "      <td>-0.575971</td>\n",
              "      <td>1.568956</td>\n",
              "      <td>-0.133835</td>\n",
              "      <td>0.324817</td>\n",
              "      <td>0.612491</td>\n",
              "      <td>-0.215214</td>\n",
              "      <td>-1.583440</td>\n",
              "      <td>3</td>\n",
              "      <td>1.868315</td>\n",
              "      <td>-1.753349</td>\n",
              "      <td>42</td>\n",
              "      <td>-0.782237</td>\n",
              "      <td>0.832662</td>\n",
              "      <td>-0.342143</td>\n",
              "      <td>-0.175149</td>\n",
              "      <td>-0.250915</td>\n",
              "      <td>1.333216</td>\n",
              "      <td>0.961513</td>\n",
              "      <td>-1.385279</td>\n",
              "      <td>0.413737</td>\n",
              "      <td>-0.191056</td>\n",
              "      <td>-0.155194</td>\n",
              "      <td>-0.046842</td>\n",
              "      <td>-0.145686</td>\n",
              "      <td>2</td>\n",
              "      <td>-0.470696</td>\n",
              "      <td>-0.149638</td>\n",
              "      <td>1.078358</td>\n",
              "      <td>-0.921330</td>\n",
              "      <td>0.0</td>\n",
              "      <td>1.242848</td>\n",
              "      <td>-0.164475</td>\n",
              "      <td>0.920956</td>\n",
              "    </tr>\n",
              "    <tr>\n",
              "      <th>1</th>\n",
              "      <td>-2.228780</td>\n",
              "      <td>-0.244438</td>\n",
              "      <td>-0.157349</td>\n",
              "      <td>0.324817</td>\n",
              "      <td>1.576231</td>\n",
              "      <td>0.076418</td>\n",
              "      <td>-0.224707</td>\n",
              "      <td>2</td>\n",
              "      <td>-1.184832</td>\n",
              "      <td>0.570337</td>\n",
              "      <td>49</td>\n",
              "      <td>-0.884505</td>\n",
              "      <td>-0.407542</td>\n",
              "      <td>-0.342143</td>\n",
              "      <td>-0.336484</td>\n",
              "      <td>-0.250915</td>\n",
              "      <td>-1.515865</td>\n",
              "      <td>1.110242</td>\n",
              "      <td>-0.701704</td>\n",
              "      <td>-0.571202</td>\n",
              "      <td>-0.203957</td>\n",
              "      <td>-0.155539</td>\n",
              "      <td>-0.026244</td>\n",
              "      <td>-0.145686</td>\n",
              "      <td>2</td>\n",
              "      <td>0.919390</td>\n",
              "      <td>-0.122078</td>\n",
              "      <td>0.564607</td>\n",
              "      <td>0.283346</td>\n",
              "      <td>0.0</td>\n",
              "      <td>-2.239319</td>\n",
              "      <td>-0.974678</td>\n",
              "      <td>-1.085828</td>\n",
              "    </tr>\n",
              "  </tbody>\n",
              "</table>\n",
              "</div>\n",
              "      <button class=\"colab-df-convert\" onclick=\"convertToInteractive('df-03989464-b952-4430-9378-8a2c7f9858a2')\"\n",
              "              title=\"Convert this dataframe to an interactive table.\"\n",
              "              style=\"display:none;\">\n",
              "        \n",
              "  <svg xmlns=\"http://www.w3.org/2000/svg\" height=\"24px\"viewBox=\"0 0 24 24\"\n",
              "       width=\"24px\">\n",
              "    <path d=\"M0 0h24v24H0V0z\" fill=\"none\"/>\n",
              "    <path d=\"M18.56 5.44l.94 2.06.94-2.06 2.06-.94-2.06-.94-.94-2.06-.94 2.06-2.06.94zm-11 1L8.5 8.5l.94-2.06 2.06-.94-2.06-.94L8.5 2.5l-.94 2.06-2.06.94zm10 10l.94 2.06.94-2.06 2.06-.94-2.06-.94-.94-2.06-.94 2.06-2.06.94z\"/><path d=\"M17.41 7.96l-1.37-1.37c-.4-.4-.92-.59-1.43-.59-.52 0-1.04.2-1.43.59L10.3 9.45l-7.72 7.72c-.78.78-.78 2.05 0 2.83L4 21.41c.39.39.9.59 1.41.59.51 0 1.02-.2 1.41-.59l7.78-7.78 2.81-2.81c.8-.78.8-2.07 0-2.86zM5.41 20L4 18.59l7.72-7.72 1.47 1.35L5.41 20z\"/>\n",
              "  </svg>\n",
              "      </button>\n",
              "      \n",
              "  <style>\n",
              "    .colab-df-container {\n",
              "      display:flex;\n",
              "      flex-wrap:wrap;\n",
              "      gap: 12px;\n",
              "    }\n",
              "\n",
              "    .colab-df-convert {\n",
              "      background-color: #E8F0FE;\n",
              "      border: none;\n",
              "      border-radius: 50%;\n",
              "      cursor: pointer;\n",
              "      display: none;\n",
              "      fill: #1967D2;\n",
              "      height: 32px;\n",
              "      padding: 0 0 0 0;\n",
              "      width: 32px;\n",
              "    }\n",
              "\n",
              "    .colab-df-convert:hover {\n",
              "      background-color: #E2EBFA;\n",
              "      box-shadow: 0px 1px 2px rgba(60, 64, 67, 0.3), 0px 1px 3px 1px rgba(60, 64, 67, 0.15);\n",
              "      fill: #174EA6;\n",
              "    }\n",
              "\n",
              "    [theme=dark] .colab-df-convert {\n",
              "      background-color: #3B4455;\n",
              "      fill: #D2E3FC;\n",
              "    }\n",
              "\n",
              "    [theme=dark] .colab-df-convert:hover {\n",
              "      background-color: #434B5C;\n",
              "      box-shadow: 0px 1px 3px 1px rgba(0, 0, 0, 0.15);\n",
              "      filter: drop-shadow(0px 1px 2px rgba(0, 0, 0, 0.3));\n",
              "      fill: #FFFFFF;\n",
              "    }\n",
              "  </style>\n",
              "\n",
              "      <script>\n",
              "        const buttonEl =\n",
              "          document.querySelector('#df-03989464-b952-4430-9378-8a2c7f9858a2 button.colab-df-convert');\n",
              "        buttonEl.style.display =\n",
              "          google.colab.kernel.accessAllowed ? 'block' : 'none';\n",
              "\n",
              "        async function convertToInteractive(key) {\n",
              "          const element = document.querySelector('#df-03989464-b952-4430-9378-8a2c7f9858a2');\n",
              "          const dataTable =\n",
              "            await google.colab.kernel.invokeFunction('convertToInteractive',\n",
              "                                                     [key], {});\n",
              "          if (!dataTable) return;\n",
              "\n",
              "          const docLinkHtml = 'Like what you see? Visit the ' +\n",
              "            '<a target=\"_blank\" href=https://colab.research.google.com/notebooks/data_table.ipynb>data table notebook</a>'\n",
              "            + ' to learn more about interactive tables.';\n",
              "          element.innerHTML = '';\n",
              "          dataTable['output_type'] = 'display_data';\n",
              "          await google.colab.output.renderOutput(dataTable, element);\n",
              "          const docLink = document.createElement('div');\n",
              "          docLink.innerHTML = docLinkHtml;\n",
              "          element.appendChild(docLink);\n",
              "        }\n",
              "      </script>\n",
              "    </div>\n",
              "  </div>\n",
              "  "
            ],
            "text/plain": [
              "   Loan Amount  Funded Amount  Funded Amount Investor      Term  \\\n",
              "0    -0.575971       1.568956               -0.133835  0.324817   \n",
              "1    -2.228780      -0.244438               -0.157349  0.324817   \n",
              "\n",
              "   Batch Enrolled  Interest Rate  Sub Grade  Employment Duration  \\\n",
              "0        0.612491      -0.215214  -1.583440                    3   \n",
              "1        1.576231       0.076418  -0.224707                    2   \n",
              "\n",
              "   Home Ownership  Verification Status  Loan Title  Debit to Income  \\\n",
              "0        1.868315            -1.753349          42        -0.782237   \n",
              "1       -1.184832             0.570337          49        -0.884505   \n",
              "\n",
              "   Delinquency - two years  Inquires - six months  Open Account  \\\n",
              "0                 0.832662              -0.342143     -0.175149   \n",
              "1                -0.407542              -0.342143     -0.336484   \n",
              "\n",
              "   Public Record  Revolving Balance  Revolving Utilities  Total Accounts  \\\n",
              "0      -0.250915           1.333216             0.961513       -1.385279   \n",
              "1      -0.250915          -1.515865             1.110242       -0.701704   \n",
              "\n",
              "   Total Received Interest  Total Received Late Fee  Recoveries  \\\n",
              "0                 0.413737                -0.191056   -0.155194   \n",
              "1                -0.571202                -0.203957   -0.155539   \n",
              "\n",
              "   Collection Recovery Fee  Collection 12 months Medical  Application Type  \\\n",
              "0                -0.046842                     -0.145686                 2   \n",
              "1                -0.026244                     -0.145686                 2   \n",
              "\n",
              "   Last week Pay  Total Collection Amount  Total Current Balance  \\\n",
              "0      -0.470696                -0.149638               1.078358   \n",
              "1       0.919390                -0.122078               0.564607   \n",
              "\n",
              "   Total Revolving Credit Limit  Loan Status    ID_new  Batch_Num  \\\n",
              "0                     -0.921330          0.0  1.242848  -0.164475   \n",
              "1                      0.283346          0.0 -2.239319  -0.974678   \n",
              "\n",
              "   Initial List Statusw  \n",
              "0              0.920956  \n",
              "1             -1.085828  "
            ]
          },
          "metadata": {},
          "execution_count": 66
        }
      ],
      "source": [
        "df_test=df_test.drop(columns=pred_features)\n",
        "df_train.head(2)"
      ]
    },
    {
      "cell_type": "code",
      "execution_count": 67,
      "metadata": {
        "id": "V5mIlSZenB12"
      },
      "outputs": [],
      "source": [
        "train_features=[feature for feature in df.columns if feature not in pred_features]"
      ]
    },
    {
      "cell_type": "code",
      "execution_count": 68,
      "metadata": {
        "id": "yOPTd5JonFgf"
      },
      "outputs": [],
      "source": [
        "X_train=df_train.drop(columns=pred_features)\n",
        "y_train=df_train[pred_features]"
      ]
    },
    {
      "cell_type": "code",
      "execution_count": 69,
      "metadata": {
        "id": "ykIqalKBnHfu"
      },
      "outputs": [],
      "source": [
        "X_train,x_valid,y_train,y_valid = train_test_split(X_train,y_train,test_size = 0.1,random_state=1)"
      ]
    },
    {
      "cell_type": "code",
      "execution_count": 70,
      "metadata": {
        "id": "ebAnUV4g0HK_",
        "colab": {
          "base_uri": "https://localhost:8080/"
        },
        "outputId": "8a958ab5-1449-41a2-a2c9-bb2717939c44"
      },
      "outputs": [
        {
          "output_type": "stream",
          "name": "stdout",
          "text": [
            "(60716, 32)\n",
            "(6747, 32)\n",
            "(60716, 1)\n",
            "(6747, 1)\n"
          ]
        }
      ],
      "source": [
        "print(X_train.shape)\n",
        "print(x_valid.shape)\n",
        "print(y_train.shape)\n",
        "print(y_valid.shape)"
      ]
    },
    {
      "cell_type": "code",
      "execution_count": 71,
      "metadata": {
        "id": "ClXebGeRngrg"
      },
      "outputs": [],
      "source": [
        "from sklearn.metrics import accuracy_score\n",
        "from sklearn.metrics import roc_auc_score"
      ]
    },
    {
      "cell_type": "code",
      "execution_count": 72,
      "metadata": {
        "colab": {
          "base_uri": "https://localhost:8080/",
          "height": 912
        },
        "id": "Ns0LTXcNnlsC",
        "outputId": "2a9adede-b120-4a3a-901b-9e618882dc96"
      },
      "outputs": [
        {
          "output_type": "stream",
          "name": "stdout",
          "text": [
            "Optimization terminated successfully.\n",
            "         Current function value: 0.305990\n",
            "         Iterations 6\n"
          ]
        },
        {
          "output_type": "execute_result",
          "data": {
            "text/html": [
              "<table class=\"simpletable\">\n",
              "<tr>\n",
              "        <td>Model:</td>              <td>Logit</td>      <td>Pseudo R-squared:</td>    <td>0.007</td>  \n",
              "</tr>\n",
              "<tr>\n",
              "  <td>Dependent Variable:</td>    <td>Loan Status</td>         <td>AIC:</td>        <td>37220.9999</td>\n",
              "</tr>\n",
              "<tr>\n",
              "         <td>Date:</td>        <td>2022-02-25 05:17</td>       <td>BIC:</td>        <td>37509.4467</td>\n",
              "</tr>\n",
              "<tr>\n",
              "   <td>No. Observations:</td>        <td>60716</td>       <td>Log-Likelihood:</td>    <td>-18578.</td> \n",
              "</tr>\n",
              "<tr>\n",
              "       <td>Df Model:</td>             <td>31</td>            <td>LL-Null:</td>        <td>-18708.</td> \n",
              "</tr>\n",
              "<tr>\n",
              "     <td>Df Residuals:</td>          <td>60684</td>        <td>LLR p-value:</td>    <td>7.3924e-38</td>\n",
              "</tr>\n",
              "<tr>\n",
              "      <td>Converged:</td>           <td>1.0000</td>           <td>Scale:</td>         <td>1.0000</td>  \n",
              "</tr>\n",
              "<tr>\n",
              "    <td>No. Iterations:</td>        <td>6.0000</td>              <td></td>               <td></td>     \n",
              "</tr>\n",
              "</table>\n",
              "<table class=\"simpletable\">\n",
              "<tr>\n",
              "                <td></td>                <th>Coef.</th>  <th>Std.Err.</th>     <th>z</th>     <th>P>|z|</th> <th>[0.025</th>  <th>0.975]</th> \n",
              "</tr>\n",
              "<tr>\n",
              "  <th>Loan Amount</th>                  <td>-0.0264</td>  <td>0.0140</td>   <td>-1.8897</td> <td>0.0588</td> <td>-0.0539</td> <td>0.0010</td> \n",
              "</tr>\n",
              "<tr>\n",
              "  <th>Funded Amount</th>                <td>0.0003</td>   <td>0.0143</td>   <td>0.0220</td>  <td>0.9825</td> <td>-0.0278</td> <td>0.0284</td> \n",
              "</tr>\n",
              "<tr>\n",
              "  <th>Funded Amount Investor</th>       <td>-0.0186</td>  <td>0.0146</td>   <td>-1.2787</td> <td>0.2010</td> <td>-0.0471</td> <td>0.0099</td> \n",
              "</tr>\n",
              "<tr>\n",
              "  <th>Term</th>                         <td>-0.0198</td>  <td>0.0242</td>   <td>-0.8172</td> <td>0.4138</td> <td>-0.0671</td> <td>0.0276</td> \n",
              "</tr>\n",
              "<tr>\n",
              "  <th>Batch Enrolled</th>               <td>0.0888</td>   <td>0.0148</td>   <td>5.9981</td>  <td>0.0000</td> <td>0.0598</td>  <td>0.1179</td> \n",
              "</tr>\n",
              "<tr>\n",
              "  <th>Interest Rate</th>                <td>0.0141</td>   <td>0.0142</td>   <td>0.9920</td>  <td>0.3212</td> <td>-0.0138</td> <td>0.0420</td> \n",
              "</tr>\n",
              "<tr>\n",
              "  <th>Sub Grade</th>                    <td>0.1804</td>   <td>0.0139</td>   <td>13.0250</td> <td>0.0000</td> <td>0.1533</td>  <td>0.2076</td> \n",
              "</tr>\n",
              "<tr>\n",
              "  <th>Employment Duration</th>          <td>-0.0673</td>  <td>0.0207</td>   <td>-3.2549</td> <td>0.0011</td> <td>-0.1079</td> <td>-0.0268</td>\n",
              "</tr>\n",
              "<tr>\n",
              "  <th>Home Ownership</th>               <td>0.0046</td>   <td>0.0141</td>   <td>0.3232</td>  <td>0.7465</td> <td>-0.0231</td> <td>0.0322</td> \n",
              "</tr>\n",
              "<tr>\n",
              "  <th>Verification Status</th>          <td>0.0161</td>   <td>0.0143</td>   <td>1.1232</td>  <td>0.2614</td> <td>-0.0120</td> <td>0.0441</td> \n",
              "</tr>\n",
              "<tr>\n",
              "  <th>Loan Title</th>                   <td>-0.0005</td>  <td>0.0013</td>   <td>-0.3820</td> <td>0.7025</td> <td>-0.0030</td> <td>0.0020</td> \n",
              "</tr>\n",
              "<tr>\n",
              "  <th>Debit to Income</th>              <td>-0.0080</td>  <td>0.0142</td>   <td>-0.5662</td> <td>0.5712</td> <td>-0.0358</td> <td>0.0198</td> \n",
              "</tr>\n",
              "<tr>\n",
              "  <th>Delinquency - two years</th>      <td>0.0272</td>   <td>0.0133</td>   <td>2.0487</td>  <td>0.0405</td> <td>0.0012</td>  <td>0.0533</td> \n",
              "</tr>\n",
              "<tr>\n",
              "  <th>Inquires - six months</th>        <td>0.0036</td>   <td>0.0159</td>   <td>0.2273</td>  <td>0.8202</td> <td>-0.0275</td> <td>0.0348</td> \n",
              "</tr>\n",
              "<tr>\n",
              "  <th>Open Account</th>                 <td>-0.0195</td>  <td>0.0142</td>   <td>-1.3684</td> <td>0.1712</td> <td>-0.0473</td> <td>0.0084</td> \n",
              "</tr>\n",
              "<tr>\n",
              "  <th>Public Record</th>                <td>0.0233</td>   <td>0.0136</td>   <td>1.7119</td>  <td>0.0869</td> <td>-0.0034</td> <td>0.0499</td> \n",
              "</tr>\n",
              "<tr>\n",
              "  <th>Revolving Balance</th>            <td>0.0101</td>   <td>0.0143</td>   <td>0.7041</td>  <td>0.4814</td> <td>-0.0179</td> <td>0.0381</td> \n",
              "</tr>\n",
              "<tr>\n",
              "  <th>Revolving Utilities</th>          <td>0.0073</td>   <td>0.0141</td>   <td>0.5204</td>  <td>0.6028</td> <td>-0.0203</td> <td>0.0350</td> \n",
              "</tr>\n",
              "<tr>\n",
              "  <th>Total Accounts</th>               <td>-0.0060</td>  <td>0.0149</td>   <td>-0.4024</td> <td>0.6874</td> <td>-0.0351</td> <td>0.0232</td> \n",
              "</tr>\n",
              "<tr>\n",
              "  <th>Total Received Interest</th>      <td>0.0056</td>   <td>0.0137</td>   <td>0.4070</td>  <td>0.6840</td> <td>-0.0213</td> <td>0.0325</td> \n",
              "</tr>\n",
              "<tr>\n",
              "  <th>Total Received Late Fee</th>      <td>0.0294</td>   <td>0.0128</td>   <td>2.2959</td>  <td>0.0217</td> <td>0.0043</td>  <td>0.0545</td> \n",
              "</tr>\n",
              "<tr>\n",
              "  <th>Recoveries</th>                   <td>-0.0047</td>  <td>0.0139</td>   <td>-0.3376</td> <td>0.7357</td> <td>-0.0319</td> <td>0.0225</td> \n",
              "</tr>\n",
              "<tr>\n",
              "  <th>Collection Recovery Fee</th>      <td>-0.0505</td>  <td>0.0387</td>   <td>-1.3045</td> <td>0.1921</td> <td>-0.1264</td> <td>0.0254</td> \n",
              "</tr>\n",
              "<tr>\n",
              "  <th>Collection 12 months Medical</th> <td>-0.0079</td>  <td>0.0141</td>   <td>-0.5591</td> <td>0.5761</td> <td>-0.0354</td> <td>0.0197</td> \n",
              "</tr>\n",
              "<tr>\n",
              "  <th>Application Type</th>             <td>-1.0568</td>  <td>0.0385</td>  <td>-27.4531</td> <td>0.0000</td> <td>-1.1322</td> <td>-0.9813</td>\n",
              "</tr>\n",
              "<tr>\n",
              "  <th>Last week Pay</th>                <td>0.0123</td>   <td>0.0140</td>   <td>0.8776</td>  <td>0.3801</td> <td>-0.0152</td> <td>0.0397</td> \n",
              "</tr>\n",
              "<tr>\n",
              "  <th>Total Collection Amount</th>      <td>0.0283</td>   <td>0.0129</td>   <td>2.1962</td>  <td>0.0281</td> <td>0.0030</td>  <td>0.0535</td> \n",
              "</tr>\n",
              "<tr>\n",
              "  <th>Total Current Balance</th>        <td>0.0309</td>   <td>0.0145</td>   <td>2.1409</td>  <td>0.0323</td> <td>0.0026</td>  <td>0.0593</td> \n",
              "</tr>\n",
              "<tr>\n",
              "  <th>Total Revolving Credit Limit</th> <td>0.0131</td>   <td>0.0140</td>   <td>0.9369</td>  <td>0.3488</td> <td>-0.0144</td> <td>0.0407</td> \n",
              "</tr>\n",
              "<tr>\n",
              "  <th>ID_new</th>                       <td>-0.0067</td>  <td>0.0140</td>   <td>-0.4831</td> <td>0.6290</td> <td>-0.0341</td> <td>0.0206</td> \n",
              "</tr>\n",
              "<tr>\n",
              "  <th>Batch_Num</th>                    <td>-0.0015</td>  <td>0.0146</td>   <td>-0.1031</td> <td>0.9179</td> <td>-0.0301</td> <td>0.0271</td> \n",
              "</tr>\n",
              "<tr>\n",
              "  <th>Initial List Statusw</th>         <td>-0.0402</td>  <td>0.0141</td>   <td>-2.8448</td> <td>0.0044</td> <td>-0.0679</td> <td>-0.0125</td>\n",
              "</tr>\n",
              "</table>"
            ],
            "text/plain": [
              "<class 'statsmodels.iolib.summary2.Summary'>\n",
              "\"\"\"\n",
              "                               Results: Logit\n",
              "=============================================================================\n",
              "Model:                  Logit                Pseudo R-squared:     0.007     \n",
              "Dependent Variable:     Loan Status          AIC:                  37220.9999\n",
              "Date:                   2022-02-25 05:17     BIC:                  37509.4467\n",
              "No. Observations:       60716                Log-Likelihood:       -18578.   \n",
              "Df Model:               31                   LL-Null:              -18708.   \n",
              "Df Residuals:           60684                LLR p-value:          7.3924e-38\n",
              "Converged:              1.0000               Scale:                1.0000    \n",
              "No. Iterations:         6.0000                                               \n",
              "-----------------------------------------------------------------------------\n",
              "                              Coef.  Std.Err.    z     P>|z|   [0.025  0.975]\n",
              "-----------------------------------------------------------------------------\n",
              "Loan Amount                  -0.0264   0.0140  -1.8897 0.0588 -0.0539  0.0010\n",
              "Funded Amount                 0.0003   0.0143   0.0220 0.9825 -0.0278  0.0284\n",
              "Funded Amount Investor       -0.0186   0.0146  -1.2787 0.2010 -0.0471  0.0099\n",
              "Term                         -0.0198   0.0242  -0.8172 0.4138 -0.0671  0.0276\n",
              "Batch Enrolled                0.0888   0.0148   5.9981 0.0000  0.0598  0.1179\n",
              "Interest Rate                 0.0141   0.0142   0.9920 0.3212 -0.0138  0.0420\n",
              "Sub Grade                     0.1804   0.0139  13.0250 0.0000  0.1533  0.2076\n",
              "Employment Duration          -0.0673   0.0207  -3.2549 0.0011 -0.1079 -0.0268\n",
              "Home Ownership                0.0046   0.0141   0.3232 0.7465 -0.0231  0.0322\n",
              "Verification Status           0.0161   0.0143   1.1232 0.2614 -0.0120  0.0441\n",
              "Loan Title                   -0.0005   0.0013  -0.3820 0.7025 -0.0030  0.0020\n",
              "Debit to Income              -0.0080   0.0142  -0.5662 0.5712 -0.0358  0.0198\n",
              "Delinquency - two years       0.0272   0.0133   2.0487 0.0405  0.0012  0.0533\n",
              "Inquires - six months         0.0036   0.0159   0.2273 0.8202 -0.0275  0.0348\n",
              "Open Account                 -0.0195   0.0142  -1.3684 0.1712 -0.0473  0.0084\n",
              "Public Record                 0.0233   0.0136   1.7119 0.0869 -0.0034  0.0499\n",
              "Revolving Balance             0.0101   0.0143   0.7041 0.4814 -0.0179  0.0381\n",
              "Revolving Utilities           0.0073   0.0141   0.5204 0.6028 -0.0203  0.0350\n",
              "Total Accounts               -0.0060   0.0149  -0.4024 0.6874 -0.0351  0.0232\n",
              "Total Received Interest       0.0056   0.0137   0.4070 0.6840 -0.0213  0.0325\n",
              "Total Received Late Fee       0.0294   0.0128   2.2959 0.0217  0.0043  0.0545\n",
              "Recoveries                   -0.0047   0.0139  -0.3376 0.7357 -0.0319  0.0225\n",
              "Collection Recovery Fee      -0.0505   0.0387  -1.3045 0.1921 -0.1264  0.0254\n",
              "Collection 12 months Medical -0.0079   0.0141  -0.5591 0.5761 -0.0354  0.0197\n",
              "Application Type             -1.0568   0.0385 -27.4531 0.0000 -1.1322 -0.9813\n",
              "Last week Pay                 0.0123   0.0140   0.8776 0.3801 -0.0152  0.0397\n",
              "Total Collection Amount       0.0283   0.0129   2.1962 0.0281  0.0030  0.0535\n",
              "Total Current Balance         0.0309   0.0145   2.1409 0.0323  0.0026  0.0593\n",
              "Total Revolving Credit Limit  0.0131   0.0140   0.9369 0.3488 -0.0144  0.0407\n",
              "ID_new                       -0.0067   0.0140  -0.4831 0.6290 -0.0341  0.0206\n",
              "Batch_Num                    -0.0015   0.0146  -0.1031 0.9179 -0.0301  0.0271\n",
              "Initial List Statusw         -0.0402   0.0141  -2.8448 0.0044 -0.0679 -0.0125\n",
              "=============================================================================\n",
              "\n",
              "\"\"\""
            ]
          },
          "metadata": {},
          "execution_count": 72
        }
      ],
      "source": [
        "reg_log = sm.Logit(y_train, X_train)\n",
        "results_log = reg_log.fit()\n",
        "results_log.summary2()"
      ]
    },
    {
      "cell_type": "markdown",
      "metadata": {
        "id": "X8CssSHjvHAt"
      },
      "source": [
        "# Models"
      ]
    },
    {
      "cell_type": "markdown",
      "metadata": {
        "id": "Yeg9Y1iZoDWF"
      },
      "source": [
        "## XGBoost"
      ]
    },
    {
      "cell_type": "code",
      "execution_count": 73,
      "metadata": {
        "id": "GkKsaspZn6ky"
      },
      "outputs": [],
      "source": [
        "from xgboost.sklearn import XGBClassifier\n",
        "# from sklearn.model_selection import StratifiedKFold\n",
        "\n",
        "xgb1=XGBClassifier(base_score=0.75, booster='gblinear', colsample_bylevel=0.5, colsample_bynode=1, colsample_bytree=0.5, gamma=0.1, gpu_id=1,importance_type='gain',\n",
        "                   interaction_constraints='',learning_rate=0.2, max_delta_step=0, max_depth=7, \n",
        "                   min_child_weight=5, missing=None, monotone_constraints='(1,-1)', n_estimators=500, n_jobs=4, num_parallel_tree=1, random_state=0, \n",
        "                   reg_alpha=0, reg_lambda=1, scale_pos_weight=1, subsample=1, tree_method='exact', validate_parameters=1, verbosity=3)"
      ]
    },
    {
      "cell_type": "code",
      "execution_count": 74,
      "metadata": {
        "colab": {
          "base_uri": "https://localhost:8080/"
        },
        "id": "DbNnUSG3oTpl",
        "outputId": "5e07b8ee-c152-42ae-ab00-dc8f603e52b0"
      },
      "outputs": [
        {
          "output_type": "stream",
          "name": "stderr",
          "text": [
            "/usr/local/lib/python3.7/dist-packages/sklearn/preprocessing/_label.py:98: DataConversionWarning: A column-vector y was passed when a 1d array was expected. Please change the shape of y to (n_samples, ), for example using ravel().\n",
            "  y = column_or_1d(y, warn=True)\n",
            "/usr/local/lib/python3.7/dist-packages/sklearn/preprocessing/_label.py:133: DataConversionWarning: A column-vector y was passed when a 1d array was expected. Please change the shape of y to (n_samples, ), for example using ravel().\n",
            "  y = column_or_1d(y, warn=True)\n"
          ]
        },
        {
          "output_type": "execute_result",
          "data": {
            "text/plain": [
              "XGBClassifier(base_score=0.75, booster='gblinear', colsample_bylevel=0.5,\n",
              "              colsample_bytree=0.5, gamma=0.1, gpu_id=1,\n",
              "              interaction_constraints='', learning_rate=0.2, max_depth=7,\n",
              "              min_child_weight=5, monotone_constraints='(1,-1)',\n",
              "              n_estimators=500, n_jobs=4, num_parallel_tree=1,\n",
              "              tree_method='exact', validate_parameters=1, verbosity=3)"
            ]
          },
          "metadata": {},
          "execution_count": 74
        }
      ],
      "source": [
        "xgb1.fit(X_train,y_train)"
      ]
    },
    {
      "cell_type": "markdown",
      "metadata": {
        "id": "ggZEhEGNojo8"
      },
      "source": [
        "### Hyper parameter tuning"
      ]
    },
    {
      "cell_type": "code",
      "execution_count": null,
      "metadata": {
        "id": "kBHyyneooXMf"
      },
      "outputs": [],
      "source": [
        "n_estimators = [100, 500, 900, 1100, 1500]\n",
        "max_depth = [2, 3, 5, 10, 15]\n",
        "booster=['gbtree','gblinear']\n",
        "learning_rate=[0.05,0.1,0.15,0.20]\n",
        "min_child_weight=[1,2,3,4]\n",
        "booster=['gbtree','gblinear']\n",
        "base_score=[0.25,0.5,0.75,1]\n",
        "\n",
        "hyperparameter_grid = {\n",
        "    'n_estimators': n_estimators,\n",
        "    'max_depth':max_depth,\n",
        "    'learning_rate':learning_rate,\n",
        "    'min_child_weight':min_child_weight,\n",
        "    'booster':booster,\n",
        "    'base_score':base_score\n",
        "    }"
      ]
    },
    {
      "cell_type": "code",
      "execution_count": null,
      "metadata": {
        "id": "jo-2iD1yowJm"
      },
      "outputs": [],
      "source": [
        "from sklearn.model_selection import RandomizedSearchCV, GridSearchCV\n",
        "import xgboost\n",
        "\n",
        "def timer(start_time=None):\n",
        "  if not start_time:\n",
        "    start_time = datetime.now()\n",
        "    return start_time\n",
        "  elif start_time:\n",
        "    thour, temp_sec = divmod((datetime.now() - start_time).total_seconds(), 3600)\n",
        "    tmin, tsec = divmod(temp_sec, 60)\n",
        "    print('\\n Time taken: %i hours %i minutes and %s seconds.' % (thour, tmin, round(tsec, 2)))"
      ]
    },
    {
      "cell_type": "code",
      "execution_count": null,
      "metadata": {
        "id": "XbUzy5Myl196"
      },
      "outputs": [],
      "source": [
        "train_x=X_train[:10000]\n",
        "train_y=y_train[:10000]"
      ]
    },
    {
      "cell_type": "code",
      "execution_count": null,
      "metadata": {
        "colab": {
          "base_uri": "https://localhost:8080/"
        },
        "id": "3X9p7A9Yo3WD",
        "outputId": "326a1029-2ab1-4769-99bf-4bb6ec96dfe1"
      },
      "outputs": [
        {
          "output_type": "stream",
          "name": "stdout",
          "text": [
            "Fitting 5 folds for each of 10 candidates, totalling 50 fits\n"
          ]
        },
        {
          "output_type": "stream",
          "name": "stderr",
          "text": [
            "/usr/local/lib/python3.7/dist-packages/sklearn/model_selection/_validation.py:372: FitFailedWarning: \n",
            "10 fits failed out of a total of 50.\n",
            "The score on these train-test partitions for these parameters will be set to nan.\n",
            "If these failures are not expected, you can try to debug them by setting error_score='raise'.\n",
            "\n",
            "Below are more details about the failures:\n",
            "--------------------------------------------------------------------------------\n",
            "1 fits failed with the following error:\n",
            "Traceback (most recent call last):\n",
            "  File \"/usr/local/lib/python3.7/dist-packages/sklearn/model_selection/_validation.py\", line 681, in _fit_and_score\n",
            "    estimator.fit(X_train, y_train, **fit_params)\n",
            "  File \"/usr/local/lib/python3.7/dist-packages/xgboost/sklearn.py\", line 732, in fit\n",
            "    callbacks=callbacks)\n",
            "  File \"/usr/local/lib/python3.7/dist-packages/xgboost/training.py\", line 216, in train\n",
            "    xgb_model=xgb_model, callbacks=callbacks)\n",
            "  File \"/usr/local/lib/python3.7/dist-packages/xgboost/training.py\", line 74, in _train_internal\n",
            "    bst.update(dtrain, i, obj)\n",
            "  File \"/usr/local/lib/python3.7/dist-packages/xgboost/core.py\", line 1109, in update\n",
            "    dtrain.handle))\n",
            "  File \"/usr/local/lib/python3.7/dist-packages/xgboost/core.py\", line 176, in _check_call\n",
            "    raise XGBoostError(py_str(_LIB.XGBGetLastError()))\n",
            "xgboost.core.XGBoostError: [18:38:42] /workspace/src/objective/./regression_loss.h:62: Check failed: base_score > 0.0f && base_score < 1.0f: base_score must be in (0,1) for logistic loss\n",
            "Stack trace:\n",
            "  [bt] (0) /usr/local/lib/python3.7/dist-packages/xgboost/./lib/libxgboost.so(dmlc::LogMessageFatal::~LogMessageFatal()+0x24) [0x7f3954800cb4]\n",
            "  [bt] (1) /usr/local/lib/python3.7/dist-packages/xgboost/./lib/libxgboost.so(xgboost::obj::LogisticRegression::ProbToMargin(float)+0x82) [0x7f3954a00eb2]\n",
            "  [bt] (2) /usr/local/lib/python3.7/dist-packages/xgboost/./lib/libxgboost.so(xgboost::LearnerImpl::LazyInitModel()+0x48a) [0x7f39548960ba]\n",
            "  [bt] (3) /usr/local/lib/python3.7/dist-packages/xgboost/./lib/libxgboost.so(XGBoosterUpdateOneIter+0x52) [0x7f39547fdac2]\n",
            "  [bt] (4) /usr/lib/x86_64-linux-gnu/libffi.so.6(ffi_call_unix64+0x4c) [0x7f39744a6dae]\n",
            "  [bt] (5) /usr/lib/x86_64-linux-gnu/libffi.so.6(ffi_call+0x22f) [0x7f39744a671f]\n",
            "  [bt] (6) /usr/lib/python3.7/lib-dynload/_ctypes.cpython-37m-x86_64-linux-gnu.so(_ctypes_callproc+0x28c) [0x7f39746ba5bc]\n",
            "  [bt] (7) /usr/lib/python3.7/lib-dynload/_ctypes.cpython-37m-x86_64-linux-gnu.so(+0x109e3) [0x7f39746b99e3]\n",
            "  [bt] (8) /usr/bin/python3(_PyObject_FastCallKeywords+0x92) [0x563d203efc52]\n",
            "\n",
            "\n",
            "\n",
            "--------------------------------------------------------------------------------\n",
            "1 fits failed with the following error:\n",
            "Traceback (most recent call last):\n",
            "  File \"/usr/local/lib/python3.7/dist-packages/sklearn/model_selection/_validation.py\", line 681, in _fit_and_score\n",
            "    estimator.fit(X_train, y_train, **fit_params)\n",
            "  File \"/usr/local/lib/python3.7/dist-packages/xgboost/sklearn.py\", line 732, in fit\n",
            "    callbacks=callbacks)\n",
            "  File \"/usr/local/lib/python3.7/dist-packages/xgboost/training.py\", line 216, in train\n",
            "    xgb_model=xgb_model, callbacks=callbacks)\n",
            "  File \"/usr/local/lib/python3.7/dist-packages/xgboost/training.py\", line 74, in _train_internal\n",
            "    bst.update(dtrain, i, obj)\n",
            "  File \"/usr/local/lib/python3.7/dist-packages/xgboost/core.py\", line 1109, in update\n",
            "    dtrain.handle))\n",
            "  File \"/usr/local/lib/python3.7/dist-packages/xgboost/core.py\", line 176, in _check_call\n",
            "    raise XGBoostError(py_str(_LIB.XGBGetLastError()))\n",
            "xgboost.core.XGBoostError: [18:38:42] /workspace/src/objective/./regression_loss.h:62: Check failed: base_score > 0.0f && base_score < 1.0f: base_score must be in (0,1) for logistic loss\n",
            "Stack trace:\n",
            "  [bt] (0) /usr/local/lib/python3.7/dist-packages/xgboost/./lib/libxgboost.so(dmlc::LogMessageFatal::~LogMessageFatal()+0x24) [0x7f8919491cb4]\n",
            "  [bt] (1) /usr/local/lib/python3.7/dist-packages/xgboost/./lib/libxgboost.so(xgboost::obj::LogisticRegression::ProbToMargin(float)+0x82) [0x7f8919691eb2]\n",
            "  [bt] (2) /usr/local/lib/python3.7/dist-packages/xgboost/./lib/libxgboost.so(xgboost::LearnerImpl::LazyInitModel()+0x48a) [0x7f89195270ba]\n",
            "  [bt] (3) /usr/local/lib/python3.7/dist-packages/xgboost/./lib/libxgboost.so(XGBoosterUpdateOneIter+0x52) [0x7f891948eac2]\n",
            "  [bt] (4) /usr/lib/x86_64-linux-gnu/libffi.so.6(ffi_call_unix64+0x4c) [0x7f8939137dae]\n",
            "  [bt] (5) /usr/lib/x86_64-linux-gnu/libffi.so.6(ffi_call+0x22f) [0x7f893913771f]\n",
            "  [bt] (6) /usr/lib/python3.7/lib-dynload/_ctypes.cpython-37m-x86_64-linux-gnu.so(_ctypes_callproc+0x28c) [0x7f893934b5bc]\n",
            "  [bt] (7) /usr/lib/python3.7/lib-dynload/_ctypes.cpython-37m-x86_64-linux-gnu.so(+0x109e3) [0x7f893934a9e3]\n",
            "  [bt] (8) /usr/bin/python3(_PyObject_FastCallKeywords+0x92) [0x55a839b0ac52]\n",
            "\n",
            "\n",
            "\n",
            "--------------------------------------------------------------------------------\n",
            "1 fits failed with the following error:\n",
            "Traceback (most recent call last):\n",
            "  File \"/usr/local/lib/python3.7/dist-packages/sklearn/model_selection/_validation.py\", line 681, in _fit_and_score\n",
            "    estimator.fit(X_train, y_train, **fit_params)\n",
            "  File \"/usr/local/lib/python3.7/dist-packages/xgboost/sklearn.py\", line 732, in fit\n",
            "    callbacks=callbacks)\n",
            "  File \"/usr/local/lib/python3.7/dist-packages/xgboost/training.py\", line 216, in train\n",
            "    xgb_model=xgb_model, callbacks=callbacks)\n",
            "  File \"/usr/local/lib/python3.7/dist-packages/xgboost/training.py\", line 74, in _train_internal\n",
            "    bst.update(dtrain, i, obj)\n",
            "  File \"/usr/local/lib/python3.7/dist-packages/xgboost/core.py\", line 1109, in update\n",
            "    dtrain.handle))\n",
            "  File \"/usr/local/lib/python3.7/dist-packages/xgboost/core.py\", line 176, in _check_call\n",
            "    raise XGBoostError(py_str(_LIB.XGBGetLastError()))\n",
            "xgboost.core.XGBoostError: [18:38:42] /workspace/src/objective/./regression_loss.h:62: Check failed: base_score > 0.0f && base_score < 1.0f: base_score must be in (0,1) for logistic loss\n",
            "Stack trace:\n",
            "  [bt] (0) /usr/local/lib/python3.7/dist-packages/xgboost/./lib/libxgboost.so(dmlc::LogMessageFatal::~LogMessageFatal()+0x24) [0x7f9f31cc7cb4]\n",
            "  [bt] (1) /usr/local/lib/python3.7/dist-packages/xgboost/./lib/libxgboost.so(xgboost::obj::LogisticRegression::ProbToMargin(float)+0x82) [0x7f9f31ec7eb2]\n",
            "  [bt] (2) /usr/local/lib/python3.7/dist-packages/xgboost/./lib/libxgboost.so(xgboost::LearnerImpl::LazyInitModel()+0x48a) [0x7f9f31d5d0ba]\n",
            "  [bt] (3) /usr/local/lib/python3.7/dist-packages/xgboost/./lib/libxgboost.so(XGBoosterUpdateOneIter+0x52) [0x7f9f31cc4ac2]\n",
            "  [bt] (4) /usr/lib/x86_64-linux-gnu/libffi.so.6(ffi_call_unix64+0x4c) [0x7f9f5196ddae]\n",
            "  [bt] (5) /usr/lib/x86_64-linux-gnu/libffi.so.6(ffi_call+0x22f) [0x7f9f5196d71f]\n",
            "  [bt] (6) /usr/lib/python3.7/lib-dynload/_ctypes.cpython-37m-x86_64-linux-gnu.so(_ctypes_callproc+0x28c) [0x7f9f51b815bc]\n",
            "  [bt] (7) /usr/lib/python3.7/lib-dynload/_ctypes.cpython-37m-x86_64-linux-gnu.so(+0x109e3) [0x7f9f51b809e3]\n",
            "  [bt] (8) /usr/bin/python3(_PyObject_FastCallKeywords+0x92) [0x5568de681c52]\n",
            "\n",
            "\n",
            "\n",
            "--------------------------------------------------------------------------------\n",
            "1 fits failed with the following error:\n",
            "Traceback (most recent call last):\n",
            "  File \"/usr/local/lib/python3.7/dist-packages/sklearn/model_selection/_validation.py\", line 681, in _fit_and_score\n",
            "    estimator.fit(X_train, y_train, **fit_params)\n",
            "  File \"/usr/local/lib/python3.7/dist-packages/xgboost/sklearn.py\", line 732, in fit\n",
            "    callbacks=callbacks)\n",
            "  File \"/usr/local/lib/python3.7/dist-packages/xgboost/training.py\", line 216, in train\n",
            "    xgb_model=xgb_model, callbacks=callbacks)\n",
            "  File \"/usr/local/lib/python3.7/dist-packages/xgboost/training.py\", line 74, in _train_internal\n",
            "    bst.update(dtrain, i, obj)\n",
            "  File \"/usr/local/lib/python3.7/dist-packages/xgboost/core.py\", line 1109, in update\n",
            "    dtrain.handle))\n",
            "  File \"/usr/local/lib/python3.7/dist-packages/xgboost/core.py\", line 176, in _check_call\n",
            "    raise XGBoostError(py_str(_LIB.XGBGetLastError()))\n",
            "xgboost.core.XGBoostError: [18:38:42] /workspace/src/objective/./regression_loss.h:62: Check failed: base_score > 0.0f && base_score < 1.0f: base_score must be in (0,1) for logistic loss\n",
            "Stack trace:\n",
            "  [bt] (0) /usr/local/lib/python3.7/dist-packages/xgboost/./lib/libxgboost.so(dmlc::LogMessageFatal::~LogMessageFatal()+0x24) [0x7f5d495c1cb4]\n",
            "  [bt] (1) /usr/local/lib/python3.7/dist-packages/xgboost/./lib/libxgboost.so(xgboost::obj::LogisticRegression::ProbToMargin(float)+0x82) [0x7f5d497c1eb2]\n",
            "  [bt] (2) /usr/local/lib/python3.7/dist-packages/xgboost/./lib/libxgboost.so(xgboost::LearnerImpl::LazyInitModel()+0x48a) [0x7f5d496570ba]\n",
            "  [bt] (3) /usr/local/lib/python3.7/dist-packages/xgboost/./lib/libxgboost.so(XGBoosterUpdateOneIter+0x52) [0x7f5d495beac2]\n",
            "  [bt] (4) /usr/lib/x86_64-linux-gnu/libffi.so.6(ffi_call_unix64+0x4c) [0x7f5d69267dae]\n",
            "  [bt] (5) /usr/lib/x86_64-linux-gnu/libffi.so.6(ffi_call+0x22f) [0x7f5d6926771f]\n",
            "  [bt] (6) /usr/lib/python3.7/lib-dynload/_ctypes.cpython-37m-x86_64-linux-gnu.so(_ctypes_callproc+0x28c) [0x7f5d6947b5bc]\n",
            "  [bt] (7) /usr/lib/python3.7/lib-dynload/_ctypes.cpython-37m-x86_64-linux-gnu.so(+0x109e3) [0x7f5d6947a9e3]\n",
            "  [bt] (8) /usr/bin/python3(_PyObject_FastCallKeywords+0x92) [0x56486254bc52]\n",
            "\n",
            "\n",
            "\n",
            "--------------------------------------------------------------------------------\n",
            "1 fits failed with the following error:\n",
            "Traceback (most recent call last):\n",
            "  File \"/usr/local/lib/python3.7/dist-packages/sklearn/model_selection/_validation.py\", line 681, in _fit_and_score\n",
            "    estimator.fit(X_train, y_train, **fit_params)\n",
            "  File \"/usr/local/lib/python3.7/dist-packages/xgboost/sklearn.py\", line 732, in fit\n",
            "    callbacks=callbacks)\n",
            "  File \"/usr/local/lib/python3.7/dist-packages/xgboost/training.py\", line 216, in train\n",
            "    xgb_model=xgb_model, callbacks=callbacks)\n",
            "  File \"/usr/local/lib/python3.7/dist-packages/xgboost/training.py\", line 74, in _train_internal\n",
            "    bst.update(dtrain, i, obj)\n",
            "  File \"/usr/local/lib/python3.7/dist-packages/xgboost/core.py\", line 1109, in update\n",
            "    dtrain.handle))\n",
            "  File \"/usr/local/lib/python3.7/dist-packages/xgboost/core.py\", line 176, in _check_call\n",
            "    raise XGBoostError(py_str(_LIB.XGBGetLastError()))\n",
            "xgboost.core.XGBoostError: [18:38:43] /workspace/src/objective/./regression_loss.h:62: Check failed: base_score > 0.0f && base_score < 1.0f: base_score must be in (0,1) for logistic loss\n",
            "Stack trace:\n",
            "  [bt] (0) /usr/local/lib/python3.7/dist-packages/xgboost/./lib/libxgboost.so(dmlc::LogMessageFatal::~LogMessageFatal()+0x24) [0x7f499998ccb4]\n",
            "  [bt] (1) /usr/local/lib/python3.7/dist-packages/xgboost/./lib/libxgboost.so(xgboost::obj::LogisticRegression::ProbToMargin(float)+0x82) [0x7f4999b8ceb2]\n",
            "  [bt] (2) /usr/local/lib/python3.7/dist-packages/xgboost/./lib/libxgboost.so(xgboost::LearnerImpl::LazyInitModel()+0x48a) [0x7f4999a220ba]\n",
            "  [bt] (3) /usr/local/lib/python3.7/dist-packages/xgboost/./lib/libxgboost.so(XGBoosterUpdateOneIter+0x52) [0x7f4999989ac2]\n",
            "  [bt] (4) /usr/lib/x86_64-linux-gnu/libffi.so.6(ffi_call_unix64+0x4c) [0x7f49b9632dae]\n",
            "  [bt] (5) /usr/lib/x86_64-linux-gnu/libffi.so.6(ffi_call+0x22f) [0x7f49b963271f]\n",
            "  [bt] (6) /usr/lib/python3.7/lib-dynload/_ctypes.cpython-37m-x86_64-linux-gnu.so(_ctypes_callproc+0x28c) [0x7f49b98465bc]\n",
            "  [bt] (7) /usr/lib/python3.7/lib-dynload/_ctypes.cpython-37m-x86_64-linux-gnu.so(+0x109e3) [0x7f49b98459e3]\n",
            "  [bt] (8) /usr/bin/python3(_PyObject_FastCallKeywords+0x92) [0x55598de8fc52]\n",
            "\n",
            "\n",
            "\n",
            "--------------------------------------------------------------------------------\n",
            "1 fits failed with the following error:\n",
            "Traceback (most recent call last):\n",
            "  File \"/usr/local/lib/python3.7/dist-packages/sklearn/model_selection/_validation.py\", line 681, in _fit_and_score\n",
            "    estimator.fit(X_train, y_train, **fit_params)\n",
            "  File \"/usr/local/lib/python3.7/dist-packages/xgboost/sklearn.py\", line 732, in fit\n",
            "    callbacks=callbacks)\n",
            "  File \"/usr/local/lib/python3.7/dist-packages/xgboost/training.py\", line 216, in train\n",
            "    xgb_model=xgb_model, callbacks=callbacks)\n",
            "  File \"/usr/local/lib/python3.7/dist-packages/xgboost/training.py\", line 74, in _train_internal\n",
            "    bst.update(dtrain, i, obj)\n",
            "  File \"/usr/local/lib/python3.7/dist-packages/xgboost/core.py\", line 1109, in update\n",
            "    dtrain.handle))\n",
            "  File \"/usr/local/lib/python3.7/dist-packages/xgboost/core.py\", line 176, in _check_call\n",
            "    raise XGBoostError(py_str(_LIB.XGBGetLastError()))\n",
            "xgboost.core.XGBoostError: [18:39:34] /workspace/src/objective/./regression_loss.h:62: Check failed: base_score > 0.0f && base_score < 1.0f: base_score must be in (0,1) for logistic loss\n",
            "Stack trace:\n",
            "  [bt] (0) /usr/local/lib/python3.7/dist-packages/xgboost/./lib/libxgboost.so(dmlc::LogMessageFatal::~LogMessageFatal()+0x24) [0x7f3954800cb4]\n",
            "  [bt] (1) /usr/local/lib/python3.7/dist-packages/xgboost/./lib/libxgboost.so(xgboost::obj::LogisticRegression::ProbToMargin(float)+0x82) [0x7f3954a00eb2]\n",
            "  [bt] (2) /usr/local/lib/python3.7/dist-packages/xgboost/./lib/libxgboost.so(xgboost::LearnerImpl::LazyInitModel()+0x48a) [0x7f39548960ba]\n",
            "  [bt] (3) /usr/local/lib/python3.7/dist-packages/xgboost/./lib/libxgboost.so(XGBoosterUpdateOneIter+0x52) [0x7f39547fdac2]\n",
            "  [bt] (4) /usr/lib/x86_64-linux-gnu/libffi.so.6(ffi_call_unix64+0x4c) [0x7f39744a6dae]\n",
            "  [bt] (5) /usr/lib/x86_64-linux-gnu/libffi.so.6(ffi_call+0x22f) [0x7f39744a671f]\n",
            "  [bt] (6) /usr/lib/python3.7/lib-dynload/_ctypes.cpython-37m-x86_64-linux-gnu.so(_ctypes_callproc+0x28c) [0x7f39746ba5bc]\n",
            "  [bt] (7) /usr/lib/python3.7/lib-dynload/_ctypes.cpython-37m-x86_64-linux-gnu.so(+0x109e3) [0x7f39746b99e3]\n",
            "  [bt] (8) /usr/bin/python3(_PyObject_FastCallKeywords+0x92) [0x563d203efc52]\n",
            "\n",
            "\n",
            "\n",
            "--------------------------------------------------------------------------------\n",
            "2 fits failed with the following error:\n",
            "Traceback (most recent call last):\n",
            "  File \"/usr/local/lib/python3.7/dist-packages/sklearn/model_selection/_validation.py\", line 681, in _fit_and_score\n",
            "    estimator.fit(X_train, y_train, **fit_params)\n",
            "  File \"/usr/local/lib/python3.7/dist-packages/xgboost/sklearn.py\", line 732, in fit\n",
            "    callbacks=callbacks)\n",
            "  File \"/usr/local/lib/python3.7/dist-packages/xgboost/training.py\", line 216, in train\n",
            "    xgb_model=xgb_model, callbacks=callbacks)\n",
            "  File \"/usr/local/lib/python3.7/dist-packages/xgboost/training.py\", line 74, in _train_internal\n",
            "    bst.update(dtrain, i, obj)\n",
            "  File \"/usr/local/lib/python3.7/dist-packages/xgboost/core.py\", line 1109, in update\n",
            "    dtrain.handle))\n",
            "  File \"/usr/local/lib/python3.7/dist-packages/xgboost/core.py\", line 176, in _check_call\n",
            "    raise XGBoostError(py_str(_LIB.XGBGetLastError()))\n",
            "xgboost.core.XGBoostError: [18:39:35] /workspace/src/objective/./regression_loss.h:62: Check failed: base_score > 0.0f && base_score < 1.0f: base_score must be in (0,1) for logistic loss\n",
            "Stack trace:\n",
            "  [bt] (0) /usr/local/lib/python3.7/dist-packages/xgboost/./lib/libxgboost.so(dmlc::LogMessageFatal::~LogMessageFatal()+0x24) [0x7f5d495c1cb4]\n",
            "  [bt] (1) /usr/local/lib/python3.7/dist-packages/xgboost/./lib/libxgboost.so(xgboost::obj::LogisticRegression::ProbToMargin(float)+0x82) [0x7f5d497c1eb2]\n",
            "  [bt] (2) /usr/local/lib/python3.7/dist-packages/xgboost/./lib/libxgboost.so(xgboost::LearnerImpl::LazyInitModel()+0x48a) [0x7f5d496570ba]\n",
            "  [bt] (3) /usr/local/lib/python3.7/dist-packages/xgboost/./lib/libxgboost.so(XGBoosterUpdateOneIter+0x52) [0x7f5d495beac2]\n",
            "  [bt] (4) /usr/lib/x86_64-linux-gnu/libffi.so.6(ffi_call_unix64+0x4c) [0x7f5d69267dae]\n",
            "  [bt] (5) /usr/lib/x86_64-linux-gnu/libffi.so.6(ffi_call+0x22f) [0x7f5d6926771f]\n",
            "  [bt] (6) /usr/lib/python3.7/lib-dynload/_ctypes.cpython-37m-x86_64-linux-gnu.so(_ctypes_callproc+0x28c) [0x7f5d6947b5bc]\n",
            "  [bt] (7) /usr/lib/python3.7/lib-dynload/_ctypes.cpython-37m-x86_64-linux-gnu.so(+0x109e3) [0x7f5d6947a9e3]\n",
            "  [bt] (8) /usr/bin/python3(_PyObject_FastCallKeywords+0x92) [0x56486254bc52]\n",
            "\n",
            "\n",
            "\n",
            "--------------------------------------------------------------------------------\n",
            "2 fits failed with the following error:\n",
            "Traceback (most recent call last):\n",
            "  File \"/usr/local/lib/python3.7/dist-packages/sklearn/model_selection/_validation.py\", line 681, in _fit_and_score\n",
            "    estimator.fit(X_train, y_train, **fit_params)\n",
            "  File \"/usr/local/lib/python3.7/dist-packages/xgboost/sklearn.py\", line 732, in fit\n",
            "    callbacks=callbacks)\n",
            "  File \"/usr/local/lib/python3.7/dist-packages/xgboost/training.py\", line 216, in train\n",
            "    xgb_model=xgb_model, callbacks=callbacks)\n",
            "  File \"/usr/local/lib/python3.7/dist-packages/xgboost/training.py\", line 74, in _train_internal\n",
            "    bst.update(dtrain, i, obj)\n",
            "  File \"/usr/local/lib/python3.7/dist-packages/xgboost/core.py\", line 1109, in update\n",
            "    dtrain.handle))\n",
            "  File \"/usr/local/lib/python3.7/dist-packages/xgboost/core.py\", line 176, in _check_call\n",
            "    raise XGBoostError(py_str(_LIB.XGBGetLastError()))\n",
            "xgboost.core.XGBoostError: [18:39:35] /workspace/src/objective/./regression_loss.h:62: Check failed: base_score > 0.0f && base_score < 1.0f: base_score must be in (0,1) for logistic loss\n",
            "Stack trace:\n",
            "  [bt] (0) /usr/local/lib/python3.7/dist-packages/xgboost/./lib/libxgboost.so(dmlc::LogMessageFatal::~LogMessageFatal()+0x24) [0x7f3954800cb4]\n",
            "  [bt] (1) /usr/local/lib/python3.7/dist-packages/xgboost/./lib/libxgboost.so(xgboost::obj::LogisticRegression::ProbToMargin(float)+0x82) [0x7f3954a00eb2]\n",
            "  [bt] (2) /usr/local/lib/python3.7/dist-packages/xgboost/./lib/libxgboost.so(xgboost::LearnerImpl::LazyInitModel()+0x48a) [0x7f39548960ba]\n",
            "  [bt] (3) /usr/local/lib/python3.7/dist-packages/xgboost/./lib/libxgboost.so(XGBoosterUpdateOneIter+0x52) [0x7f39547fdac2]\n",
            "  [bt] (4) /usr/lib/x86_64-linux-gnu/libffi.so.6(ffi_call_unix64+0x4c) [0x7f39744a6dae]\n",
            "  [bt] (5) /usr/lib/x86_64-linux-gnu/libffi.so.6(ffi_call+0x22f) [0x7f39744a671f]\n",
            "  [bt] (6) /usr/lib/python3.7/lib-dynload/_ctypes.cpython-37m-x86_64-linux-gnu.so(_ctypes_callproc+0x28c) [0x7f39746ba5bc]\n",
            "  [bt] (7) /usr/lib/python3.7/lib-dynload/_ctypes.cpython-37m-x86_64-linux-gnu.so(+0x109e3) [0x7f39746b99e3]\n",
            "  [bt] (8) /usr/bin/python3(_PyObject_FastCallKeywords+0x92) [0x563d203efc52]\n",
            "\n",
            "\n",
            "\n",
            "  warnings.warn(some_fits_failed_message, FitFailedWarning)\n",
            "/usr/local/lib/python3.7/dist-packages/sklearn/model_selection/_search.py:972: UserWarning: One or more of the test scores are non-finite: [        nan -0.30650257 -0.30128779 -0.30793076 -0.34919809         nan\n",
            " -0.319385   -0.30127526 -0.30135732 -0.30133736]\n",
            "  category=UserWarning,\n",
            "/usr/local/lib/python3.7/dist-packages/sklearn/model_selection/_search.py:972: UserWarning: One or more of the train scores are non-finite: [        nan -0.14087748 -0.30098673 -0.24446901 -0.05156272         nan\n",
            " -0.18245638 -0.30097051 -0.30106465 -0.30103915]\n",
            "  category=UserWarning,\n",
            "/usr/local/lib/python3.7/dist-packages/sklearn/preprocessing/_label.py:98: DataConversionWarning: A column-vector y was passed when a 1d array was expected. Please change the shape of y to (n_samples, ), for example using ravel().\n",
            "  y = column_or_1d(y, warn=True)\n",
            "/usr/local/lib/python3.7/dist-packages/sklearn/preprocessing/_label.py:133: DataConversionWarning: A column-vector y was passed when a 1d array was expected. Please change the shape of y to (n_samples, ), for example using ravel().\n",
            "  y = column_or_1d(y, warn=True)\n"
          ]
        },
        {
          "output_type": "stream",
          "name": "stdout",
          "text": [
            "\n",
            " Time taken: 0 hours 2 minutes and 39.05 seconds.\n"
          ]
        }
      ],
      "source": [
        "random_search=RandomizedSearchCV(estimator=xgb1,param_distributions=hyperparameter_grid,n_iter=10,\n",
        "                                 scoring='neg_log_loss',n_jobs=5,cv=5,verbose=5,\n",
        "                                 return_train_score = True,random_state=42)\n",
        "\n",
        "from datetime import datetime\n",
        "start_time = timer(None) # timing starts from this point for \"start_time\" variable\n",
        "random_search.fit(train_x,train_y)\n",
        "timer(start_time) # timing ends here for \"start_time\" variable"
      ]
    },
    {
      "cell_type": "code",
      "execution_count": null,
      "metadata": {
        "id": "G1Xm2bfOo5Te",
        "colab": {
          "base_uri": "https://localhost:8080/"
        },
        "outputId": "585b6e56-eff7-4064-cb67-0871a91f1cf8"
      },
      "outputs": [
        {
          "output_type": "execute_result",
          "data": {
            "text/plain": [
              "XGBClassifier(base_score=0.75, booster='gblinear', colsample_bylevel=0.5,\n",
              "              colsample_bytree=0.5, gamma=0.1, gpu_id=1,\n",
              "              interaction_constraints='', max_depth=10, min_child_weight=2,\n",
              "              monotone_constraints='(1,-1)', n_estimators=1500, n_jobs=4,\n",
              "              num_parallel_tree=1, tree_method='exact', validate_parameters=1,\n",
              "              verbosity=3)"
            ]
          },
          "metadata": {},
          "execution_count": 1168
        }
      ],
      "source": [
        "random_search.best_estimator_"
      ]
    },
    {
      "cell_type": "code",
      "execution_count": null,
      "metadata": {
        "colab": {
          "base_uri": "https://localhost:8080/"
        },
        "id": "MhpMXIdyo7iz",
        "outputId": "e7259003-55fc-4740-8333-050f55fd95ca"
      },
      "outputs": [
        {
          "output_type": "stream",
          "name": "stderr",
          "text": [
            "/usr/local/lib/python3.7/dist-packages/sklearn/preprocessing/_label.py:98: DataConversionWarning: A column-vector y was passed when a 1d array was expected. Please change the shape of y to (n_samples, ), for example using ravel().\n",
            "  y = column_or_1d(y, warn=True)\n",
            "/usr/local/lib/python3.7/dist-packages/sklearn/preprocessing/_label.py:133: DataConversionWarning: A column-vector y was passed when a 1d array was expected. Please change the shape of y to (n_samples, ), for example using ravel().\n",
            "  y = column_or_1d(y, warn=True)\n"
          ]
        },
        {
          "output_type": "stream",
          "name": "stdout",
          "text": [
            "[18:59:17] ======== Monitor: Learner ========\n",
            "[18:59:17] GetGradient: 1.02473s, 1500 calls @ 683us\n",
            "[18:59:17] PredictRaw: 0.0141532s, 1500 calls @ 9us\n",
            "[18:59:17] UpdateOneIter: 7.03232s, 1500 calls @ 4688us\n",
            "[18:59:17] ======== Monitor: GBLinear ========\n",
            "[18:59:17] DoBoost: 5.98779s, 1500 calls @ 3991us\n",
            "[18:59:17] PredictBatch: 0.0128926s, 1500 calls @ 8us\n",
            "[18:59:17] PredictBatchInternal: 3.46815s, 1501 calls @ 2310us\n"
          ]
        },
        {
          "output_type": "execute_result",
          "data": {
            "text/plain": [
              "XGBClassifier(base_score=0.75, booster='gblinear', colsample_bylevel=0.5,\n",
              "              colsample_bytree=0.5, gamma=0.1, gpu_id=1,\n",
              "              interaction_constraints='', max_depth=10, min_child_weight=2,\n",
              "              monotone_constraints='(1,-1)', n_estimators=1500, n_jobs=4,\n",
              "              num_parallel_tree=1, tree_method='exact', validate_parameters=1,\n",
              "              verbosity=3)"
            ]
          },
          "metadata": {},
          "execution_count": 1199
        }
      ],
      "source": [
        "xgb1=random_search.best_estimator_\n",
        "xgb1.fit(X_train,y_train)"
      ]
    },
    {
      "cell_type": "code",
      "execution_count": 75,
      "metadata": {
        "id": "QBxVDn0zo9GW"
      },
      "outputs": [],
      "source": [
        "y_pred_prob1 = xgb1.predict_proba(X_train)[:,1]\n",
        "y_pred_test1 = xgb1.predict_proba(df_test)[:,1]\n",
        "y_pred_valid1 = xgb1.predict_proba(x_valid)[:,1]"
      ]
    },
    {
      "cell_type": "markdown",
      "metadata": {
        "id": "U_KQ7PbVpCqe"
      },
      "source": [
        "## Random Forests"
      ]
    },
    {
      "cell_type": "code",
      "execution_count": 76,
      "metadata": {
        "colab": {
          "base_uri": "https://localhost:8080/"
        },
        "id": "zQjm4QJRpAaC",
        "outputId": "b8245fa1-a37b-4a4b-c4bb-8fd5ec1a0c6e"
      },
      "outputs": [
        {
          "output_type": "stream",
          "name": "stderr",
          "text": [
            "/usr/local/lib/python3.7/dist-packages/ipykernel_launcher.py:6: DataConversionWarning: A column-vector y was passed when a 1d array was expected. Please change the shape of y to (n_samples,), for example using ravel().\n",
            "  \n"
          ]
        },
        {
          "output_type": "execute_result",
          "data": {
            "text/plain": [
              "RandomForestClassifier(bootstrap=False, max_depth=4, max_features='sqrt',\n",
              "                       min_samples_leaf=2, min_samples_split=5,\n",
              "                       n_estimators=341)"
            ]
          },
          "metadata": {},
          "execution_count": 76
        }
      ],
      "source": [
        "from sklearn.ensemble import RandomForestClassifier\n",
        "# rf = RandomForestClassifier(n_estimators=100,random_state=42)\n",
        "rf = RandomForestClassifier(bootstrap=False, max_depth=4, max_features='sqrt',\n",
        "                       min_samples_leaf=2, min_samples_split=5,\n",
        "                       n_estimators=341)\n",
        "rf.fit(X_train, y_train)"
      ]
    },
    {
      "cell_type": "markdown",
      "metadata": {
        "id": "rAi7zS17-3OW"
      },
      "source": [
        "### hyper parameter tuning"
      ]
    },
    {
      "cell_type": "code",
      "execution_count": null,
      "metadata": {
        "id": "HdG3qwjppGcL"
      },
      "outputs": [],
      "source": [
        "# Number of trees in random forest\n",
        "n_estimators = [int(x) for x in np.linspace(start = 25, stop = 500, num = 10)]\n",
        "# Number of features to consider at every split\n",
        "max_features = ['auto', 'sqrt']\n",
        "# Maximum number of levels in tree\n",
        "max_depth = [int(x) for x in np.linspace(2, 20, num = 10)]\n",
        "max_depth.append(None)\n",
        "# Minimum number of samples required to split a node\n",
        "min_samples_split = [2, 5, 10]\n",
        "# Minimum number of samples required at each leaf node\n",
        "min_samples_leaf = [1, 2, 4]\n",
        "# Method of selecting samples for training each tree\n",
        "bootstrap = [True, False]\n"
      ]
    },
    {
      "cell_type": "code",
      "execution_count": null,
      "metadata": {
        "id": "uh4iyolXpK_e",
        "colab": {
          "base_uri": "https://localhost:8080/"
        },
        "outputId": "0b72ec57-47bf-4b48-d1e7-09806a914ef6"
      },
      "outputs": [
        {
          "output_type": "stream",
          "name": "stdout",
          "text": [
            "{'n_estimators': [25, 77, 130, 183, 236, 288, 341, 394, 447, 500], 'max_depth': [2, 4, 6, 8, 10, 12, 14, 16, 18, 20, None], 'min_samples_split': [2, 5, 10], 'min_samples_leaf': [1, 2, 4], 'bootstrap': [True, False]}\n"
          ]
        }
      ],
      "source": [
        "random_grid = {'n_estimators': n_estimators,\n",
        "'max_depth': max_depth,\n",
        "'min_samples_split': min_samples_split,\n",
        "'min_samples_leaf': min_samples_leaf,\n",
        "'bootstrap': bootstrap}\n",
        "print(random_grid)"
      ]
    },
    {
      "cell_type": "code",
      "execution_count": null,
      "metadata": {
        "id": "hnVFBIV9pOlB"
      },
      "outputs": [],
      "source": [
        "rf_random = RandomizedSearchCV(estimator = rf, param_distributions = random_grid,\n",
        "n_iter = 10,scoring='neg_log_loss', cv = 5, verbose=500, random_state=42, n_jobs = 5)"
      ]
    },
    {
      "cell_type": "code",
      "execution_count": null,
      "metadata": {
        "id": "PIIPnXnwpRyY",
        "colab": {
          "base_uri": "https://localhost:8080/"
        },
        "outputId": "427c5966-ccfb-4e1e-baf6-7368b77abf8e"
      },
      "outputs": [
        {
          "output_type": "stream",
          "name": "stdout",
          "text": [
            "Fitting 5 folds for each of 10 candidates, totalling 50 fits\n"
          ]
        },
        {
          "output_type": "stream",
          "name": "stderr",
          "text": [
            "/usr/local/lib/python3.7/dist-packages/sklearn/model_selection/_search.py:926: DataConversionWarning: A column-vector y was passed when a 1d array was expected. Please change the shape of y to (n_samples,), for example using ravel().\n",
            "  self.best_estimator_.fit(X, y, **fit_params)\n"
          ]
        },
        {
          "output_type": "execute_result",
          "data": {
            "text/plain": [
              "RandomizedSearchCV(cv=5,\n",
              "                   estimator=RandomForestClassifier(bootstrap=False,\n",
              "                                                    max_depth=4,\n",
              "                                                    max_features='sqrt',\n",
              "                                                    min_samples_leaf=2,\n",
              "                                                    min_samples_split=5,\n",
              "                                                    n_estimators=341),\n",
              "                   n_jobs=5,\n",
              "                   param_distributions={'bootstrap': [True, False],\n",
              "                                        'max_depth': [2, 4, 6, 8, 10, 12, 14,\n",
              "                                                      16, 18, 20, None],\n",
              "                                        'min_samples_leaf': [1, 2, 4],\n",
              "                                        'min_samples_split': [2, 5, 10],\n",
              "                                        'n_estimators': [25, 77, 130, 183, 236,\n",
              "                                                         288, 341, 394, 447,\n",
              "                                                         500]},\n",
              "                   random_state=42, scoring='neg_log_loss', verbose=500)"
            ]
          },
          "metadata": {},
          "execution_count": 1172
        }
      ],
      "source": [
        "rf_random.fit(train_x, train_y)"
      ]
    },
    {
      "cell_type": "code",
      "execution_count": null,
      "metadata": {
        "colab": {
          "base_uri": "https://localhost:8080/"
        },
        "id": "c3O8fYs9pUy6",
        "outputId": "e5fd7ee9-d1ac-4fdb-9fc3-137472f1a1d6"
      },
      "outputs": [
        {
          "output_type": "execute_result",
          "data": {
            "text/plain": [
              "RandomForestClassifier(max_depth=4, max_features='sqrt', min_samples_leaf=2,\n",
              "                       n_estimators=77)"
            ]
          },
          "metadata": {},
          "execution_count": 1173
        }
      ],
      "source": [
        "rf=rf_random.best_estimator_\n",
        "rf"
      ]
    },
    {
      "cell_type": "code",
      "execution_count": null,
      "metadata": {
        "id": "DAG-5VuRpW_I",
        "colab": {
          "base_uri": "https://localhost:8080/"
        },
        "outputId": "d3df5727-bbae-4667-a214-09e97582fbd2"
      },
      "outputs": [
        {
          "output_type": "execute_result",
          "data": {
            "text/plain": [
              "dict_keys(['explained_variance', 'r2', 'max_error', 'neg_median_absolute_error', 'neg_mean_absolute_error', 'neg_mean_absolute_percentage_error', 'neg_mean_squared_error', 'neg_mean_squared_log_error', 'neg_root_mean_squared_error', 'neg_mean_poisson_deviance', 'neg_mean_gamma_deviance', 'accuracy', 'top_k_accuracy', 'roc_auc', 'roc_auc_ovr', 'roc_auc_ovo', 'roc_auc_ovr_weighted', 'roc_auc_ovo_weighted', 'balanced_accuracy', 'average_precision', 'neg_log_loss', 'neg_brier_score', 'adjusted_rand_score', 'rand_score', 'homogeneity_score', 'completeness_score', 'v_measure_score', 'mutual_info_score', 'adjusted_mutual_info_score', 'normalized_mutual_info_score', 'fowlkes_mallows_score', 'precision', 'precision_macro', 'precision_micro', 'precision_samples', 'precision_weighted', 'recall', 'recall_macro', 'recall_micro', 'recall_samples', 'recall_weighted', 'f1', 'f1_macro', 'f1_micro', 'f1_samples', 'f1_weighted', 'jaccard', 'jaccard_macro', 'jaccard_micro', 'jaccard_samples', 'jaccard_weighted'])"
            ]
          },
          "metadata": {},
          "execution_count": 1174
        }
      ],
      "source": [
        "from sklearn.metrics import SCORERS\n",
        "SCORERS.keys()"
      ]
    },
    {
      "cell_type": "code",
      "execution_count": null,
      "metadata": {
        "id": "tcLP_iEipZbA",
        "colab": {
          "base_uri": "https://localhost:8080/"
        },
        "outputId": "62badac0-6da6-4cc1-e43b-7b62381f1798"
      },
      "outputs": [
        {
          "output_type": "stream",
          "name": "stderr",
          "text": [
            "/usr/local/lib/python3.7/dist-packages/ipykernel_launcher.py:1: DataConversionWarning: A column-vector y was passed when a 1d array was expected. Please change the shape of y to (n_samples,), for example using ravel().\n",
            "  \"\"\"Entry point for launching an IPython kernel.\n"
          ]
        },
        {
          "output_type": "execute_result",
          "data": {
            "text/plain": [
              "RandomForestClassifier(max_depth=4, max_features='sqrt', min_samples_leaf=2,\n",
              "                       n_estimators=77)"
            ]
          },
          "metadata": {},
          "execution_count": 1175
        }
      ],
      "source": [
        "rf.fit(X_train, y_train)"
      ]
    },
    {
      "cell_type": "code",
      "execution_count": 77,
      "metadata": {
        "id": "4oCmA358pdEL"
      },
      "outputs": [],
      "source": [
        "y_pred_valid2 = rf.predict_proba(x_valid)[:,1]\n",
        "y_pred_prob2 = rf.predict_proba(X_train)[:,1]\n",
        "y_pred_test2 = rf.predict_proba(df_test)[:,1]"
      ]
    },
    {
      "cell_type": "markdown",
      "metadata": {
        "id": "dfV8LQBZpi4H"
      },
      "source": [
        "## CatBoost"
      ]
    },
    {
      "cell_type": "code",
      "execution_count": 78,
      "metadata": {
        "id": "0pILgEVBphoQ",
        "colab": {
          "base_uri": "https://localhost:8080/"
        },
        "outputId": "5c5570f6-f89a-46f5-dd87-9574f0cce97c"
      },
      "outputs": [
        {
          "output_type": "stream",
          "name": "stdout",
          "text": [
            "Collecting catboost\n",
            "  Downloading catboost-1.0.4-cp37-none-manylinux1_x86_64.whl (76.1 MB)\n",
            "\u001b[K     |████████████████████████████████| 76.1 MB 1.3 MB/s \n",
            "\u001b[?25hRequirement already satisfied: matplotlib in /usr/local/lib/python3.7/dist-packages (from catboost) (3.2.2)\n",
            "Requirement already satisfied: plotly in /usr/local/lib/python3.7/dist-packages (from catboost) (5.5.0)\n",
            "Requirement already satisfied: scipy in /usr/local/lib/python3.7/dist-packages (from catboost) (1.4.1)\n",
            "Requirement already satisfied: six in /usr/local/lib/python3.7/dist-packages (from catboost) (1.15.0)\n",
            "Requirement already satisfied: pandas>=0.24.0 in /usr/local/lib/python3.7/dist-packages (from catboost) (1.3.5)\n",
            "Requirement already satisfied: numpy>=1.16.0 in /usr/local/lib/python3.7/dist-packages (from catboost) (1.21.5)\n",
            "Requirement already satisfied: graphviz in /usr/local/lib/python3.7/dist-packages (from catboost) (0.10.1)\n",
            "Requirement already satisfied: python-dateutil>=2.7.3 in /usr/local/lib/python3.7/dist-packages (from pandas>=0.24.0->catboost) (2.8.2)\n",
            "Requirement already satisfied: pytz>=2017.3 in /usr/local/lib/python3.7/dist-packages (from pandas>=0.24.0->catboost) (2018.9)\n",
            "Requirement already satisfied: kiwisolver>=1.0.1 in /usr/local/lib/python3.7/dist-packages (from matplotlib->catboost) (1.3.2)\n",
            "Requirement already satisfied: cycler>=0.10 in /usr/local/lib/python3.7/dist-packages (from matplotlib->catboost) (0.11.0)\n",
            "Requirement already satisfied: pyparsing!=2.0.4,!=2.1.2,!=2.1.6,>=2.0.1 in /usr/local/lib/python3.7/dist-packages (from matplotlib->catboost) (3.0.7)\n",
            "Requirement already satisfied: tenacity>=6.2.0 in /usr/local/lib/python3.7/dist-packages (from plotly->catboost) (8.0.1)\n",
            "Installing collected packages: catboost\n",
            "Successfully installed catboost-1.0.4\n"
          ]
        }
      ],
      "source": [
        "!pip install catboost"
      ]
    },
    {
      "cell_type": "code",
      "execution_count": 79,
      "metadata": {
        "id": "rI01lf-pqV_p"
      },
      "outputs": [],
      "source": [
        "df2=pd.concat([ID,df],axis='columns')"
      ]
    },
    {
      "cell_type": "code",
      "execution_count": 80,
      "metadata": {
        "id": "Tcj8deNhpsGw"
      },
      "outputs": [],
      "source": [
        "Train=df2.iloc[:train.shape[0],:]\n",
        "# Train.head()"
      ]
    },
    {
      "cell_type": "code",
      "execution_count": 81,
      "metadata": {
        "id": "txsJKV2OpzFH"
      },
      "outputs": [],
      "source": [
        "features=[feature for feature in df2.columns if feature not in pred_features+['ID']]"
      ]
    },
    {
      "cell_type": "code",
      "execution_count": 82,
      "metadata": {
        "id": "288QYE43p4Bd"
      },
      "outputs": [],
      "source": [
        "from sklearn.tree import DecisionTreeClassifier\n",
        "import random\n",
        "from catboost import CatBoostClassifier"
      ]
    },
    {
      "cell_type": "code",
      "execution_count": 83,
      "metadata": {
        "id": "sAitmfQzp9Wd",
        "colab": {
          "base_uri": "https://localhost:8080/"
        },
        "outputId": "4cb92633-c320-4d40-8bbf-fda44f727023"
      },
      "outputs": [
        {
          "output_type": "stream",
          "name": "stdout",
          "text": [
            "0:\tlearn: 0.6746916\ttest: 0.6746325\tbest: 0.6746325 (0)\ttotal: 74.6ms\tremaining: 3m 6s\n",
            "500:\tlearn: 0.2956082\ttest: 0.3003724\tbest: 0.3003665 (497)\ttotal: 21.4s\tremaining: 1m 25s\n",
            "1000:\tlearn: 0.2830592\ttest: 0.3008588\tbest: 0.3003665 (497)\ttotal: 47.6s\tremaining: 1m 11s\n",
            "1500:\tlearn: 0.2714858\ttest: 0.3013460\tbest: 0.3003665 (497)\ttotal: 58s\tremaining: 38.6s\n",
            "2000:\tlearn: 0.2603472\ttest: 0.3020294\tbest: 0.3003665 (497)\ttotal: 1m 8s\tremaining: 17.1s\n",
            "2499:\tlearn: 0.2497800\ttest: 0.3029183\tbest: 0.3003665 (497)\ttotal: 1m 19s\tremaining: 0us\n",
            "\n",
            "bestTest = 0.3003665484\n",
            "bestIteration = 497\n",
            "\n",
            "Shrink model to first 498 iterations.\n"
          ]
        },
        {
          "output_type": "execute_result",
          "data": {
            "text/plain": [
              "<catboost.core.CatBoostClassifier at 0x7fc56e36af90>"
            ]
          },
          "metadata": {},
          "execution_count": 83
        }
      ],
      "source": [
        "clf = CatBoostClassifier(\n",
        "    iterations=2500,\n",
        "    eval_metric = 'Logloss',\n",
        "    learning_rate = 0.02,\n",
        "    verbose=500,\n",
        ")\n",
        "\n",
        "random.seed(2)\n",
        "dev_ids = random.sample(Train['ID'].to_list(), train.shape[0]-10000)\n",
        "dev = Train[Train.ID.isin(dev_ids)]\n",
        "val = Train[Train.ID.isin(dev_ids) == False]\n",
        "\n",
        "clf.fit(\n",
        "    dev[features], dev['Loan Status'],\n",
        "    eval_set=(val[features], val['Loan Status']),\n",
        ")"
      ]
    },
    {
      "cell_type": "code",
      "execution_count": 84,
      "metadata": {
        "id": "KYcSPcuVriVP"
      },
      "outputs": [],
      "source": [
        "y_pred_valid3 = clf.predict_proba(x_valid)[:,1]\n",
        "y_pred_prob3 = clf.predict_proba(X_train)[:,1]\n",
        "y_pred_test3 = clf.predict_proba(df_test)[:,1]"
      ]
    },
    {
      "cell_type": "markdown",
      "metadata": {
        "id": "lX9kWBFasEt-"
      },
      "source": [
        "## Logistic Regression"
      ]
    },
    {
      "cell_type": "code",
      "execution_count": 85,
      "metadata": {
        "id": "zxkl4AgrsCee",
        "colab": {
          "base_uri": "https://localhost:8080/"
        },
        "outputId": "f676f229-2434-4eb3-ef5e-56b2f95ae4ab"
      },
      "outputs": [
        {
          "output_type": "stream",
          "name": "stderr",
          "text": [
            "/usr/local/lib/python3.7/dist-packages/sklearn/utils/validation.py:993: DataConversionWarning: A column-vector y was passed when a 1d array was expected. Please change the shape of y to (n_samples, ), for example using ravel().\n",
            "  y = column_or_1d(y, warn=True)\n"
          ]
        },
        {
          "output_type": "execute_result",
          "data": {
            "text/plain": [
              "LogisticRegression(C=0.001, fit_intercept=False)"
            ]
          },
          "metadata": {},
          "execution_count": 85
        }
      ],
      "source": [
        "lg=LogisticRegression(fit_intercept=False, C=1e-3,penalty='l2')\n",
        "lg.fit(X_train, y_train)"
      ]
    },
    {
      "cell_type": "code",
      "execution_count": 86,
      "metadata": {
        "id": "ZQBbEj2jsLZA"
      },
      "outputs": [],
      "source": [
        "y_pred_valid4 = lg.predict_proba(x_valid)[:,1]\n",
        "\n",
        "y_pred_prob4 = lg.predict_proba(X_train)[:,1]\n",
        "y_pred_test4 = lg.predict_proba(df_test)[:,1]"
      ]
    },
    {
      "cell_type": "code",
      "execution_count": 87,
      "metadata": {
        "id": "qO_awmjqsNd0",
        "colab": {
          "base_uri": "https://localhost:8080/"
        },
        "outputId": "5b4cf1e4-7f99-4613-868a-1605c246ffc6"
      },
      "outputs": [
        {
          "output_type": "execute_result",
          "data": {
            "text/plain": [
              "2826.9651614169425"
            ]
          },
          "metadata": {},
          "execution_count": 87
        }
      ],
      "source": [
        "sum(y_pred_test4)"
      ]
    },
    {
      "cell_type": "markdown",
      "metadata": {
        "id": "dMR_9VH9uyUu"
      },
      "source": [
        "## Gradient Boosting Classifier"
      ]
    },
    {
      "cell_type": "code",
      "execution_count": null,
      "metadata": {
        "id": "pGd8NR84vLmv",
        "colab": {
          "base_uri": "https://localhost:8080/"
        },
        "outputId": "9c74386a-7e0f-4af2-e26a-dbf7ccff1598"
      },
      "outputs": [
        {
          "output_type": "stream",
          "name": "stderr",
          "text": [
            "/usr/local/lib/python3.7/dist-packages/sklearn/ensemble/_gb.py:494: DataConversionWarning: A column-vector y was passed when a 1d array was expected. Please change the shape of y to (n_samples, ), for example using ravel().\n",
            "  y = column_or_1d(y, warn=True)\n"
          ]
        },
        {
          "output_type": "execute_result",
          "data": {
            "text/plain": [
              "GradientBoostingClassifier(max_depth=4, max_features='sqrt', min_samples_leaf=2,\n",
              "                           min_samples_split=5, n_estimators=341)"
            ]
          },
          "metadata": {},
          "execution_count": 1106
        }
      ],
      "source": [
        "from sklearn.ensemble import GradientBoostingClassifier\n",
        "GRB = GradientBoostingClassifier(max_depth=4, max_features='sqrt',\n",
        "                       min_samples_leaf=2, min_samples_split=5,\n",
        "                       n_estimators=341)\n",
        "GRB.fit(X_train, y_train)"
      ]
    },
    {
      "cell_type": "code",
      "execution_count": null,
      "metadata": {
        "id": "OHxsyvs_vL_l"
      },
      "outputs": [],
      "source": [
        "y_pred_valid6 = GRB.predict_proba(x_valid)[:,1]\n",
        "\n",
        "y_pred_prob6 = GRB.predict_proba(X_train)[:,1]\n",
        "y_pred_test6 = GRB.predict_proba(df_test)[:,1]"
      ]
    },
    {
      "cell_type": "markdown",
      "metadata": {
        "id": "f-UvoVFOwBa5"
      },
      "source": [
        "### Hyper parameter tuning"
      ]
    },
    {
      "cell_type": "code",
      "execution_count": null,
      "metadata": {
        "id": "79gdVrbQvMVi"
      },
      "outputs": [],
      "source": [
        "n_estimators = [int(x) for x in np.linspace(start = 50, stop = 400, num = 20)]\n",
        "max_features = ['auto', 'sqrt']\n",
        "max_depth = [int(x) for x in np.linspace(2, 8, num = 6)]\n",
        "max_depth.append(None)\n",
        "min_samples_split = [2, 5, 10]\n",
        "min_samples_leaf = [1, 2, 4]"
      ]
    },
    {
      "cell_type": "code",
      "execution_count": null,
      "metadata": {
        "colab": {
          "base_uri": "https://localhost:8080/"
        },
        "id": "vv3aaN1ivMsk",
        "outputId": "c5116e0d-4709-4549-d08c-cb6478fb2002"
      },
      "outputs": [
        {
          "output_type": "stream",
          "name": "stdout",
          "text": [
            "{'n_estimators': [50, 68, 86, 105, 123, 142, 160, 178, 197, 215, 234, 252, 271, 289, 307, 326, 344, 363, 381, 400], 'max_depth': [2, 3, 4, 5, 6, 8, None], 'min_samples_split': [2, 5, 10], 'min_samples_leaf': [1, 2, 4]}\n"
          ]
        }
      ],
      "source": [
        "random_grid = {'n_estimators': n_estimators,\n",
        "'max_depth': max_depth,\n",
        "'min_samples_split': min_samples_split,\n",
        "'min_samples_leaf': min_samples_leaf,\n",
        "# 'bootstrap': bootstrap\n",
        "}\n",
        "print(random_grid)"
      ]
    },
    {
      "cell_type": "code",
      "execution_count": null,
      "metadata": {
        "id": "81PXp4BbwUPG"
      },
      "outputs": [],
      "source": [
        "GRB=GradientBoostingClassifier()\n",
        "grb_random = RandomizedSearchCV(estimator = GRB, param_distributions = random_grid,\n",
        "n_iter = 15,scoring='neg_log_loss', cv = 3, verbose=500, random_state=42, n_jobs = 5)"
      ]
    },
    {
      "cell_type": "code",
      "execution_count": null,
      "metadata": {
        "colab": {
          "base_uri": "https://localhost:8080/"
        },
        "id": "XkvoAh7RwVVo",
        "outputId": "c64feb24-10de-444a-bc38-bc903123b95a"
      },
      "outputs": [
        {
          "output_type": "stream",
          "name": "stdout",
          "text": [
            "Fitting 3 folds for each of 15 candidates, totalling 45 fits\n"
          ]
        },
        {
          "output_type": "stream",
          "name": "stderr",
          "text": [
            "/usr/local/lib/python3.7/dist-packages/sklearn/ensemble/_gb.py:494: DataConversionWarning: A column-vector y was passed when a 1d array was expected. Please change the shape of y to (n_samples, ), for example using ravel().\n",
            "  y = column_or_1d(y, warn=True)\n"
          ]
        },
        {
          "output_type": "execute_result",
          "data": {
            "text/plain": [
              "RandomizedSearchCV(cv=3, estimator=GradientBoostingClassifier(), n_iter=15,\n",
              "                   n_jobs=5,\n",
              "                   param_distributions={'max_depth': [2, 3, 4, 5, 6, 8, None],\n",
              "                                        'min_samples_leaf': [1, 2, 4],\n",
              "                                        'min_samples_split': [2, 5, 10],\n",
              "                                        'n_estimators': [50, 68, 86, 105, 123,\n",
              "                                                         142, 160, 178, 197,\n",
              "                                                         215, 234, 252, 271,\n",
              "                                                         289, 307, 326, 344,\n",
              "                                                         363, 381, 400]},\n",
              "                   random_state=42, scoring='neg_log_loss', verbose=500)"
            ]
          },
          "metadata": {},
          "execution_count": 1180
        }
      ],
      "source": [
        "grb_random.fit(train_x, train_y)"
      ]
    },
    {
      "cell_type": "code",
      "execution_count": null,
      "metadata": {
        "colab": {
          "base_uri": "https://localhost:8080/"
        },
        "id": "d6M_0l_TvNeO",
        "outputId": "15411358-29ab-46ae-a730-c9478fccf4ee"
      },
      "outputs": [
        {
          "output_type": "execute_result",
          "data": {
            "text/plain": [
              "GradientBoostingClassifier(max_depth=2, min_samples_leaf=2,\n",
              "                           min_samples_split=10, n_estimators=68)"
            ]
          },
          "metadata": {},
          "execution_count": 1181
        }
      ],
      "source": [
        "GRB=grb_random.best_estimator_\n",
        "GRB"
      ]
    },
    {
      "cell_type": "code",
      "execution_count": null,
      "metadata": {
        "colab": {
          "base_uri": "https://localhost:8080/"
        },
        "id": "nlmvsvvfxL9H",
        "outputId": "bc2b6125-f54d-4a51-bc3f-8c2d5b80519f"
      },
      "outputs": [
        {
          "output_type": "stream",
          "name": "stderr",
          "text": [
            "/usr/local/lib/python3.7/dist-packages/sklearn/ensemble/_gb.py:494: DataConversionWarning: A column-vector y was passed when a 1d array was expected. Please change the shape of y to (n_samples, ), for example using ravel().\n",
            "  y = column_or_1d(y, warn=True)\n"
          ]
        },
        {
          "output_type": "execute_result",
          "data": {
            "text/plain": [
              "GradientBoostingClassifier(max_depth=2, min_samples_leaf=2,\n",
              "                           min_samples_split=10, n_estimators=68)"
            ]
          },
          "metadata": {},
          "execution_count": 1182
        }
      ],
      "source": [
        "GRB.fit(X_train, y_train)"
      ]
    },
    {
      "cell_type": "code",
      "execution_count": null,
      "metadata": {
        "id": "Na4b7BA9xQmg"
      },
      "outputs": [],
      "source": [
        "y_pred_valid6 = GRB.predict_proba(x_valid)[:,1]\n",
        "\n",
        "y_pred_prob6 = GRB.predict_proba(X_train)[:,1]\n",
        "y_pred_test6 = GRB.predict_proba(df_test)[:,1]"
      ]
    },
    {
      "cell_type": "markdown",
      "metadata": {
        "id": "Gap4e_iDprID"
      },
      "source": [
        "## ANNS"
      ]
    },
    {
      "cell_type": "code",
      "execution_count": 88,
      "metadata": {
        "id": "er1_Y-bqsPdO"
      },
      "outputs": [],
      "source": [
        "# !pip install tensforflow\n",
        "import tensorflow\n",
        "import keras\n",
        "from keras.models import Sequential\n",
        "from keras.layers import Dense, Activation\n",
        "from keras.layers import LeakyReLU, PReLU, ELU\n",
        "from keras.layers import Dropout"
      ]
    },
    {
      "cell_type": "code",
      "execution_count": null,
      "metadata": {
        "id": "QGSoC7ZGpoJ2"
      },
      "outputs": [],
      "source": [
        "model = Sequential()\n",
        "model.add(Dense(25, input_dim=X_train.shape[1], kernel_initializer='he_uniform', activation='relu'))\n",
        "model.add(Dense(8,  kernel_initializer='he_uniform', activation='relu'))\n",
        "# model.add(Dropout(0.5))\n",
        "model.add(Dense(16,  kernel_initializer='he_uniform', activation='relu'))\n",
        "model.add(Dropout(0.5))\n",
        "model.add(Dense(12,  kernel_initializer='he_uniform', activation='relu'))\n",
        "model.add(Dropout(0.5))\n",
        "# model.add(Dense(64,  kernel_initializer='he_uniform', activation='relu'))\n",
        "# model.add(Dropout(0.5))\n",
        "# model.add(Dense(75,  kernel_initializer='he_uniform', activation='relu'))\n",
        "# model.add(Dropout(0.5))\n",
        "# model.add(Dense(50,  kernel_initializer='he_uniform', activation='relu'))\n",
        "# model.add(Dropout(0.5))\n",
        "model.add(Dense(1,  kernel_initializer='he_uniform', activation='sigmoid'))"
      ]
    },
    {
      "cell_type": "code",
      "execution_count": null,
      "metadata": {
        "id": "gmNyZTfLfBDx"
      },
      "outputs": [],
      "source": [
        "sgd=tensorflow.keras.optimizers.SGD(learning_rate=0.01, decay=1e-6,momentum=0.9, nesterov=True)"
      ]
    },
    {
      "cell_type": "code",
      "execution_count": null,
      "metadata": {
        "colab": {
          "base_uri": "https://localhost:8080/"
        },
        "id": "wxljdRJ6poi6",
        "outputId": "d52dff49-0883-4f82-b87f-cca145ec35c9"
      },
      "outputs": [
        {
          "output_type": "stream",
          "name": "stdout",
          "text": [
            "Epoch 1/20\n",
            "3036/3036 [==============================] - 6s 2ms/step - loss: 0.3143 - accuracy: 0.9075\n",
            "Epoch 2/20\n",
            "3036/3036 [==============================] - 6s 2ms/step - loss: 0.3084 - accuracy: 0.9076\n",
            "Epoch 3/20\n",
            "3036/3036 [==============================] - 6s 2ms/step - loss: 0.3082 - accuracy: 0.9076\n",
            "Epoch 4/20\n",
            "3036/3036 [==============================] - 6s 2ms/step - loss: 0.3083 - accuracy: 0.9076\n",
            "Epoch 5/20\n",
            "3036/3036 [==============================] - 6s 2ms/step - loss: 0.3082 - accuracy: 0.9076\n",
            "Epoch 6/20\n",
            "3036/3036 [==============================] - 6s 2ms/step - loss: 0.3083 - accuracy: 0.9076\n",
            "Epoch 7/20\n",
            "3036/3036 [==============================] - 6s 2ms/step - loss: 0.3082 - accuracy: 0.9076\n",
            "Epoch 8/20\n",
            "3036/3036 [==============================] - 6s 2ms/step - loss: 0.3083 - accuracy: 0.9076\n",
            "Epoch 9/20\n",
            "3036/3036 [==============================] - 6s 2ms/step - loss: 0.3082 - accuracy: 0.9076\n",
            "Epoch 10/20\n",
            "3036/3036 [==============================] - 6s 2ms/step - loss: 0.3082 - accuracy: 0.9076\n",
            "Epoch 11/20\n",
            "3036/3036 [==============================] - 6s 2ms/step - loss: 0.3081 - accuracy: 0.9076\n",
            "Epoch 12/20\n",
            "3036/3036 [==============================] - 6s 2ms/step - loss: 0.3082 - accuracy: 0.9076\n",
            "Epoch 13/20\n",
            "3036/3036 [==============================] - 6s 2ms/step - loss: 0.3082 - accuracy: 0.9076\n",
            "Epoch 14/20\n",
            "3036/3036 [==============================] - 6s 2ms/step - loss: 0.3081 - accuracy: 0.9076\n",
            "Epoch 15/20\n",
            "3036/3036 [==============================] - 6s 2ms/step - loss: 0.3082 - accuracy: 0.9076\n",
            "Epoch 16/20\n",
            "3036/3036 [==============================] - 6s 2ms/step - loss: 0.3082 - accuracy: 0.9076\n",
            "Epoch 17/20\n",
            "3036/3036 [==============================] - 6s 2ms/step - loss: 0.3082 - accuracy: 0.9076\n",
            "Epoch 18/20\n",
            "3036/3036 [==============================] - 6s 2ms/step - loss: 0.3082 - accuracy: 0.9076\n",
            "Epoch 19/20\n",
            "3036/3036 [==============================] - 6s 2ms/step - loss: 0.3082 - accuracy: 0.9076\n",
            "Epoch 20/20\n",
            "3036/3036 [==============================] - 6s 2ms/step - loss: 0.3082 - accuracy: 0.9076\n"
          ]
        }
      ],
      "source": [
        "model.compile(loss= \"binary_crossentropy\",optimizer=sgd,metrics=['accuracy'])\n",
        "\n",
        "model_history=model.fit(np.array(X_train), y_train, batch_size=20, epochs=20)"
      ]
    },
    {
      "cell_type": "code",
      "execution_count": null,
      "metadata": {
        "id": "Wy_8pQDDpo08"
      },
      "outputs": [],
      "source": [
        "y_pred_prob5=model.predict(X_train)\n",
        "y_pred_prob5=np.array(y_pred_prob5[:,0])"
      ]
    },
    {
      "cell_type": "code",
      "execution_count": null,
      "metadata": {
        "id": "JKSK08EoppIe"
      },
      "outputs": [],
      "source": [
        "y_pred_test5=np.array(model.predict(np.array(df_test)))[:,0]\n",
        "y_pred_valid5=np.array(model.predict(x_valid))[:,0]"
      ]
    },
    {
      "cell_type": "code",
      "source": [
        "y_pred_prob=y_pred_prob5\n",
        "y_pred_test=y_pred_test5\n",
        "y_pred_valid=y_pred_valid5"
      ],
      "metadata": {
        "id": "D9Fuv2AiIOHq"
      },
      "execution_count": null,
      "outputs": []
    },
    {
      "cell_type": "code",
      "source": [
        "print(log_loss(y_train, y_pred_prob))\n",
        "log_loss(y_valid, y_pred_valid)"
      ],
      "metadata": {
        "colab": {
          "base_uri": "https://localhost:8080/"
        },
        "id": "6-rsa7IDIObO",
        "outputId": "77a499f9-2ced-4ee0-ad01-05af5c2dbcda"
      },
      "execution_count": null,
      "outputs": [
        {
          "output_type": "stream",
          "name": "stdout",
          "text": [
            "0.30809023430414134\n"
          ]
        },
        {
          "output_type": "execute_result",
          "data": {
            "text/plain": [
              "0.3099199781859382"
            ]
          },
          "metadata": {},
          "execution_count": 1485
        }
      ]
    },
    {
      "cell_type": "markdown",
      "metadata": {
        "id": "R6wO5_1RjKZX"
      },
      "source": [
        "## SVC "
      ]
    },
    {
      "cell_type": "code",
      "execution_count": null,
      "metadata": {
        "id": "chiWSuEujm5p"
      },
      "outputs": [],
      "source": [
        "from sklearn.svm import SVC\n",
        "svm_clf=SVC(gamma=\"auto\", random_state=42)"
      ]
    },
    {
      "cell_type": "code",
      "execution_count": null,
      "metadata": {
        "colab": {
          "base_uri": "https://localhost:8080/"
        },
        "id": "1PhhpZPXjmxj",
        "outputId": "e3153b3a-046f-4ea4-9274-662ad53c80d3"
      },
      "outputs": [
        {
          "name": "stderr",
          "output_type": "stream",
          "text": [
            "/usr/local/lib/python3.7/dist-packages/sklearn/utils/validation.py:985: DataConversionWarning: A column-vector y was passed when a 1d array was expected. Please change the shape of y to (n_samples, ), for example using ravel().\n",
            "  y = column_or_1d(y, warn=True)\n"
          ]
        }
      ],
      "source": [
        "# svm_clf.fit(X_train,y_train)"
      ]
    },
    {
      "cell_type": "code",
      "execution_count": null,
      "metadata": {
        "id": "HMTEEre7jmon"
      },
      "outputs": [],
      "source": [
        "# y_pred_prob7=svm_clf.predict(X_train)\n",
        "# y_pred_valid7=svm_clf.predict(x_valid)\n",
        "# y_pred_test7=svm_clf.predict(df_test)"
      ]
    },
    {
      "cell_type": "code",
      "execution_count": null,
      "metadata": {
        "id": "P8Udf1ikjmXE"
      },
      "outputs": [],
      "source": [
        ""
      ]
    },
    {
      "cell_type": "code",
      "execution_count": null,
      "metadata": {
        "id": "1DNkt3mpjlgg"
      },
      "outputs": [],
      "source": [
        ""
      ]
    },
    {
      "cell_type": "markdown",
      "metadata": {
        "id": "UsG8EC2fxgtZ"
      },
      "source": [
        "# Stacking Models"
      ]
    },
    {
      "cell_type": "code",
      "execution_count": null,
      "metadata": {
        "id": "Z1iHEX1CppX8"
      },
      "outputs": [],
      "source": [
        "a=np.arange(0,1.1,0.1)\n",
        "b=np.arange(0,1.1,0.1)\n",
        "c=np.arange(0,1.1,0.1)\n",
        "d=np.arange(0,1.1,0.1)\n",
        "e=np.arange(0,1.1,0.1)\n",
        "f=np.arange(0,1.1,0.1)\n"
      ]
    },
    {
      "cell_type": "code",
      "execution_count": null,
      "metadata": {
        "id": "CU6vnp65ppnw"
      },
      "outputs": [],
      "source": [
        "S_T=[]\n",
        "S_V=[]\n",
        "A=[]\n",
        "B=[]\n",
        "C=[]  \n",
        "D=[]\n",
        "E=[]\n",
        "for i in range(len(a)):\n",
        "  for j in range(len(b)):\n",
        "    for k in range(len(c)):\n",
        "      for l in range(len(d)):\n",
        "        for m in range(len(e)):\n",
        "          if a[i]+b[j]+c[k]+d[l]+e[m]==1:\n",
        "            # print(a[i],b[j],c[k],d[l],e[m])\n",
        "            y_comb_valid=a[i]*y_pred_valid1+b[j]*y_pred_valid2+c[k]*y_pred_valid3+d[l]*y_pred_valid4+e[m]*y_pred_valid6\n",
        "            y_comb_train=a[i]*y_pred_prob1+b[j]*y_pred_prob2+c[k]*y_pred_prob3+d[l]*y_pred_prob4+e[m]*y_pred_prob6\n",
        "\n",
        "            # precisions, recalls, thresholds = precision_recall_curve(y_valid, y_comb_valid)\n",
        "            # # fpr, tpr, threshold = metrics.roc_curve(y_train, y_comb_train)\n",
        "            # cutoff = f1_cutoff(precisions, recalls, thresholds)\n",
        "\n",
        "            # predicted = pd.DataFrame()\n",
        "            # predicted[\"pred\"] = y_comb_train\n",
        "            # predicted[\"pred\"] = np.where(predicted[\"pred\"] > float(cutoff), 1, 0)\n",
        "\n",
        "            # pred_valid = pd.DataFrame()\n",
        "            # pred_valid[\"pred\"] = y_comb_valid\n",
        "            # pred_valid[\"pred\"] = np.where(pred_valid[\"pred\"] > float(cutoff), 1, 0)\n",
        "            log_loss(y_train, y_pred_prob)\n",
        "\n",
        "            score_train=log_loss(y_train, y_comb_train)\n",
        "            score_valid=log_loss(y_valid, y_comb_valid)\n",
        "            S_T.append(score_train)\n",
        "            S_V.append(score_valid)\n",
        "            A.append(a[i])\n",
        "            B.append(b[j])\n",
        "            C.append(c[k])\n",
        "            D.append(d[l])\n",
        "            E.append(e[m])\n",
        "\n",
        "S_T=np.array(S_T)\n",
        "S_V=np.array(S_V)\n",
        "A=np.array(A)\n",
        "B=np.array(B)\n",
        "C=np.array(C)\n",
        "D=np.array(D)\n",
        "E=np.array(E)\n",
        "\n",
        "S_T=pd.DataFrame(S_T,columns=['log_loss_TRAIN'])\n",
        "S_V=pd.DataFrame(S_V,columns=['log_loss_VALID'])\n",
        "A=pd.DataFrame(A,columns=['XG_Coeff'])\n",
        "B=pd.DataFrame(B,columns=['RF_Coeff'])\n",
        "C=pd.DataFrame(C,columns=['CAT_Coeff'])\n",
        "D=pd.DataFrame(D,columns=['LG_Coeff'])\n",
        "E=pd.DataFrame(E,columns=['GRB_Coeff'])\n",
        "\n",
        "\n",
        "dff=pd.concat([A,B,C,D,E,S_T,S_V],axis='columns')\n",
        "dff['comb']=dff['log_loss_TRAIN']+dff['log_loss_VALID']"
      ]
    },
    {
      "cell_type": "code",
      "execution_count": null,
      "metadata": {
        "colab": {
          "base_uri": "https://localhost:8080/",
          "height": 363
        },
        "id": "S3KVbiR9ykzS",
        "outputId": "3b883012-bf8b-42e0-f2ce-54bb2802763b"
      },
      "outputs": [
        {
          "output_type": "execute_result",
          "data": {
            "text/html": [
              "<div>\n",
              "<style scoped>\n",
              "    .dataframe tbody tr th:only-of-type {\n",
              "        vertical-align: middle;\n",
              "    }\n",
              "\n",
              "    .dataframe tbody tr th {\n",
              "        vertical-align: top;\n",
              "    }\n",
              "\n",
              "    .dataframe thead th {\n",
              "        text-align: right;\n",
              "    }\n",
              "</style>\n",
              "<table border=\"1\" class=\"dataframe\">\n",
              "  <thead>\n",
              "    <tr style=\"text-align: right;\">\n",
              "      <th></th>\n",
              "      <th>XG_Coeff</th>\n",
              "      <th>RF_Coeff</th>\n",
              "      <th>CAT_Coeff</th>\n",
              "      <th>LG_Coeff</th>\n",
              "      <th>GRB_Coeff</th>\n",
              "      <th>log_loss_TRAIN</th>\n",
              "      <th>log_loss_VALID</th>\n",
              "      <th>comb</th>\n",
              "    </tr>\n",
              "  </thead>\n",
              "  <tbody>\n",
              "    <tr>\n",
              "      <th>61</th>\n",
              "      <td>0.0</td>\n",
              "      <td>0.0</td>\n",
              "      <td>1.0</td>\n",
              "      <td>0.0</td>\n",
              "      <td>0.0</td>\n",
              "      <td>0.278925</td>\n",
              "      <td>0.282015</td>\n",
              "      <td>0.560940</td>\n",
              "    </tr>\n",
              "    <tr>\n",
              "      <th>60</th>\n",
              "      <td>0.0</td>\n",
              "      <td>0.0</td>\n",
              "      <td>0.9</td>\n",
              "      <td>0.1</td>\n",
              "      <td>0.0</td>\n",
              "      <td>0.279939</td>\n",
              "      <td>0.283037</td>\n",
              "      <td>0.562977</td>\n",
              "    </tr>\n",
              "    <tr>\n",
              "      <th>309</th>\n",
              "      <td>0.1</td>\n",
              "      <td>0.0</td>\n",
              "      <td>0.9</td>\n",
              "      <td>0.0</td>\n",
              "      <td>0.0</td>\n",
              "      <td>0.279624</td>\n",
              "      <td>0.283201</td>\n",
              "      <td>0.562825</td>\n",
              "    </tr>\n",
              "    <tr>\n",
              "      <th>59</th>\n",
              "      <td>0.0</td>\n",
              "      <td>0.0</td>\n",
              "      <td>0.9</td>\n",
              "      <td>0.0</td>\n",
              "      <td>0.1</td>\n",
              "      <td>0.279954</td>\n",
              "      <td>0.283310</td>\n",
              "      <td>0.563264</td>\n",
              "    </tr>\n",
              "    <tr>\n",
              "      <th>113</th>\n",
              "      <td>0.0</td>\n",
              "      <td>0.1</td>\n",
              "      <td>0.9</td>\n",
              "      <td>0.0</td>\n",
              "      <td>0.0</td>\n",
              "      <td>0.279253</td>\n",
              "      <td>0.283578</td>\n",
              "      <td>0.562831</td>\n",
              "    </tr>\n",
              "    <tr>\n",
              "      <th>58</th>\n",
              "      <td>0.0</td>\n",
              "      <td>0.0</td>\n",
              "      <td>0.8</td>\n",
              "      <td>0.2</td>\n",
              "      <td>0.0</td>\n",
              "      <td>0.280992</td>\n",
              "      <td>0.284100</td>\n",
              "      <td>0.565092</td>\n",
              "    </tr>\n",
              "    <tr>\n",
              "      <th>308</th>\n",
              "      <td>0.1</td>\n",
              "      <td>0.0</td>\n",
              "      <td>0.8</td>\n",
              "      <td>0.1</td>\n",
              "      <td>0.0</td>\n",
              "      <td>0.280657</td>\n",
              "      <td>0.284247</td>\n",
              "      <td>0.564903</td>\n",
              "    </tr>\n",
              "    <tr>\n",
              "      <th>57</th>\n",
              "      <td>0.0</td>\n",
              "      <td>0.0</td>\n",
              "      <td>0.8</td>\n",
              "      <td>0.1</td>\n",
              "      <td>0.1</td>\n",
              "      <td>0.280989</td>\n",
              "      <td>0.284356</td>\n",
              "      <td>0.565345</td>\n",
              "    </tr>\n",
              "    <tr>\n",
              "      <th>495</th>\n",
              "      <td>0.2</td>\n",
              "      <td>0.0</td>\n",
              "      <td>0.8</td>\n",
              "      <td>0.0</td>\n",
              "      <td>0.0</td>\n",
              "      <td>0.280351</td>\n",
              "      <td>0.284423</td>\n",
              "      <td>0.564774</td>\n",
              "    </tr>\n",
              "    <tr>\n",
              "      <th>307</th>\n",
              "      <td>0.1</td>\n",
              "      <td>0.0</td>\n",
              "      <td>0.8</td>\n",
              "      <td>0.0</td>\n",
              "      <td>0.1</td>\n",
              "      <td>0.280681</td>\n",
              "      <td>0.284531</td>\n",
              "      <td>0.565212</td>\n",
              "    </tr>\n",
              "  </tbody>\n",
              "</table>\n",
              "</div>"
            ],
            "text/plain": [
              "     XG_Coeff  RF_Coeff  CAT_Coeff  LG_Coeff  GRB_Coeff  log_loss_TRAIN  \\\n",
              "61        0.0       0.0        1.0       0.0        0.0        0.278925   \n",
              "60        0.0       0.0        0.9       0.1        0.0        0.279939   \n",
              "309       0.1       0.0        0.9       0.0        0.0        0.279624   \n",
              "59        0.0       0.0        0.9       0.0        0.1        0.279954   \n",
              "113       0.0       0.1        0.9       0.0        0.0        0.279253   \n",
              "58        0.0       0.0        0.8       0.2        0.0        0.280992   \n",
              "308       0.1       0.0        0.8       0.1        0.0        0.280657   \n",
              "57        0.0       0.0        0.8       0.1        0.1        0.280989   \n",
              "495       0.2       0.0        0.8       0.0        0.0        0.280351   \n",
              "307       0.1       0.0        0.8       0.0        0.1        0.280681   \n",
              "\n",
              "     log_loss_VALID      comb  \n",
              "61         0.282015  0.560940  \n",
              "60         0.283037  0.562977  \n",
              "309        0.283201  0.562825  \n",
              "59         0.283310  0.563264  \n",
              "113        0.283578  0.562831  \n",
              "58         0.284100  0.565092  \n",
              "308        0.284247  0.564903  \n",
              "57         0.284356  0.565345  \n",
              "495        0.284423  0.564774  \n",
              "307        0.284531  0.565212  "
            ]
          },
          "metadata": {},
          "execution_count": 293
        }
      ],
      "source": [
        "dff.sort_values(by='log_loss_VALID',ascending=True,inplace=True)\n",
        "dff.head(10)"
      ]
    },
    {
      "cell_type": "code",
      "execution_count": null,
      "metadata": {
        "id": "pGtuxftCsQG7"
      },
      "outputs": [],
      "source": [
        ""
      ]
    },
    {
      "cell_type": "code",
      "source": [
        "# a,b,c,d,e,f=0.15,0.15,0.15,0.2,0.2,0.15 "
      ],
      "metadata": {
        "id": "UrlpJ67Jfm0f"
      },
      "execution_count": null,
      "outputs": []
    },
    {
      "cell_type": "markdown",
      "source": [
        "## Combining Model predictions\n",
        "### Sometimes this work well and rank in the private leaderboard would be better due to generalization"
      ],
      "metadata": {
        "id": "zlFOqPX2WGiX"
      }
    },
    {
      "cell_type": "code",
      "execution_count": 89,
      "metadata": {
        "id": "gY7UAG52sQcL"
      },
      "outputs": [],
      "source": [
        "# # Random Forests\n",
        "y_pred_prob=y_pred_prob2\n",
        "y_pred_test=y_pred_test2\n",
        "y_pred_valid=y_pred_valid2\n",
        "\n",
        "# # XBG\n",
        "y_pred_prob=y_pred_prob1\n",
        "y_pred_test=y_pred_test1\n",
        "y_pred_valid=y_pred_valid1\n",
        "\n",
        "# # CatBoost\n",
        "y_pred_prob=y_pred_prob3\n",
        "y_pred_test=y_pred_test3\n",
        "y_pred_valid=y_pred_valid3\n",
        "\n",
        "# # LG\n",
        "# y_pred_prob=y_pred_prob4\n",
        "# y_pred_test=y_pred_test4\n",
        "# y_pred_valid=y_pred_valid4\n",
        "\n",
        "# # ANN\n",
        "# y_pred_prob=y_pred_prob5\n",
        "# y_pred_test=y_pred_test5\n",
        "# y_pred_valid=y_pred_valid5\n",
        "\n",
        "# # GRB\n",
        "# y_pred_prob=y_pred_prob6\n",
        "# y_pred_test=y_pred_test6\n",
        "# y_pred_valid=y_pred_valid6\n",
        "\n",
        "# y_pred_prob=0.5*y_pred_prob6+0.5*y_pred_prob3\n",
        "# y_pred_test=0.5*y_pred_test6+0.5*y_pred_test3\n",
        "# y_pred_valid=0.5*y_pred_valid6+0.5*y_pred_valid3\n",
        "\n",
        "# ##\n",
        "# y_pred_prob=0.25*y_pred_prob1+0.25*y_pred_prob3+0.25*y_pred_prob6+0.25*y_pred_prob4\n",
        "# y_pred_test=0.25*y_pred_test1+0.25*y_pred_test3+0.25*y_pred_test6+0.25*y_pred_test4\n",
        "# y_pred_valid=0.25*y_pred_valid1+0.25*y_pred_valid3+0.25*y_pred_valid6+0.25*y_pred_valid4\n",
        "\n",
        "# y_pred_prob=a*y_pred_prob1+b*y_pred_prob2+c*y_pred_prob3 +d*y_pred_prob5+e*y_pred_prob6\n",
        "# y_pred_test=a*y_pred_test1+b*y_pred_test2+c*y_pred_test3 +d*y_pred_test5+e*y_pred_test6\n",
        "# y_pred_valid=a*y_pred_valid1+b*y_pred_valid2+c*y_pred_valid3 +d*y_pred_valid5+e*y_pred_valid6\n"
      ]
    },
    {
      "cell_type": "code",
      "execution_count": 90,
      "metadata": {
        "id": "dTnjo7FksUhu"
      },
      "outputs": [],
      "source": [
        "from sklearn.metrics import precision_recall_curve\n",
        "precisions, recalls, thresholds = precision_recall_curve(y_valid, y_pred_valid)"
      ]
    },
    {
      "cell_type": "code",
      "execution_count": 91,
      "metadata": {
        "colab": {
          "base_uri": "https://localhost:8080/",
          "height": 264
        },
        "id": "1nGPAh3YsWZz",
        "outputId": "96bfaca5-1080-4caf-a02c-c0a3334a87e6"
      },
      "outputs": [
        {
          "output_type": "display_data",
          "data": {
            "image/png": "[encoded data removed]",
            "text/plain": [
              "<Figure size 432x288 with 1 Axes>"
            ]
          },
          "metadata": {
            "needs_background": "light"
          }
        }
      ],
      "source": [
        "def plot_precision_recall_vs_threshold(precisions, recalls, thresholds):\n",
        "  plt.plot(thresholds, precisions[:-1], \"b--\", label=\"Precision\")\n",
        "  plt.plot(thresholds, recalls[:-1], \"g-\", label=\"Recall\")\n",
        "[...]\n",
        "plot_precision_recall_vs_threshold(precisions, recalls, thresholds)\n",
        "plt.show()\n"
      ]
    },
    {
      "cell_type": "markdown",
      "source": [
        "## Cutoff to maximize ROC AUC"
      ],
      "metadata": {
        "id": "OJaWZhEcVept"
      }
    },
    {
      "cell_type": "code",
      "execution_count": 92,
      "metadata": {
        "id": "sGW60Q14sYaX"
      },
      "outputs": [],
      "source": [
        "def cutoff_youdens_j(fpr,tpr,thresholds):\n",
        "  a = tpr-fpr\n",
        "  b = sorted(zip(a,thresholds))\n",
        "  return b[-1][1] "
      ]
    },
    {
      "cell_type": "code",
      "execution_count": 93,
      "metadata": {
        "id": "z5yhnG_osbWn"
      },
      "outputs": [],
      "source": [
        "fpr, tpr, threshold = metrics.roc_curve(y_valid, y_pred_valid)"
      ]
    },
    {
      "cell_type": "markdown",
      "source": [
        "## Cutoff to maximize F1 Score"
      ],
      "metadata": {
        "id": "L1JKi_V5VlqO"
      }
    },
    {
      "cell_type": "code",
      "execution_count": 94,
      "metadata": {
        "id": "qoIADoHksdQa"
      },
      "outputs": [],
      "source": [
        "def f1_cutoff(precisions, recalls, thresholds):\n",
        "  a=precisions*recalls/(recalls+precisions)\n",
        "  b = sorted(zip(a,thresholds))\n",
        "  return b[-1][1]\n",
        "precisions, recalls, thresholds = precision_recall_curve(y_train, y_pred_prob)\n",
        "#y_valid, y_pred_valid"
      ]
    },
    {
      "cell_type": "code",
      "execution_count": 95,
      "metadata": {
        "colab": {
          "base_uri": "https://localhost:8080/"
        },
        "id": "i6kn-99usfJa",
        "outputId": "ac646a88-3dbc-43ea-8fce-6c9081e40ea0"
      },
      "outputs": [
        {
          "output_type": "execute_result",
          "data": {
            "text/plain": [
              "0.10229076906071098"
            ]
          },
          "metadata": {},
          "execution_count": 95
        }
      ],
      "source": [
        "cutoff = cutoff_youdens_j(fpr, tpr, threshold)\n",
        "cutoff"
      ]
    },
    {
      "cell_type": "code",
      "execution_count": 96,
      "metadata": {
        "colab": {
          "base_uri": "https://localhost:8080/"
        },
        "id": "QmSXBihjsiSn",
        "outputId": "11ffd5a1-c836-47e4-d6f1-0e5f2a69100f"
      },
      "outputs": [
        {
          "output_type": "execute_result",
          "data": {
            "text/plain": [
              "0.11097437267455522"
            ]
          },
          "metadata": {},
          "execution_count": 96
        }
      ],
      "source": [
        "cutoff_f1=f1_cutoff(precisions, recalls, thresholds)\n",
        "cutoff_f1"
      ]
    },
    {
      "cell_type": "code",
      "execution_count": 97,
      "metadata": {
        "colab": {
          "base_uri": "https://localhost:8080/",
          "height": 423
        },
        "id": "-7FbTmizskkX",
        "outputId": "f8a7c373-b0a0-4f13-cc49-2fdcfc1a9383"
      },
      "outputs": [
        {
          "output_type": "execute_result",
          "data": {
            "text/html": [
              "\n",
              "  <div id=\"df-e0b0fcae-c17e-4229-a3e5-44fb827f2c42\">\n",
              "    <div class=\"colab-df-container\">\n",
              "      <div>\n",
              "<style scoped>\n",
              "    .dataframe tbody tr th:only-of-type {\n",
              "        vertical-align: middle;\n",
              "    }\n",
              "\n",
              "    .dataframe tbody tr th {\n",
              "        vertical-align: top;\n",
              "    }\n",
              "\n",
              "    .dataframe thead th {\n",
              "        text-align: right;\n",
              "    }\n",
              "</style>\n",
              "<table border=\"1\" class=\"dataframe\">\n",
              "  <thead>\n",
              "    <tr style=\"text-align: right;\">\n",
              "      <th></th>\n",
              "      <th>Loan Status</th>\n",
              "    </tr>\n",
              "  </thead>\n",
              "  <tbody>\n",
              "    <tr>\n",
              "      <th>0</th>\n",
              "      <td>0.106632</td>\n",
              "    </tr>\n",
              "    <tr>\n",
              "      <th>1</th>\n",
              "      <td>0.070894</td>\n",
              "    </tr>\n",
              "    <tr>\n",
              "      <th>2</th>\n",
              "      <td>0.110524</td>\n",
              "    </tr>\n",
              "    <tr>\n",
              "      <th>3</th>\n",
              "      <td>0.090608</td>\n",
              "    </tr>\n",
              "    <tr>\n",
              "      <th>4</th>\n",
              "      <td>0.083602</td>\n",
              "    </tr>\n",
              "    <tr>\n",
              "      <th>...</th>\n",
              "      <td>...</td>\n",
              "    </tr>\n",
              "    <tr>\n",
              "      <th>28908</th>\n",
              "      <td>0.131255</td>\n",
              "    </tr>\n",
              "    <tr>\n",
              "      <th>28909</th>\n",
              "      <td>0.123609</td>\n",
              "    </tr>\n",
              "    <tr>\n",
              "      <th>28910</th>\n",
              "      <td>0.110204</td>\n",
              "    </tr>\n",
              "    <tr>\n",
              "      <th>28911</th>\n",
              "      <td>0.120498</td>\n",
              "    </tr>\n",
              "    <tr>\n",
              "      <th>28912</th>\n",
              "      <td>0.092522</td>\n",
              "    </tr>\n",
              "  </tbody>\n",
              "</table>\n",
              "<p>28913 rows × 1 columns</p>\n",
              "</div>\n",
              "      <button class=\"colab-df-convert\" onclick=\"convertToInteractive('df-e0b0fcae-c17e-4229-a3e5-44fb827f2c42')\"\n",
              "              title=\"Convert this dataframe to an interactive table.\"\n",
              "              style=\"display:none;\">\n",
              "        \n",
              "  <svg xmlns=\"http://www.w3.org/2000/svg\" height=\"24px\"viewBox=\"0 0 24 24\"\n",
              "       width=\"24px\">\n",
              "    <path d=\"M0 0h24v24H0V0z\" fill=\"none\"/>\n",
              "    <path d=\"M18.56 5.44l.94 2.06.94-2.06 2.06-.94-2.06-.94-.94-2.06-.94 2.06-2.06.94zm-11 1L8.5 8.5l.94-2.06 2.06-.94-2.06-.94L8.5 2.5l-.94 2.06-2.06.94zm10 10l.94 2.06.94-2.06 2.06-.94-2.06-.94-.94-2.06-.94 2.06-2.06.94z\"/><path d=\"M17.41 7.96l-1.37-1.37c-.4-.4-.92-.59-1.43-.59-.52 0-1.04.2-1.43.59L10.3 9.45l-7.72 7.72c-.78.78-.78 2.05 0 2.83L4 21.41c.39.39.9.59 1.41.59.51 0 1.02-.2 1.41-.59l7.78-7.78 2.81-2.81c.8-.78.8-2.07 0-2.86zM5.41 20L4 18.59l7.72-7.72 1.47 1.35L5.41 20z\"/>\n",
              "  </svg>\n",
              "      </button>\n",
              "      \n",
              "  <style>\n",
              "    .colab-df-container {\n",
              "      display:flex;\n",
              "      flex-wrap:wrap;\n",
              "      gap: 12px;\n",
              "    }\n",
              "\n",
              "    .colab-df-convert {\n",
              "      background-color: #E8F0FE;\n",
              "      border: none;\n",
              "      border-radius: 50%;\n",
              "      cursor: pointer;\n",
              "      display: none;\n",
              "      fill: #1967D2;\n",
              "      height: 32px;\n",
              "      padding: 0 0 0 0;\n",
              "      width: 32px;\n",
              "    }\n",
              "\n",
              "    .colab-df-convert:hover {\n",
              "      background-color: #E2EBFA;\n",
              "      box-shadow: 0px 1px 2px rgba(60, 64, 67, 0.3), 0px 1px 3px 1px rgba(60, 64, 67, 0.15);\n",
              "      fill: #174EA6;\n",
              "    }\n",
              "\n",
              "    [theme=dark] .colab-df-convert {\n",
              "      background-color: #3B4455;\n",
              "      fill: #D2E3FC;\n",
              "    }\n",
              "\n",
              "    [theme=dark] .colab-df-convert:hover {\n",
              "      background-color: #434B5C;\n",
              "      box-shadow: 0px 1px 3px 1px rgba(0, 0, 0, 0.15);\n",
              "      filter: drop-shadow(0px 1px 2px rgba(0, 0, 0, 0.3));\n",
              "      fill: #FFFFFF;\n",
              "    }\n",
              "  </style>\n",
              "\n",
              "      <script>\n",
              "        const buttonEl =\n",
              "          document.querySelector('#df-e0b0fcae-c17e-4229-a3e5-44fb827f2c42 button.colab-df-convert');\n",
              "        buttonEl.style.display =\n",
              "          google.colab.kernel.accessAllowed ? 'block' : 'none';\n",
              "\n",
              "        async function convertToInteractive(key) {\n",
              "          const element = document.querySelector('#df-e0b0fcae-c17e-4229-a3e5-44fb827f2c42');\n",
              "          const dataTable =\n",
              "            await google.colab.kernel.invokeFunction('convertToInteractive',\n",
              "                                                     [key], {});\n",
              "          if (!dataTable) return;\n",
              "\n",
              "          const docLinkHtml = 'Like what you see? Visit the ' +\n",
              "            '<a target=\"_blank\" href=https://colab.research.google.com/notebooks/data_table.ipynb>data table notebook</a>'\n",
              "            + ' to learn more about interactive tables.';\n",
              "          element.innerHTML = '';\n",
              "          dataTable['output_type'] = 'display_data';\n",
              "          await google.colab.output.renderOutput(dataTable, element);\n",
              "          const docLink = document.createElement('div');\n",
              "          docLink.innerHTML = docLinkHtml;\n",
              "          element.appendChild(docLink);\n",
              "        }\n",
              "      </script>\n",
              "    </div>\n",
              "  </div>\n",
              "  "
            ],
            "text/plain": [
              "       Loan Status\n",
              "0         0.106632\n",
              "1         0.070894\n",
              "2         0.110524\n",
              "3         0.090608\n",
              "4         0.083602\n",
              "...            ...\n",
              "28908     0.131255\n",
              "28909     0.123609\n",
              "28910     0.110204\n",
              "28911     0.120498\n",
              "28912     0.092522\n",
              "\n",
              "[28913 rows x 1 columns]"
            ]
          },
          "metadata": {},
          "execution_count": 97
        }
      ],
      "source": [
        "predicted = pd.DataFrame()\n",
        "predicted[\"pred\"] = y_pred_prob\n",
        "predicted[\"pred\"] = np.where(predicted[\"pred\"] > float(cutoff), 1, 0)\n",
        "predicted\n",
        "\n",
        "pred_valid = pd.DataFrame()\n",
        "pred_valid[\"pred\"] = y_pred_valid\n",
        "pred_valid[\"pred\"] = np.where(pred_valid[\"pred\"] > float(cutoff), 1, 0)\n",
        "pred_valid\n",
        "\n",
        "predictions = pd.DataFrame()\n",
        "predictions[\"Loan Status\"] = y_pred_test\n",
        "# predictions[\"Loan Status\"] = np.where(predictions[\"Loan Status\"] > float(cutoff), 1, 0)\n",
        "predictions"
      ]
    },
    {
      "cell_type": "code",
      "execution_count": null,
      "metadata": {
        "colab": {
          "base_uri": "https://localhost:8080/"
        },
        "id": "Wlo-1IZIsr7c",
        "outputId": "a8817b24-dbd1-4bec-bc19-3287d288a78d"
      },
      "outputs": [
        {
          "output_type": "stream",
          "name": "stdout",
          "text": [
            "[[36112 18992]\n",
            " [ 2541  3071]]\n",
            "0.6453488372093024\n",
            "0.13919231292208675\n",
            "0.5472202423378475\n",
            "0.65534262485482\n"
          ]
        },
        {
          "output_type": "execute_result",
          "data": {
            "text/plain": [
              "0.6012814335963337"
            ]
          },
          "metadata": {},
          "execution_count": 1530
        }
      ],
      "source": [
        "conf_matrix = metrics.confusion_matrix(y_train, predicted)\n",
        "print(conf_matrix)\n",
        "\n",
        "acc_train = metrics.accuracy_score(y_train, predicted)\n",
        "print(acc_train)\n",
        "precision_train = metrics.precision_score(y_train, predicted)\n",
        "print(precision_train)\n",
        "sensitivity_train = metrics.recall_score(y_train, predicted)\n",
        "print(sensitivity_train)\n",
        "specificity_train = conf_matrix[0,0] / (conf_matrix[0,0] + conf_matrix[0,1])\n",
        "print(specificity_train)\n",
        "roc_auc_score(y_train, predicted)"
      ]
    },
    {
      "cell_type": "markdown",
      "source": [
        "## Final log loss"
      ],
      "metadata": {
        "id": "WCDvh2EVC5u0"
      }
    },
    {
      "cell_type": "code",
      "execution_count": null,
      "metadata": {
        "colab": {
          "base_uri": "https://localhost:8080/"
        },
        "id": "PMNBNRQpvhpK",
        "outputId": "06ef978a-7693-4e4e-bcce-ec88e86ecb08"
      },
      "outputs": [
        {
          "output_type": "execute_result",
          "data": {
            "text/plain": [
              "0.3049797690604191"
            ]
          },
          "metadata": {},
          "execution_count": 1531
        }
      ],
      "source": [
        "from sklearn.metrics import log_loss\n",
        "log_loss(y_train, y_pred_prob)"
      ]
    },
    {
      "cell_type": "code",
      "execution_count": null,
      "metadata": {
        "colab": {
          "base_uri": "https://localhost:8080/"
        },
        "id": "lRMZ2fwNsut5",
        "outputId": "1dbcf4c5-ddef-4e8e-b9b7-e57a629d2b41"
      },
      "outputs": [
        {
          "output_type": "stream",
          "name": "stdout",
          "text": [
            "[[3941 2177]\n",
            " [ 302  327]]\n",
            "0.6325774418259967\n",
            "0.13059105431309903\n",
            "0.519872813990461\n",
            "0.6441647597254004\n"
          ]
        },
        {
          "output_type": "execute_result",
          "data": {
            "text/plain": [
              "0.5820187868579307"
            ]
          },
          "metadata": {},
          "execution_count": 1532
        }
      ],
      "source": [
        "conf_matrix = metrics.confusion_matrix(y_valid, pred_valid)\n",
        "print(conf_matrix)\n",
        "\n",
        "acc_train = metrics.accuracy_score(y_valid, pred_valid)\n",
        "print(acc_train)\n",
        "precision_train = metrics.precision_score(y_valid, pred_valid)\n",
        "print(precision_train)\n",
        "sensitivity_train = metrics.recall_score(y_valid, pred_valid)\n",
        "print(sensitivity_train)\n",
        "specificity_train = conf_matrix[0,0] / (conf_matrix[0,0] + conf_matrix[0,1])\n",
        "print(specificity_train)\n",
        "roc_auc_score(y_valid, pred_valid)"
      ]
    },
    {
      "cell_type": "code",
      "execution_count": null,
      "metadata": {
        "colab": {
          "base_uri": "https://localhost:8080/"
        },
        "id": "ggyIjqkNvvsn",
        "outputId": "04a0607d-1e4c-4d8b-b59d-41bd5796c8af"
      },
      "outputs": [
        {
          "output_type": "execute_result",
          "data": {
            "text/plain": [
              "0.30813392129710854"
            ]
          },
          "metadata": {},
          "execution_count": 1533
        }
      ],
      "source": [
        "log_loss(y_valid, y_pred_valid)"
      ]
    },
    {
      "cell_type": "code",
      "execution_count": null,
      "metadata": {
        "colab": {
          "base_uri": "https://localhost:8080/"
        },
        "id": "mfb4wQuTsxUh",
        "outputId": "c558b10f-6c4e-4a71-edfb-a148754f2aa7"
      },
      "outputs": [
        {
          "output_type": "stream",
          "name": "stdout",
          "text": [
            "0.22193315266485997\n"
          ]
        },
        {
          "output_type": "execute_result",
          "data": {
            "text/plain": [
              "0.20874561123523777"
            ]
          },
          "metadata": {},
          "execution_count": 1534
        }
      ],
      "source": [
        "from sklearn.metrics import f1_score\n",
        "print(f1_score(y_train, predicted))\n",
        "f1_score(y_valid, pred_valid)"
      ]
    },
    {
      "cell_type": "code",
      "execution_count": null,
      "metadata": {
        "colab": {
          "base_uri": "https://localhost:8080/"
        },
        "id": "qpAX7MX_s3YU",
        "outputId": "3af40c70-edea-4620-90bb-97348a31c630"
      },
      "outputs": [
        {
          "output_type": "execute_result",
          "data": {
            "text/plain": [
              "2473.0788941416554"
            ]
          },
          "metadata": {},
          "execution_count": 1535
        }
      ],
      "source": [
        "predictions['Loan Status'].sum()"
      ]
    },
    {
      "cell_type": "code",
      "execution_count": null,
      "metadata": {
        "id": "rYuhVomCtogx"
      },
      "outputs": [],
      "source": [
        ""
      ]
    },
    {
      "cell_type": "code",
      "execution_count": null,
      "metadata": {
        "id": "p50tZXr_to8d"
      },
      "outputs": [],
      "source": [
        "sample=pd.read_csv('/content/drive/MyDrive/Deloitte/submission.csv')"
      ]
    },
    {
      "cell_type": "code",
      "execution_count": null,
      "metadata": {
        "colab": {
          "base_uri": "https://localhost:8080/",
          "height": 206
        },
        "id": "K-O6Nfh_tt1Q",
        "outputId": "3a3b62ef-96f2-4606-c2a9-207881272b16"
      },
      "outputs": [
        {
          "output_type": "execute_result",
          "data": {
            "text/html": [
              "<div>\n",
              "<style scoped>\n",
              "    .dataframe tbody tr th:only-of-type {\n",
              "        vertical-align: middle;\n",
              "    }\n",
              "\n",
              "    .dataframe tbody tr th {\n",
              "        vertical-align: top;\n",
              "    }\n",
              "\n",
              "    .dataframe thead th {\n",
              "        text-align: right;\n",
              "    }\n",
              "</style>\n",
              "<table border=\"1\" class=\"dataframe\">\n",
              "  <thead>\n",
              "    <tr style=\"text-align: right;\">\n",
              "      <th></th>\n",
              "      <th>Loan Status</th>\n",
              "    </tr>\n",
              "  </thead>\n",
              "  <tbody>\n",
              "    <tr>\n",
              "      <th>0</th>\n",
              "      <td>0</td>\n",
              "    </tr>\n",
              "    <tr>\n",
              "      <th>1</th>\n",
              "      <td>0</td>\n",
              "    </tr>\n",
              "    <tr>\n",
              "      <th>2</th>\n",
              "      <td>0</td>\n",
              "    </tr>\n",
              "    <tr>\n",
              "      <th>3</th>\n",
              "      <td>0</td>\n",
              "    </tr>\n",
              "    <tr>\n",
              "      <th>4</th>\n",
              "      <td>0</td>\n",
              "    </tr>\n",
              "  </tbody>\n",
              "</table>\n",
              "</div>"
            ],
            "text/plain": [
              "   Loan Status\n",
              "0            0\n",
              "1            0\n",
              "2            0\n",
              "3            0\n",
              "4            0"
            ]
          },
          "metadata": {},
          "execution_count": 1537
        }
      ],
      "source": [
        "sample.head()"
      ]
    },
    {
      "cell_type": "code",
      "execution_count": null,
      "metadata": {
        "colab": {
          "base_uri": "https://localhost:8080/",
          "height": 206
        },
        "id": "Duu8IByOtwEB",
        "outputId": "aacaa46a-b37f-4aba-cc21-6d3d50784f90"
      },
      "outputs": [
        {
          "output_type": "execute_result",
          "data": {
            "text/html": [
              "<div>\n",
              "<style scoped>\n",
              "    .dataframe tbody tr th:only-of-type {\n",
              "        vertical-align: middle;\n",
              "    }\n",
              "\n",
              "    .dataframe tbody tr th {\n",
              "        vertical-align: top;\n",
              "    }\n",
              "\n",
              "    .dataframe thead th {\n",
              "        text-align: right;\n",
              "    }\n",
              "</style>\n",
              "<table border=\"1\" class=\"dataframe\">\n",
              "  <thead>\n",
              "    <tr style=\"text-align: right;\">\n",
              "      <th></th>\n",
              "      <th>Loan Status</th>\n",
              "    </tr>\n",
              "  </thead>\n",
              "  <tbody>\n",
              "    <tr>\n",
              "      <th>0</th>\n",
              "      <td>0.082574</td>\n",
              "    </tr>\n",
              "    <tr>\n",
              "      <th>1</th>\n",
              "      <td>0.069143</td>\n",
              "    </tr>\n",
              "    <tr>\n",
              "      <th>2</th>\n",
              "      <td>0.087515</td>\n",
              "    </tr>\n",
              "    <tr>\n",
              "      <th>3</th>\n",
              "      <td>0.076256</td>\n",
              "    </tr>\n",
              "    <tr>\n",
              "      <th>4</th>\n",
              "      <td>0.078822</td>\n",
              "    </tr>\n",
              "  </tbody>\n",
              "</table>\n",
              "</div>"
            ],
            "text/plain": [
              "   Loan Status\n",
              "0     0.082574\n",
              "1     0.069143\n",
              "2     0.087515\n",
              "3     0.076256\n",
              "4     0.078822"
            ]
          },
          "metadata": {},
          "execution_count": 1538
        }
      ],
      "source": [
        "predictions.head()"
      ]
    },
    {
      "cell_type": "code",
      "execution_count": null,
      "metadata": {
        "id": "5nVyx5DSuDRD"
      },
      "outputs": [],
      "source": [
        "predictions.to_csv('comb.csv',index=False)"
      ]
    },
    {
      "cell_type": "code",
      "execution_count": null,
      "metadata": {
        "id": "lkmQT6GcuMPu"
      },
      "outputs": [],
      "source": [
        ""
      ]
    }
  ],
  "metadata": {
    "colab": {
      "collapsed_sections": [],
      "name": "Deloitte.ipynb",
      "provenance": [],
      "toc_visible": true
    },
    "kernelspec": {
      "display_name": "Python 3",
      "name": "python3"
    },
    "language_info": {
      "name": "python"
    }
  },
  "nbformat": 4,
  "nbformat_minor": 0
}